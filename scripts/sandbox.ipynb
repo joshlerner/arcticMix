{
 "cells": [
  {
   "cell_type": "code",
   "execution_count": 1,
   "id": "07084f05-c1d2-4b03-ac34-b5577e8f3290",
   "metadata": {},
   "outputs": [],
   "source": [
    "import netCDF4 as nc\n",
    "import scipy.io as sio\n",
    "import numpy as np"
   ]
  },
  {
   "cell_type": "code",
   "execution_count": 2,
   "id": "3b691baa-1635-42ca-94bf-6bcf50c582a2",
   "metadata": {},
   "outputs": [
    {
     "data": {
      "text/plain": [
       "dict_keys(['lat', 'lon', 'Depth', 'zcell', 'gridarea', 'angleCS', 'angleSN', 'ocnmsk', 'hFacS', 'hFacW', 'Year', 'Month', 'wvel', 'theta', 'trac_A', 'trac_B', 'trac_C', 'trac_D', 'trac_H', 'salinity', 'xvel', 'yvel', 'eta', 'SIconc', 'SIHeff', 'kappaS', 'kappaT', 'ADVx_TH', 'ADVy_TH', 'ADVz_TH', 'ADVx_SLT', 'ADVy_SLT', 'ADVz_SLT', 'DIFFz_TH_E', 'DIFFz_TH_I', 'DIFFz_SLT_E', 'DIFFz_SLT_I', 'qnet', 'N2'])"
      ]
     },
     "execution_count": 2,
     "metadata": {},
     "output_type": "execute_result"
    }
   ],
   "source": [
    "file = nc.Dataset('/ocean/swaterma/mit_runs/nc_files_5basicruns/Arctic_CTLnew.nc')\n",
    "file.variables.keys()"
   ]
  },
  {
   "cell_type": "code",
   "execution_count": 3,
   "id": "14522af4-a2d4-439b-a8a3-9aad0172d398",
   "metadata": {},
   "outputs": [
    {
     "data": {
      "text/plain": [
       "array([2008., 2009., 2010., 2011., 2012., 2013.], dtype=float32)"
      ]
     },
     "execution_count": 3,
     "metadata": {},
     "output_type": "execute_result"
    }
   ],
   "source": [
    "np.array(file.variables['Year'][-6:])"
   ]
  },
  {
   "cell_type": "code",
   "execution_count": 4,
   "id": "47d8898c-1f27-4e67-89b9-8b392f79db9e",
   "metadata": {},
   "outputs": [
    {
     "data": {
      "text/plain": [
       "(35, 12, 50, 192, 210)"
      ]
     },
     "execution_count": 4,
     "metadata": {},
     "output_type": "execute_result"
    }
   ],
   "source": [
    "np.shape(np.array(file.variables['N2']))"
   ]
  },
  {
   "cell_type": "raw",
   "id": "93cb5fec-eb18-493d-a4c4-17fecf2056ee",
   "metadata": {},
   "source": [
    "np.shape(file.variables['kappaT'][-6:])"
   ]
  },
  {
   "cell_type": "code",
   "execution_count": 34,
   "id": "e1ae02a9-6466-44e4-b8a6-1e3f11c2e0d1",
   "metadata": {},
   "outputs": [
    {
     "data": {
      "text/plain": [
       "(50, 192, 210)"
      ]
     },
     "execution_count": 34,
     "metadata": {},
     "output_type": "execute_result"
    }
   ],
   "source": [
    "np.shape(np.nanmean(file.variables['kappaT'][-6:], axis=(0,1)))"
   ]
  },
  {
   "cell_type": "code",
   "execution_count": null,
   "id": "dd70bb24-0aeb-43b5-a116-a74b38a99bd2",
   "metadata": {},
   "outputs": [],
   "source": [
    "sio.savemat(savepath + filename, data)"
   ]
  },
  {
   "cell_type": "code",
   "execution_count": null,
   "id": "3bbd275a-5f51-4414-8513-d7daf6caeb0f",
   "metadata": {},
   "outputs": [],
   "source": [
    "# average and save the data to be exported and loaded later\n",
    "\n",
    "# resample(oldgrid, olddata, newgrid, distancecutoff)\n",
    "# r is the average area ratio between grids\n",
    "# flatten oldgrid and olddata\n",
    "# for i, j in m, n: (m, n) are the dimensions of newgrid\n",
    "# search flattened oldgrid for r nearest neighbors, get indices\n",
    "# average r olddata values and assign newdata[i,j], if distance is greater than cutoff, use nan\n",
    "# return newdata\n"
   ]
  }
 ],
 "metadata": {
  "kernelspec": {
   "display_name": "Python 3 (ipykernel)",
   "language": "python",
   "name": "python3"
  },
  "language_info": {
   "codemirror_mode": {
    "name": "ipython",
    "version": 3
   },
   "file_extension": ".py",
   "mimetype": "text/x-python",
   "name": "python",
   "nbconvert_exporter": "python",
   "pygments_lexer": "ipython3",
   "version": "3.8.10"
  }
 },
 "nbformat": 4,
 "nbformat_minor": 5
}
