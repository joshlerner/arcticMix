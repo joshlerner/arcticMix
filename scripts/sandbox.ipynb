{
 "cells": [
  {
   "cell_type": "code",
   "execution_count": 145,
   "id": "07084f05-c1d2-4b03-ac34-b5577e8f3290",
   "metadata": {},
   "outputs": [],
   "source": [
    "from arctic_functions import *\n",
    "from arctic_objects import *\n",
    "import matplotlib.pyplot as plt\n",
    "import numpy as np"
   ]
  },
  {
   "cell_type": "code",
   "execution_count": 146,
   "id": "9297c38a",
   "metadata": {},
   "outputs": [],
   "source": [
    "testx = 100\n",
    "testy = 100\n",
    "testz = np.linspace(10, 100, 10)\n",
    "newx = 10\n",
    "newy = 10\n",
    "newz = np.logspace(1, 2, 10)"
   ]
  },
  {
   "cell_type": "code",
   "execution_count": 147,
   "id": "7e5162d1",
   "metadata": {},
   "outputs": [],
   "source": [
    "test_grid = {'lat': None, 'lon': None, 'zcell': None, 'vol': None, 'ocnmsk': None}\n",
    "test_grid['lon'] = np.array([[i for j in range(testy)] for i in range(testx)])\n",
    "test_grid['lat'] = np.array([[j for j in range(testx)] for i in range(testx)])\n",
    "test_grid['zcell'] = testz\n",
    "test_grid['vol'] = np.ones((testx,testy,len(testz)))\n",
    "test_grid['ocnmsk'] = np.ones((testx,testy,len(testz)))\n",
    "\n",
    "new_grid = {'lat': None, 'lon': None, 'zcell': None, 'vol': None, 'ocnmsk': None}\n",
    "new_grid['lon'] = np.array([[testx/newx*i for j in range(newy)] for i in range(newx)])\n",
    "new_grid['lat'] = np.array([[testy/newy*j for j in range(newy)] for i in range(newx)])\n",
    "new_grid['zcell'] = newz\n",
    "new_grid['vol'] = np.ones((newx,newy,len(newz)))\n",
    "new_grid['ocnmsk'] = np.ones((newx,newy,len(newz)))\n",
    "\n",
    "test_data = np.array([[[k*np.sqrt(i**2 + j**2) for k in range(len(testz))] for j in range(testy)] for i in range(testx)], dtype=float)"
   ]
  },
  {
   "cell_type": "code",
   "execution_count": 148,
   "id": "f1618613",
   "metadata": {},
   "outputs": [],
   "source": [
    "new_data = resample(test_grid, test_data, new_grid)"
   ]
  },
  {
   "cell_type": "code",
   "execution_count": 163,
   "id": "f9acb6f7",
   "metadata": {},
   "outputs": [
    {
     "name": "stdout",
     "output_type": "stream",
     "text": [
      "60.0\n"
     ]
    },
    {
     "data": {
      "image/png": "[encoded data removed]",
      "text/plain": [
       "<Figure size 432x288 with 2 Axes>"
      ]
     },
     "metadata": {
      "needs_background": "light"
     },
     "output_type": "display_data"
    }
   ],
   "source": [
    "cf = plt.contourf(test_grid['lon'], test_grid['lat'], test_data[:,:,5])\n",
    "plt.colorbar(cf)\n",
    "print(test_grid['zcell'][5])"
   ]
  },
  {
   "cell_type": "code",
   "execution_count": 170,
   "id": "bbe1f96d",
   "metadata": {},
   "outputs": [
    {
     "name": "stdout",
     "output_type": "stream",
     "text": [
      "59.94842503189409\n"
     ]
    },
    {
     "data": {
      "image/png": "[encoded data removed]",
      "text/plain": [
       "<Figure size 432x288 with 2 Axes>"
      ]
     },
     "metadata": {
      "needs_background": "light"
     },
     "output_type": "display_data"
    }
   ],
   "source": [
    "cf = plt.contourf(new_grid['lon'], new_grid['lat'], new_data[:,:,7])\n",
    "plt.colorbar(cf)\n",
    "print(new_grid['zcell'][7])"
   ]
  },
  {
   "cell_type": "code",
   "execution_count": null,
   "id": "c7d1189c",
   "metadata": {},
   "outputs": [],
   "source": []
  },
  {
   "cell_type": "code",
   "execution_count": 167,
   "id": "e045f01e",
   "metadata": {},
   "outputs": [
    {
     "data": {
      "text/plain": [
       "array([ 10.,  20.,  30.,  40.,  50.,  60.,  70.,  80.,  90., 100.])"
      ]
     },
     "execution_count": 167,
     "metadata": {},
     "output_type": "execute_result"
    }
   ],
   "source": [
    "test_grid['zcell']"
   ]
  },
  {
   "cell_type": "code",
   "execution_count": 153,
   "id": "fb55f4e2",
   "metadata": {},
   "outputs": [
    {
     "data": {
      "text/plain": [
       "array([[  0.        ,   5.        ,  10.        , ..., 485.        ,\n",
       "        490.        , 495.        ],\n",
       "       [  5.        ,   7.07106781,  11.18033989, ..., 485.02577251,\n",
       "        490.02550954, 495.02525188],\n",
       "       [ 10.        ,  11.18033989,  14.14213562, ..., 485.10308183,\n",
       "        490.10203019, 495.1009998 ],\n",
       "       ...,\n",
       "       [485.        , 485.02577251, 485.10308183, ..., 685.89357775,\n",
       "        689.43817707, 693.0007215 ],\n",
       "       [490.        , 490.02550954, 490.10203019, ..., 689.43817707,\n",
       "        692.96464556, 696.50915285],\n",
       "       [495.        , 495.02525188, 495.1009998 , ..., 693.0007215 ,\n",
       "        696.50915285, 700.03571337]])"
      ]
     },
     "execution_count": 153,
     "metadata": {},
     "output_type": "execute_result"
    }
   ],
   "source": [
    "test_data[:,:,5]"
   ]
  },
  {
   "cell_type": "code",
   "execution_count": null,
   "id": "5ac99503",
   "metadata": {},
   "outputs": [],
   "source": []
  }
 ],
 "metadata": {
  "kernelspec": {
   "display_name": "Python 3 (ipykernel)",
   "language": "python",
   "name": "python3"
  },
  "language_info": {
   "codemirror_mode": {
    "name": "ipython",
    "version": 3
   },
   "file_extension": ".py",
   "mimetype": "text/x-python",
   "name": "python",
   "nbconvert_exporter": "python",
   "pygments_lexer": "ipython3",
   "version": "3.9.12"
  }
 },
 "nbformat": 4,
 "nbformat_minor": 5
}
