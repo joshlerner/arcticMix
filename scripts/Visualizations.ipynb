{
 "cells": [
  {
   "cell_type": "markdown",
   "id": "e9f73a19",
   "metadata": {},
   "source": [
    "## Load Data From .mat Files"
   ]
  },
  {
   "cell_type": "code",
   "execution_count": 1,
   "id": "565a9911",
   "metadata": {},
   "outputs": [],
   "source": [
    "%load_ext autoreload\n",
    "%autoreload 2"
   ]
  },
  {
   "cell_type": "code",
   "execution_count": 2,
   "id": "0b2a7004",
   "metadata": {},
   "outputs": [
    {
     "ename": "KeyboardInterrupt",
     "evalue": "",
     "output_type": "error",
     "traceback": [
      "\u001b[0;31m---------------------------------------------------------------------------\u001b[0m",
      "\u001b[0;31mKeyboardInterrupt\u001b[0m                         Traceback (most recent call last)",
      "Input \u001b[0;32mIn [2]\u001b[0m, in \u001b[0;36m<cell line: 1>\u001b[0;34m()\u001b[0m\n\u001b[0;32m----> 1\u001b[0m \u001b[38;5;28;01mfrom\u001b[39;00m \u001b[38;5;21;01marctic_objects\u001b[39;00m \u001b[38;5;28;01mimport\u001b[39;00m \u001b[38;5;241m*\u001b[39m\n\u001b[1;32m      2\u001b[0m \u001b[38;5;28;01mfrom\u001b[39;00m \u001b[38;5;21;01marctic_functions\u001b[39;00m \u001b[38;5;28;01mimport\u001b[39;00m \u001b[38;5;241m*\u001b[39m\n\u001b[1;32m      3\u001b[0m \u001b[38;5;28;01mimport\u001b[39;00m \u001b[38;5;21;01mscipy\u001b[39;00m\u001b[38;5;21;01m.\u001b[39;00m\u001b[38;5;21;01mio\u001b[39;00m \u001b[38;5;28;01mas\u001b[39;00m \u001b[38;5;21;01msio\u001b[39;00m\n",
      "File \u001b[0;32m~/Desktop/arcticMix/scripts/arctic_objects.py:4\u001b[0m, in \u001b[0;36m<module>\u001b[0;34m\u001b[0m\n\u001b[1;32m      2\u001b[0m \u001b[38;5;28;01mimport\u001b[39;00m \u001b[38;5;21;01mcartopy\u001b[39;00m\u001b[38;5;21;01m.\u001b[39;00m\u001b[38;5;21;01mcrs\u001b[39;00m \u001b[38;5;28;01mas\u001b[39;00m \u001b[38;5;21;01mccrs\u001b[39;00m\n\u001b[1;32m      3\u001b[0m \u001b[38;5;28;01mfrom\u001b[39;00m \u001b[38;5;21;01marctic_functions\u001b[39;00m \u001b[38;5;28;01mimport\u001b[39;00m \u001b[38;5;241m*\u001b[39m\n\u001b[0;32m----> 4\u001b[0m \u001b[38;5;28;01mimport\u001b[39;00m \u001b[38;5;21;01mmatplotlib\u001b[39;00m\u001b[38;5;21;01m.\u001b[39;00m\u001b[38;5;21;01mpyplot\u001b[39;00m \u001b[38;5;28;01mas\u001b[39;00m \u001b[38;5;21;01mplt\u001b[39;00m\n\u001b[1;32m      5\u001b[0m \u001b[38;5;28;01mimport\u001b[39;00m \u001b[38;5;21;01mmatplotlib\u001b[39;00m\u001b[38;5;21;01m.\u001b[39;00m\u001b[38;5;21;01mpath\u001b[39;00m \u001b[38;5;28;01mas\u001b[39;00m \u001b[38;5;21;01mmpath\u001b[39;00m\n\u001b[1;32m      6\u001b[0m \u001b[38;5;28;01mfrom\u001b[39;00m \u001b[38;5;21;01mmatplotlib\u001b[39;00m \u001b[38;5;28;01mimport\u001b[39;00m ticker\n",
      "File \u001b[0;32m~/opt/anaconda3/lib/python3.9/site-packages/matplotlib/pyplot.py:57\u001b[0m, in \u001b[0;36m<module>\u001b[0;34m\u001b[0m\n\u001b[1;32m     55\u001b[0m \u001b[38;5;28;01mfrom\u001b[39;00m \u001b[38;5;21;01mmatplotlib\u001b[39;00m \u001b[38;5;28;01mimport\u001b[39;00m docstring\n\u001b[1;32m     56\u001b[0m \u001b[38;5;28;01mfrom\u001b[39;00m \u001b[38;5;21;01mmatplotlib\u001b[39;00m\u001b[38;5;21;01m.\u001b[39;00m\u001b[38;5;21;01mbackend_bases\u001b[39;00m \u001b[38;5;28;01mimport\u001b[39;00m FigureCanvasBase, MouseButton\n\u001b[0;32m---> 57\u001b[0m \u001b[38;5;28;01mfrom\u001b[39;00m \u001b[38;5;21;01mmatplotlib\u001b[39;00m\u001b[38;5;21;01m.\u001b[39;00m\u001b[38;5;21;01mfigure\u001b[39;00m \u001b[38;5;28;01mimport\u001b[39;00m Figure, figaspect\n\u001b[1;32m     58\u001b[0m \u001b[38;5;28;01mfrom\u001b[39;00m \u001b[38;5;21;01mmatplotlib\u001b[39;00m\u001b[38;5;21;01m.\u001b[39;00m\u001b[38;5;21;01mgridspec\u001b[39;00m \u001b[38;5;28;01mimport\u001b[39;00m GridSpec, SubplotSpec\n\u001b[1;32m     59\u001b[0m \u001b[38;5;28;01mfrom\u001b[39;00m \u001b[38;5;21;01mmatplotlib\u001b[39;00m \u001b[38;5;28;01mimport\u001b[39;00m rcParams, rcParamsDefault, get_backend, rcParamsOrig\n",
      "File \u001b[0;32m~/opt/anaconda3/lib/python3.9/site-packages/matplotlib/figure.py:25\u001b[0m, in \u001b[0;36m<module>\u001b[0;34m\u001b[0m\n\u001b[1;32m     22\u001b[0m \u001b[38;5;28;01mimport\u001b[39;00m \u001b[38;5;21;01mnumpy\u001b[39;00m \u001b[38;5;28;01mas\u001b[39;00m \u001b[38;5;21;01mnp\u001b[39;00m\n\u001b[1;32m     24\u001b[0m \u001b[38;5;28;01mimport\u001b[39;00m \u001b[38;5;21;01mmatplotlib\u001b[39;00m \u001b[38;5;28;01mas\u001b[39;00m \u001b[38;5;21;01mmpl\u001b[39;00m\n\u001b[0;32m---> 25\u001b[0m \u001b[38;5;28;01mfrom\u001b[39;00m \u001b[38;5;21;01mmatplotlib\u001b[39;00m \u001b[38;5;28;01mimport\u001b[39;00m _blocking_input, docstring, projections\n\u001b[1;32m     26\u001b[0m \u001b[38;5;28;01mfrom\u001b[39;00m \u001b[38;5;21;01mmatplotlib\u001b[39;00m\u001b[38;5;21;01m.\u001b[39;00m\u001b[38;5;21;01martist\u001b[39;00m \u001b[38;5;28;01mimport\u001b[39;00m (\n\u001b[1;32m     27\u001b[0m     Artist, allow_rasterization, _finalize_rasterization)\n\u001b[1;32m     28\u001b[0m \u001b[38;5;28;01mfrom\u001b[39;00m \u001b[38;5;21;01mmatplotlib\u001b[39;00m\u001b[38;5;21;01m.\u001b[39;00m\u001b[38;5;21;01mbackend_bases\u001b[39;00m \u001b[38;5;28;01mimport\u001b[39;00m (\n\u001b[1;32m     29\u001b[0m     FigureCanvasBase, NonGuiException, MouseButton, _get_renderer)\n",
      "File \u001b[0;32m~/opt/anaconda3/lib/python3.9/site-packages/matplotlib/projections/__init__.py:56\u001b[0m, in \u001b[0;36m<module>\u001b[0;34m\u001b[0m\n\u001b[1;32m      1\u001b[0m \u001b[38;5;124;03m\"\"\"\u001b[39;00m\n\u001b[1;32m      2\u001b[0m \u001b[38;5;124;03mNon-separable transforms that map from data space to screen space.\u001b[39;00m\n\u001b[1;32m      3\u001b[0m \n\u001b[0;32m   (...)\u001b[0m\n\u001b[1;32m     52\u001b[0m \u001b[38;5;124;03m`matplotlib.projections.polar` may also be of interest.\u001b[39;00m\n\u001b[1;32m     53\u001b[0m \u001b[38;5;124;03m\"\"\"\u001b[39;00m\n\u001b[1;32m     55\u001b[0m \u001b[38;5;28;01mfrom\u001b[39;00m \u001b[38;5;21;01m.\u001b[39;00m\u001b[38;5;21;01m.\u001b[39;00m \u001b[38;5;28;01mimport\u001b[39;00m axes, docstring\n\u001b[0;32m---> 56\u001b[0m \u001b[38;5;28;01mfrom\u001b[39;00m \u001b[38;5;21;01m.\u001b[39;00m\u001b[38;5;21;01mgeo\u001b[39;00m \u001b[38;5;28;01mimport\u001b[39;00m AitoffAxes, HammerAxes, LambertAxes, MollweideAxes\n\u001b[1;32m     57\u001b[0m \u001b[38;5;28;01mfrom\u001b[39;00m \u001b[38;5;21;01m.\u001b[39;00m\u001b[38;5;21;01mpolar\u001b[39;00m \u001b[38;5;28;01mimport\u001b[39;00m PolarAxes\n\u001b[1;32m     58\u001b[0m \u001b[38;5;28;01mfrom\u001b[39;00m \u001b[38;5;21;01mmpl_toolkits\u001b[39;00m\u001b[38;5;21;01m.\u001b[39;00m\u001b[38;5;21;01mmplot3d\u001b[39;00m \u001b[38;5;28;01mimport\u001b[39;00m Axes3D\n",
      "File \u001b[0;32m~/opt/anaconda3/lib/python3.9/site-packages/matplotlib/projections/geo.py:253\u001b[0m, in \u001b[0;36m<module>\u001b[0;34m\u001b[0m\n\u001b[1;32m    249\u001b[0m         ipath \u001b[38;5;241m=\u001b[39m path\u001b[38;5;241m.\u001b[39minterpolated(\u001b[38;5;28mself\u001b[39m\u001b[38;5;241m.\u001b[39m_resolution)\n\u001b[1;32m    250\u001b[0m         \u001b[38;5;28;01mreturn\u001b[39;00m Path(\u001b[38;5;28mself\u001b[39m\u001b[38;5;241m.\u001b[39mtransform(ipath\u001b[38;5;241m.\u001b[39mvertices), ipath\u001b[38;5;241m.\u001b[39mcodes)\n\u001b[0;32m--> 253\u001b[0m \u001b[38;5;28;01mclass\u001b[39;00m \u001b[38;5;21;01mAitoffAxes\u001b[39;00m(GeoAxes):\n\u001b[1;32m    254\u001b[0m     name \u001b[38;5;241m=\u001b[39m \u001b[38;5;124m'\u001b[39m\u001b[38;5;124maitoff\u001b[39m\u001b[38;5;124m'\u001b[39m\n\u001b[1;32m    256\u001b[0m     \u001b[38;5;28;01mclass\u001b[39;00m \u001b[38;5;21;01mAitoffTransform\u001b[39;00m(_GeoTransform):\n",
      "File \u001b[0;32m~/opt/anaconda3/lib/python3.9/site-packages/matplotlib/artist.py:119\u001b[0m, in \u001b[0;36mArtist.__init_subclass__\u001b[0;34m(cls)\u001b[0m\n\u001b[1;32m    117\u001b[0m \u001b[38;5;28mcls\u001b[39m\u001b[38;5;241m.\u001b[39mset\u001b[38;5;241m.\u001b[39m\u001b[38;5;18m__name__\u001b[39m \u001b[38;5;241m=\u001b[39m \u001b[38;5;124m\"\u001b[39m\u001b[38;5;124mset\u001b[39m\u001b[38;5;124m\"\u001b[39m\n\u001b[1;32m    118\u001b[0m \u001b[38;5;28mcls\u001b[39m\u001b[38;5;241m.\u001b[39mset\u001b[38;5;241m.\u001b[39m\u001b[38;5;18m__qualname__\u001b[39m \u001b[38;5;241m=\u001b[39m \u001b[38;5;124mf\u001b[39m\u001b[38;5;124m\"\u001b[39m\u001b[38;5;132;01m{\u001b[39;00m\u001b[38;5;28mcls\u001b[39m\u001b[38;5;241m.\u001b[39m\u001b[38;5;18m__qualname__\u001b[39m\u001b[38;5;132;01m}\u001b[39;00m\u001b[38;5;124m.set\u001b[39m\u001b[38;5;124m\"\u001b[39m\n\u001b[0;32m--> 119\u001b[0m \u001b[38;5;28;43mcls\u001b[39;49m\u001b[38;5;241;43m.\u001b[39;49m\u001b[43m_update_set_signature_and_docstring\u001b[49m\u001b[43m(\u001b[49m\u001b[43m)\u001b[49m\n",
      "File \u001b[0;32m~/opt/anaconda3/lib/python3.9/site-packages/matplotlib/artist.py:147\u001b[0m, in \u001b[0;36mArtist._update_set_signature_and_docstring\u001b[0;34m(cls)\u001b[0m\n\u001b[1;32m    137\u001b[0m \u001b[38;5;28mcls\u001b[39m\u001b[38;5;241m.\u001b[39mset\u001b[38;5;241m.\u001b[39m__signature__ \u001b[38;5;241m=\u001b[39m Signature(\n\u001b[1;32m    138\u001b[0m     [Parameter(\u001b[38;5;124m\"\u001b[39m\u001b[38;5;124mself\u001b[39m\u001b[38;5;124m\"\u001b[39m, Parameter\u001b[38;5;241m.\u001b[39mPOSITIONAL_OR_KEYWORD),\n\u001b[1;32m    139\u001b[0m      \u001b[38;5;241m*\u001b[39m[Parameter(prop, Parameter\u001b[38;5;241m.\u001b[39mKEYWORD_ONLY, default\u001b[38;5;241m=\u001b[39m_UNSET)\n\u001b[1;32m    140\u001b[0m        \u001b[38;5;28;01mfor\u001b[39;00m prop \u001b[38;5;129;01min\u001b[39;00m ArtistInspector(\u001b[38;5;28mcls\u001b[39m)\u001b[38;5;241m.\u001b[39mget_setters()\n\u001b[1;32m    141\u001b[0m        \u001b[38;5;28;01mif\u001b[39;00m prop \u001b[38;5;129;01mnot\u001b[39;00m \u001b[38;5;129;01min\u001b[39;00m Artist\u001b[38;5;241m.\u001b[39m_PROPERTIES_EXCLUDED_FROM_SET]])\n\u001b[1;32m    142\u001b[0m \u001b[38;5;28mcls\u001b[39m\u001b[38;5;241m.\u001b[39mset\u001b[38;5;241m.\u001b[39m_autogenerated_signature \u001b[38;5;241m=\u001b[39m \u001b[38;5;28;01mTrue\u001b[39;00m\n\u001b[1;32m    144\u001b[0m \u001b[38;5;28mcls\u001b[39m\u001b[38;5;241m.\u001b[39mset\u001b[38;5;241m.\u001b[39m\u001b[38;5;18m__doc__\u001b[39m \u001b[38;5;241m=\u001b[39m (\n\u001b[1;32m    145\u001b[0m     \u001b[38;5;124m\"\u001b[39m\u001b[38;5;124mSet multiple properties at once.\u001b[39m\u001b[38;5;130;01m\\n\u001b[39;00m\u001b[38;5;130;01m\\n\u001b[39;00m\u001b[38;5;124m\"\u001b[39m\n\u001b[1;32m    146\u001b[0m     \u001b[38;5;124m\"\u001b[39m\u001b[38;5;124mSupported properties are\u001b[39m\u001b[38;5;130;01m\\n\u001b[39;00m\u001b[38;5;130;01m\\n\u001b[39;00m\u001b[38;5;124m\"\u001b[39m\n\u001b[0;32m--> 147\u001b[0m     \u001b[38;5;241m+\u001b[39m \u001b[43mkwdoc\u001b[49m\u001b[43m(\u001b[49m\u001b[38;5;28;43mcls\u001b[39;49m\u001b[43m)\u001b[49m)\n",
      "File \u001b[0;32m~/opt/anaconda3/lib/python3.9/site-packages/matplotlib/artist.py:1746\u001b[0m, in \u001b[0;36mkwdoc\u001b[0;34m(artist)\u001b[0m\n\u001b[1;32m   1730\u001b[0m \u001b[38;5;28;01mdef\u001b[39;00m \u001b[38;5;21mkwdoc\u001b[39m(artist):\n\u001b[1;32m   1731\u001b[0m \u001b[38;5;250m    \u001b[39m\u001b[38;5;124mr\u001b[39m\u001b[38;5;124;03m\"\"\"\u001b[39;00m\n\u001b[1;32m   1732\u001b[0m \u001b[38;5;124;03m    Inspect an `~matplotlib.artist.Artist` class (using `.ArtistInspector`) and\u001b[39;00m\n\u001b[1;32m   1733\u001b[0m \u001b[38;5;124;03m    return information about its settable properties and their current values.\u001b[39;00m\n\u001b[0;32m   (...)\u001b[0m\n\u001b[1;32m   1744\u001b[0m \u001b[38;5;124;03m        use in Sphinx) if it is True.\u001b[39;00m\n\u001b[1;32m   1745\u001b[0m \u001b[38;5;124;03m    \"\"\"\u001b[39;00m\n\u001b[0;32m-> 1746\u001b[0m     ai \u001b[38;5;241m=\u001b[39m \u001b[43mArtistInspector\u001b[49m\u001b[43m(\u001b[49m\u001b[43martist\u001b[49m\u001b[43m)\u001b[49m\n\u001b[1;32m   1747\u001b[0m     \u001b[38;5;28;01mreturn\u001b[39;00m (\u001b[38;5;124m'\u001b[39m\u001b[38;5;130;01m\\n\u001b[39;00m\u001b[38;5;124m'\u001b[39m\u001b[38;5;241m.\u001b[39mjoin(ai\u001b[38;5;241m.\u001b[39mpprint_setters_rest(leadingspace\u001b[38;5;241m=\u001b[39m\u001b[38;5;241m4\u001b[39m))\n\u001b[1;32m   1748\u001b[0m             \u001b[38;5;28;01mif\u001b[39;00m mpl\u001b[38;5;241m.\u001b[39mrcParams[\u001b[38;5;124m'\u001b[39m\u001b[38;5;124mdocstring.hardcopy\u001b[39m\u001b[38;5;124m'\u001b[39m] \u001b[38;5;28;01melse\u001b[39;00m\n\u001b[1;32m   1749\u001b[0m             \u001b[38;5;124m'\u001b[39m\u001b[38;5;124mProperties:\u001b[39m\u001b[38;5;130;01m\\n\u001b[39;00m\u001b[38;5;124m'\u001b[39m \u001b[38;5;241m+\u001b[39m \u001b[38;5;124m'\u001b[39m\u001b[38;5;130;01m\\n\u001b[39;00m\u001b[38;5;124m'\u001b[39m\u001b[38;5;241m.\u001b[39mjoin(ai\u001b[38;5;241m.\u001b[39mpprint_setters(leadingspace\u001b[38;5;241m=\u001b[39m\u001b[38;5;241m4\u001b[39m)))\n",
      "File \u001b[0;32m~/opt/anaconda3/lib/python3.9/site-packages/matplotlib/artist.py:1345\u001b[0m, in \u001b[0;36mArtistInspector.__init__\u001b[0;34m(self, o)\u001b[0m\n\u001b[1;32m   1342\u001b[0m     o \u001b[38;5;241m=\u001b[39m \u001b[38;5;28mtype\u001b[39m(o)\n\u001b[1;32m   1343\u001b[0m \u001b[38;5;28mself\u001b[39m\u001b[38;5;241m.\u001b[39mo \u001b[38;5;241m=\u001b[39m o\n\u001b[0;32m-> 1345\u001b[0m \u001b[38;5;28mself\u001b[39m\u001b[38;5;241m.\u001b[39maliasd \u001b[38;5;241m=\u001b[39m \u001b[38;5;28;43mself\u001b[39;49m\u001b[38;5;241;43m.\u001b[39;49m\u001b[43mget_aliases\u001b[49m\u001b[43m(\u001b[49m\u001b[43m)\u001b[49m\n",
      "File \u001b[0;32m~/opt/anaconda3/lib/python3.9/site-packages/matplotlib/artist.py:1364\u001b[0m, in \u001b[0;36mArtistInspector.get_aliases\u001b[0;34m(self)\u001b[0m\n\u001b[1;32m   1362\u001b[0m \u001b[38;5;28;01mfor\u001b[39;00m name \u001b[38;5;129;01min\u001b[39;00m names:\n\u001b[1;32m   1363\u001b[0m     func \u001b[38;5;241m=\u001b[39m \u001b[38;5;28mgetattr\u001b[39m(\u001b[38;5;28mself\u001b[39m\u001b[38;5;241m.\u001b[39mo, name)\n\u001b[0;32m-> 1364\u001b[0m     \u001b[38;5;28;01mif\u001b[39;00m \u001b[38;5;129;01mnot\u001b[39;00m \u001b[38;5;28;43mself\u001b[39;49m\u001b[38;5;241;43m.\u001b[39;49m\u001b[43mis_alias\u001b[49m\u001b[43m(\u001b[49m\u001b[43mfunc\u001b[49m\u001b[43m)\u001b[49m:\n\u001b[1;32m   1365\u001b[0m         \u001b[38;5;28;01mcontinue\u001b[39;00m\n\u001b[1;32m   1366\u001b[0m     propname \u001b[38;5;241m=\u001b[39m re\u001b[38;5;241m.\u001b[39msearch(\u001b[38;5;124m\"\u001b[39m\u001b[38;5;124m`(\u001b[39m\u001b[38;5;132;01m{}\u001b[39;00m\u001b[38;5;124m.*)`\u001b[39m\u001b[38;5;124m\"\u001b[39m\u001b[38;5;241m.\u001b[39mformat(name[:\u001b[38;5;241m4\u001b[39m]),  \u001b[38;5;66;03m# get_.*/set_.*\u001b[39;00m\n\u001b[1;32m   1367\u001b[0m                          inspect\u001b[38;5;241m.\u001b[39mgetdoc(func))\u001b[38;5;241m.\u001b[39mgroup(\u001b[38;5;241m1\u001b[39m)\n",
      "File \u001b[0;32m~/opt/anaconda3/lib/python3.9/site-packages/matplotlib/artist.py:1443\u001b[0m, in \u001b[0;36mArtistInspector.is_alias\u001b[0;34m(self, o)\u001b[0m\n\u001b[1;32m   1441\u001b[0m \u001b[38;5;28;01mdef\u001b[39;00m \u001b[38;5;21mis_alias\u001b[39m(\u001b[38;5;28mself\u001b[39m, o):\n\u001b[1;32m   1442\u001b[0m \u001b[38;5;250m    \u001b[39m\u001b[38;5;124;03m\"\"\"Return whether method object *o* is an alias for another method.\"\"\"\u001b[39;00m\n\u001b[0;32m-> 1443\u001b[0m     ds \u001b[38;5;241m=\u001b[39m \u001b[43minspect\u001b[49m\u001b[38;5;241;43m.\u001b[39;49m\u001b[43mgetdoc\u001b[49m\u001b[43m(\u001b[49m\u001b[43mo\u001b[49m\u001b[43m)\u001b[49m\n\u001b[1;32m   1444\u001b[0m     \u001b[38;5;28;01mif\u001b[39;00m ds \u001b[38;5;129;01mis\u001b[39;00m \u001b[38;5;28;01mNone\u001b[39;00m:\n\u001b[1;32m   1445\u001b[0m         \u001b[38;5;28;01mreturn\u001b[39;00m \u001b[38;5;28;01mFalse\u001b[39;00m\n",
      "File \u001b[0;32m~/opt/anaconda3/lib/python3.9/inspect.py:624\u001b[0m, in \u001b[0;36mgetdoc\u001b[0;34m(object)\u001b[0m\n\u001b[1;32m    622\u001b[0m \u001b[38;5;28;01mif\u001b[39;00m \u001b[38;5;129;01mnot\u001b[39;00m \u001b[38;5;28misinstance\u001b[39m(doc, \u001b[38;5;28mstr\u001b[39m):\n\u001b[1;32m    623\u001b[0m     \u001b[38;5;28;01mreturn\u001b[39;00m \u001b[38;5;28;01mNone\u001b[39;00m\n\u001b[0;32m--> 624\u001b[0m \u001b[38;5;28;01mreturn\u001b[39;00m \u001b[43mcleandoc\u001b[49m\u001b[43m(\u001b[49m\u001b[43mdoc\u001b[49m\u001b[43m)\u001b[49m\n",
      "File \u001b[0;32m~/opt/anaconda3/lib/python3.9/inspect.py:647\u001b[0m, in \u001b[0;36mcleandoc\u001b[0;34m(doc)\u001b[0m\n\u001b[1;32m    645\u001b[0m     lines[\u001b[38;5;241m0\u001b[39m] \u001b[38;5;241m=\u001b[39m lines[\u001b[38;5;241m0\u001b[39m]\u001b[38;5;241m.\u001b[39mlstrip()\n\u001b[1;32m    646\u001b[0m \u001b[38;5;28;01mif\u001b[39;00m margin \u001b[38;5;241m<\u001b[39m sys\u001b[38;5;241m.\u001b[39mmaxsize:\n\u001b[0;32m--> 647\u001b[0m     \u001b[38;5;28;01mfor\u001b[39;00m i \u001b[38;5;129;01min\u001b[39;00m \u001b[38;5;28mrange\u001b[39m(\u001b[38;5;241m1\u001b[39m, \u001b[38;5;28mlen\u001b[39m(lines)): lines[i] \u001b[38;5;241m=\u001b[39m \u001b[43mlines\u001b[49m\u001b[43m[\u001b[49m\u001b[43mi\u001b[49m\u001b[43m]\u001b[49m\u001b[43m[\u001b[49m\u001b[43mmargin\u001b[49m\u001b[43m:\u001b[49m\u001b[43m]\u001b[49m\n\u001b[1;32m    648\u001b[0m \u001b[38;5;66;03m# Remove any trailing or leading blank lines.\u001b[39;00m\n\u001b[1;32m    649\u001b[0m \u001b[38;5;28;01mwhile\u001b[39;00m lines \u001b[38;5;129;01mand\u001b[39;00m \u001b[38;5;129;01mnot\u001b[39;00m lines[\u001b[38;5;241m-\u001b[39m\u001b[38;5;241m1\u001b[39m]:\n",
      "\u001b[0;31mKeyboardInterrupt\u001b[0m: "
     ]
    }
   ],
   "source": [
    "from arctic_objects import *\n",
    "from arctic_functions import *\n",
    "import scipy.io as sio\n",
    "import netCDF4 as nc\n",
    "import numpy as np\n",
    "import mat73"
   ]
  },
  {
   "cell_type": "code",
   "execution_count": null,
   "id": "ef02ba25",
   "metadata": {},
   "outputs": [],
   "source": [
    "mitGCM_filepath = '../mitGCM/data/'\n",
    "NEMO_filepath = '../NEMO/data/'"
   ]
  },
  {
   "cell_type": "code",
   "execution_count": null,
   "id": "b59855fb",
   "metadata": {},
   "outputs": [],
   "source": [
    "# Build the necessary grid data for mitGCM fields\n",
    "mitGCM_grid = {'lat': None, 'lon': None, 'zcell': None, 'vol': None, 'ocnmsk': None}\n",
    "for key in mitGCM_grid.keys():\n",
    "    mitGCM_grid[key] = sio.loadmat(mitGCM_filepath + 'mgrid')['mgrid'][key][0,0]\n",
    "mitGCM_grid['zcell'] = np.squeeze(mitGCM_grid['zcell'])[:-1]"
   ]
  },
  {
   "cell_type": "code",
   "execution_count": null,
   "id": "33c16286",
   "metadata": {},
   "outputs": [],
   "source": [
    "#Build the necessary regional logicals for mitGCM fields\n",
    "mitGCM_reg = {'ARC': None, 'CB': None, 'EB': None, 'NAt': None, 'shelf': None, 'slope': None}\n",
    "for key in mitGCM_reg.keys():\n",
    "    mitGCM_reg[key] = sio.loadmat(mitGCM_filepath + 'regional_logicals')['ii_' + key]"
   ]
  },
  {
   "cell_type": "code",
   "execution_count": null,
   "id": "2a0a0de7",
   "metadata": {},
   "outputs": [],
   "source": [
    "# Make mitGCM kappa background fields\n",
    "kappa_obs = sio.loadmat(mitGCM_filepath + 'kappa_OBS')['kappa']\n",
    "mitGCM_kappa_bg = {'CTL': None, 'OBS': None, 'REG': None, 'LO': None, 'HI': None}\n",
    "for key in mitGCM_kappa_bg.keys():\n",
    "    mitGCM_kappa_bg[key] = KappaBG(key + ' - ' r'$\\kappa_{BG}$', \n",
    "                                   mitGCM_grid, kappa_obs, mitGCM_reg, ver=key)"
   ]
  },
  {
   "cell_type": "code",
   "execution_count": null,
   "id": "c500064b",
   "metadata": {},
   "outputs": [],
   "source": [
    "Make mitGCM vertical diffusivity fields\n",
    "mitGCM_kappa_t = {'CTL': None, 'OBS': None, 'REG': None, 'LO': None, 'HI': None}\n",
    "mitGCM_kappa_s = {'CTL': None, 'OBS': None, 'REG': None, 'LO': None, 'HI': None}\n",
    "for i, key in enumerate(mitGCM_kappa_t.keys()):\n",
    "    kappa_t = mat73.loadmat(mitGCM_filepath + 'runs.mat')['runs']['kappaT'][i]\n",
    "    kappa_s = mat73.loadmat(mitGCM_filepath + 'runs.mat')['runs']['kappaS'][i]\n",
    "    mitGCM_kappa_t[key] = Field(key + r' $\\kappa_T$', mitGCM_grid, kappa_t, reg_logic=mitGCM_reg)\n",
    "    mitGCM_kappa_s[key] = Field(key + r' $\\kappa_S$', mitGCM_grid, kappa_s, reg_logic=mitGCM_reg)"
   ]
  },
  {
   "cell_type": "code",
   "execution_count": null,
   "id": "2382701d",
   "metadata": {},
   "outputs": [],
   "source": [
    "# Build the necessary grid data for NEMO fields\n",
    "NEMO_grid = {'lat': None, 'lon': None, 'zcell': None, 'vol': None, 'ocnmsk': None}\n",
    "mesh = nc.Dataset(NEMO_filepath + 'mesh_mask_anha4_201509.nc')\n",
    "NEMO_grid['lat'] = np.array(mesh.variables['nav_lat'])\n",
    "NEMO_grid['lon'] = np.array(mesh.variables['nav_lon'])\n",
    "NEMO_grid['zcell'] = -1*np.array(mesh.variables['nav_lev'])\n",
    "NEMO_grid['vol'] = np.moveaxis(mesh.variables['e1t'][0]*mesh.variables['e2t'][0]*mesh.variables['e3t'][0], 0, -1)\n",
    "NEMO_grid['ocnmsk'] = np.moveaxis(mesh.variables['tmask'][0], 0, -1)\n",
    "NEMO_reg = makeRegions(NEMO_grid)"
   ]
  },
  {
   "cell_type": "code",
   "execution_count": null,
   "id": "dc199126",
   "metadata": {},
   "outputs": [],
   "source": [
    "# Make NEMO vertical eddy diffusivity fields\n",
    "NEMO_CTL_path = NEMO_filepath + 'ANHA4-EXH005_2012-2016avg_votkeavt.nc'\n",
    "NEMO_JSL_path = NEMO_filepath + 'ANHA4-VJT002_2012-2016avg_votkeavt.nc'\n",
    "NEMO_PZN_path = NEMO_filepath + 'ANHA4-VJT003_2012-2016avg_votkeavt.nc'\n",
    "NEMO_JSLt_path = NEMO_filepath + 'ANHA4-VJT002_2012-2016avg_votkeavtidal.nc'\n",
    "NEMO_PZNt_path = NEMO_filepath + 'ANHA4-VJT003_2012-2016avg_votkeavtidal.nc'\n",
    "\n",
    "NEMO_CTL_data = np.moveaxis(nc.Dataset(NEMO_CTL_path).variables['votkeavtfour'], 0, -1)\n",
    "NEMO_JSL_data = np.moveaxis(nc.Dataset(NEMO_JSL_path).variables['votkeavtfour'], 0, -1)\n",
    "NEMO_PZN_data = np.moveaxis(nc.Dataset(NEMO_PZN_path).variables['votkeavtfour'], 0, -1)\n",
    "NEMO_JSLt_data = np.moveaxis(nc.Dataset(NEMO_JSLt_path).variables['votkeavtidalfour'], 0, -1)\n",
    "NEMO_PZNt_data = np.moveaxis(nc.Dataset(NEMO_PZNt_path).variables['votkeavtidalfour'], 0, -1)\n",
    "\n",
    "NEMO_CTL_kappa = Field('Control ', r'$\\kappa_{full}$', NEMO_grid, NEMO_CTL_data, reg_logic=NEMO_reg)\n",
    "NEMO_JSL_kappa = Field('J & SL ', r'$\\kappa_{full}$', NEMO_grid, NEMO_JSL_data, reg_logic=NEMO_reg)\n",
    "NEMO_PZN_kappa = Field('Polzin ', r'$\\kappa_{full}$', NEMO_grid, NEMO_PZN_data, reg_logic=NEMO_reg)\n",
    "NEMO_JSLt_kappa = Field('J & SL ', r'$\\kappa_{tidal}$', NEMO_grid, NEMO_JSLt_data, reg_logic=NEMO_reg)\n",
    "NEMO_PZNt_kappa = Field('Polzin ', r'$\\kappa_{tidal}$', NEMO_grid, NEMO_PZNt_data, reg_logic=NEMO_reg)\n",
    "\n",
    "NEMO_JSL_dKappa = Field('J & SL - Control ', r'$\\kappa_{full}$', NEMO_grid, NEMO_JSL_data - NEMO_CTL_data, reg_logic=NEMO_reg)\n",
    "NEMO_PZN_dKappa = Field('Polzin - Control ', r'$\\kappa_{full}$', NEMO_grid, NEMO_PZN_data - NEMO_CTL_data, reg_logic=NEMO_reg)\n",
    "NEMO_JSLt_dKappa = Field('J & SL', r'$\\kappa_{full} - \\kappa_{tidal}$', NEMO_grid, NEMO_JSL_data - NEMO_JSLt_data, reg_logic=NEMO_reg)\n",
    "NEMO_PZNt_dKappa = Field('Polzin', r'$\\kappa_{full} - \\kappa_{tidal}$', NEMO_grid, NEMO_PZN_data - NEMO_PZNt_data, reg_logic=NEMO_reg)\n",
    "NEMO_framTransect.visualize_transect(NEMO_JSLt_dKappa).savefig(NEMO_savepath+'FramTransect'+'_JSL_dktidal.png')\n",
    "NEMO_framTransect.visualize_transect(NEMO_PZNt_dKappa).savefig(NEMO_savepath+'FramTransect'+'_PZN_dktidal.png')"
   ]
  },
  {
   "cell_type": "code",
   "execution_count": null,
   "id": "cde574aa",
   "metadata": {},
   "outputs": [],
   "source": [
    "NEMO_JSLt_dKappa = Field('J & SL', r'$\\kappa_{full} - \\kappa_{tidal}$', NEMO_grid, NEMO_JSL_data - NEMO_JSLt_data, reg_logic=NEMO_reg)\n",
    "NEMO_PZNt_dKappa = Field('Polzin', r'$\\kappa_{full} - \\kappa_{tidal}$', NEMO_grid, NEMO_PZN_data - NEMO_PZNt_data, reg_logic=NEMO_reg)\n",
    "\n",
    "visualize_average_profiles([NEMO_CTL_kappa, NEMO_JSLt_dKappa, NEMO_PZNt_dKappa]).savefig(NEMO_savepath+'DepthProf'+'_dktidal.png')\n",
    "\n",
    "NEMO_JSLt_dKappa.visualize_maps().savefig(NEMO_savepath+'DepthMap'+'_JSL_dktidal.png')\n",
    "NEMO_PZNt_dKappa.visualize_maps().savefig(NEMO_savepath+'DepthMap'+'_PZN_dktidal.png')\n",
    "NEMO_JSLt_dKappa.visualize_distributions().savefig(NEMO_savepath+'DepthDist'+'_JSL_dktidal.png')\n",
    "NEMO_PZNt_dKappa.visualize_distributions().savefig(NEMO_savepath+'DepthDist'+'_PZN_dktidal.png')\n",
    "NEMO_canbarTransect.visualize_transect(NEMO_JSLt_dKappa).savefig(NEMO_savepath+'CanbarTransect'+'_JSL_dktidal.png')\n",
    "NEMO_canbarTransect.visualize_transect(NEMO_PZNt_dKappa).savefig(NEMO_savepath+'CanbarTransect'+'_PZN_dktidal.png')"
   ]
  },
  {
   "cell_type": "code",
   "execution_count": null,
   "id": "8cd19d5e",
   "metadata": {},
   "outputs": [],
   "source": [
    "# Make Transects\n",
    "canbar_start = np.array([-144.3258153, 70.29163412])\n",
    "canbar_end = np.array([25.05097782, 71.335544347])\n",
    "\n",
    "fram_start = np.array([-16.626389, 80.676944])\n",
    "fram_end = np.array([11.748611, 79.158611])\n",
    "\n",
    "mitGCM_canbarTransect = Transect('CANBAR Transect', mitGCM_grid, canbar_start, canbar_end)\n",
    "mitGCM_framTransect = Transect('FRAM Transect', mitGCM_grid, fram_start, fram_end)\n",
    "NEMO_canbarTransect = Transect('CANBAR Transect', NEMO_grid, canbar_start, canbar_end)\n",
    "NEMO_framTransect = Transect('FRAM Transect', NEMO_grid, fram_start, fram_end)"
   ]
  },
  {
   "cell_type": "markdown",
   "id": "6e48d66f",
   "metadata": {},
   "source": [
    "## Visualize Fields and Transects"
   ]
  },
  {
   "cell_type": "code",
   "execution_count": null,
   "id": "6728701c",
   "metadata": {},
   "outputs": [],
   "source": [
    "NEMO_savepath = '../NEMO/plots/'\n",
    "\n",
    "NEMO_CTL_kappa.visualize_regional_profile().savefig(NEMO_savepath+'RegProf'+'_CTL_kfull.png')\n",
    "NEMO_JSL_kappa.visualize_regional_profile().savefig(NEMO_savepath+'RegProf'+'_JSL_kfull.png')\n",
    "NEMO_PZN_kappa.visualize_regional_profile().savefig(NEMO_savepath+'RegProf'+'_PZN_kfull.png')\n",
    "NEMO_JSLt_kappa.visualize_regional_profile().savefig(NEMO_savepath+'RegProf'+'_JSL_ktidal.png')\n",
    "NEMO_PZNt_kappa.visualize_regional_profile().savefig(NEMO_savepath+'RegProf'+'_PZN_ktidal.png')\n",
    "\n",
    "visualize_average_profiles([NEMO_CTL_kappa, NEMO_JSL_kappa, NEMO_PZN_kappa]).savefig(NEMO_savepath+'DepthProf'+'_kfull.png')\n",
    "visualize_average_profiles([NEMO_CTL_kappa, NEMO_JSLt_dKappa, NEMO_PZNt_dKappa]).savefig(NEMO_savepath+'DepthProf'+'_dktidal.png')\n",
    "\n",
    "NEMO_CTL_kappa.visualize_maps().savefig(NEMO_savepath+'DepthMap'+'_CTL_kfull.png')\n",
    "NEMO_JSL_kappa.visualize_maps().savefig(NEMO_savepath+'DepthMap'+'_JSL_kfull.png')\n",
    "NEMO_PZN_kappa.visualize_maps().savefig(NEMO_savepath+'DepthMap'+'_PZN_kfull.png')\n",
    "NEMO_JSLt_kappa.visualize_maps().savefig(NEMO_savepath+'DepthMap'+'_JSL_ktidal.png')\n",
    "NEMO_PZNt_kappa.visualize_maps().savefig(NEMO_savepath+'DepthMap'+'_PZN_ktidal.png')\n",
    "NEMO_JSL_dKappa.visualize_maps(log=False).savefig(NEMO_savepath+'DepthMap'+'_JSL_dkfull.png')\n",
    "NEMO_PZN_dKappa.visualize_maps(log=False).savefig(NEMO_savepath+'DepthMap'+'_PZN_dkfull.png')\n",
    "NEMO_JSLt_dKappa.visualize_maps().savefig(NEMO_savepath+'DepthMap'+'_JSL_dktidal.png')\n",
    "NEMO_PZNt_dKappa.visualize_maps().savefig(NEMO_savepath+'DepthMap'+'_PZN_dktidal.png')\n",
    "\n",
    "NEMO_CTL_kappa.visualize_distributions().savefig(NEMO_savepath+'DepthDist'+'_CTL_kfull.png')\n",
    "NEMO_JSL_kappa.visualize_distributions().savefig(NEMO_savepath+'DepthDist'+'_JSL_kfull.png')\n",
    "NEMO_PZN_kappa.visualize_distributions().savefig(NEMO_savepath+'DepthDist'+'_PZN_kfull.png')\n",
    "NEMO_JSLt_kappa.visualize_distributions().savefig(NEMO_savepath+'DepthDist'+'_JSL_ktidal.png')\n",
    "NEMO_PZNt_kappa.visualize_distributions().savefig(NEMO_savepath+'DepthDist'+'_PZN_ktidal.png')\n",
    "NEMO_JSL_dKappa.visualize_distributions(log=False).savefig(NEMO_savepath+'DepthDist'+'_JSL_dkfull.png')\n",
    "NEMO_PZN_dKappa.visualize_distributions(log=False).savefig(NEMO_savepath+'DepthDist'+'_PZN_dkfull.png')\n",
    "NEMO_JSLt_dKappa.visualize_distributions().savefig(NEMO_savepath+'DepthDist'+'_JSL_dktidal.png')\n",
    "NEMO_PZNt_dKappa.visualize_distributions().savefig(NEMO_savepath+'DepthDist'+'_PZN_dktidal.png')\n",
    "\n",
    "NEMO_canbarTransect.visualize_transect(NEMO_CTL_kappa).savefig(NEMO_savepath+'CanbarTransect'+'_CTL_kfull.png')\n",
    "NEMO_canbarTransect.visualize_transect(NEMO_JSL_kappa).savefig(NEMO_savepath+'CanbarTransect'+'_JSL_kfull.png')\n",
    "NEMO_canbarTransect.visualize_transect(NEMO_PZN_kappa).savefig(NEMO_savepath+'CanbarTransect'+'_PZN_kfull.png')\n",
    "NEMO_canbarTransect.visualize_transect(NEMO_JSL_dKappa, log=False).savefig(NEMO_savepath+'CanbarTransect'+'_JSL_dkfull.png')\n",
    "NEMO_canbarTransect.visualize_transect(NEMO_PZN_dKappa, log=False).savefig(NEMO_savepath+'CanbarTransect'+'_PZN_dkfull.png')\n",
    "NEMO_canbarTransect.visualize_transect(NEMO_JSLt_kappa).savefig(NEMO_savepath+'CanbarTransect'+'_JSL_ktidal.png')\n",
    "NEMO_canbarTransect.visualize_transect(NEMO_PZNt_kappa).savefig(NEMO_savepath+'CanbarTransect'+'_PZN_ktidal.png')\n",
    "NEMO_canbarTransect.visualize_transect(NEMO_JSLt_dKappa).savefig(NEMO_savepath+'CanbarTransect'+'_JSL_dktidal.png')\n",
    "NEMO_canbarTransect.visualize_transect(NEMO_PZNt_dKappa).savefig(NEMO_savepath+'CanbarTransect'+'_PZN_dktidal.png')\n",
    "\n",
    "NEMO_framTransect.visualize_transect(NEMO_CTL_kappa).savefig(NEMO_savepath+'FramTransect'+'_CTL_kfull.png')\n",
    "NEMO_framTransect.visualize_transect(NEMO_JSL_kappa).savefig(NEMO_savepath+'FramTransect'+'_JSL_kfull.png')\n",
    "NEMO_framTransect.visualize_transect(NEMO_PZN_kappa).savefig(NEMO_savepath+'FramTransect'+'_PZN_kfull.png')\n",
    "NEMO_framTransect.visualize_transect(NEMO_JSL_dKappa, log=False).savefig(NEMO_savepath+'FramTransect'+'_JSL_dkfull.png')\n",
    "NEMO_framTransect.visualize_transect(NEMO_PZN_dKappa, log=False).savefig(NEMO_savepath+'FramTransect'+'_PZN_dkfull.png')\n",
    "NEMO_framTransect.visualize_transect(NEMO_JSLt_kappa).savefig(NEMO_savepath+'FramTransect'+'_JSL_ktidal.png')\n",
    "NEMO_framTransect.visualize_transect(NEMO_PZNt_kappa).savefig(NEMO_savepath+'FramTransect'+'_PZN_ktidal.png')\n",
    "NEMO_framTransect.visualize_transect(NEMO_JSLt_dKappa).savefig(NEMO_savepath+'FramTransect'+'_JSL_dktidal.png')\n",
    "NEMO_framTransect.visualize_transect(NEMO_PZNt_dKappa).savefig(NEMO_savepath+'FramTransect'+'_PZN_dktidal.png')\n",
    "\n",
    "NEMO_canbarTransect.visualize_line().savefig(NEMO_savepath+'TransectMap_canbar.png')\n",
    "NEMO_framTransect.visualize_line().savefig(NEMO_savepath+'TransectMap_fram.png')"
   ]
  },
  {
   "cell_type": "code",
   "execution_count": null,
   "id": "2e015e59",
   "metadata": {},
   "outputs": [],
   "source": [
    "mitGCM_savepath = '../mitGCM/plots/'\n",
    "\n",
    "for key in mitGCM_kappa_bg.keys():\n",
    "    mitGCM_kappa_bg[key].visualize_average_profiles().savefig(mitGCM_savepath+'AvgProf'+'_'+key+'_'+'kbg'+'.png')\n",
    "    mitGCM_kappa_t[key].visualize_average_profiles().savefig(mitGCM_savepath+'AvgProf'+'_'+key+'_'+'kt'+'.png')\n",
    "    mitGCM_kappa_s[key].visualize_average_profiles().savefig(mitGCM_savepath+'AvgProf'+'_'+key+'_'+'ks'+'.png')\n",
    "    \n",
    "    mitGCM_kappa_bg[key].visualize_distributions().savefig(mitGCM_savepath+'DepthDist'+'_'+key+'_'+'kbg'+'.png')\n",
    "    mitGCM_kappa_t[key].visualize_distributions().savefig(mitGCM_savepath+'DepthDist'+'_'+key+'_'+'kt'+'.png')\n",
    "    mitGCM_kappa_s[key].visualize_distributions().savefig(mitGCM_savepath+'DepthDist'+'_'+key+'_'+'ks'+'.png')\n",
    "    \n",
    "    mitGCM_kappa_bg[key].visualize_distributions().savefig(mitGCM_savepath+'DepthDist'+'_'+key+'_'+'kbg'+'.png')\n",
    "    mitGCM_kappa_t[key].visualize_distributions().savefig(mitGCM_savepath+'DepthDist'+'_'+key+'_'+'kt'+'.png')\n",
    "    mitGCM_kappa_s[key].visualize_distributions().savefig(mitGCM_savepath+'DepthDist'+'_'+key+'_'+'ks'+'.png')\n",
    "    \n",
    "    mitGCM_kappa_bg[key].visualize_maps().savefig(mitGCM_savepath+'DepthMap'+'_'+key+'_'+'kbg'+'.png')\n",
    "    mitGCM_kappa_t[key].visualize_maps().savefig(mitGCM_savepath+'DepthMap'+'_'+key+'_'+'kt'+'.png')\n",
    "    mitGCM_kappa_s[key].visualize_maps().savefig(mitGCM_savepath+'DepthMap'+'_'+key+'_'+'ks'+'.png')\n",
    "    \n",
    "    mitGCM_canbarTransect.visualize_transect(mitGCM_kappa_bg[key]).savefig(\n",
    "        mitGCM_savepath+'CanbarTransect'+'_'+key+'_'+'kbg'+'.png')\n",
    "    mitGCM_canbarTransect.visualize_transect(mitGCM_kappa_t[key]).savefig(\n",
    "        mitGCM_savepath+'CanbarTransect'+'_'+key+'_'+'kt'+'.png')\n",
    "    mitGCM_canbarTransect.visualize_transect(mitGCM_kappa_s[key]).savefig(\n",
    "        mitGCM_savepath+'CanbarTransect'+'_'+key+'_'+'ks'+'.png')\n",
    "    \n",
    "    mitGCM_framTransect.visualize_transect(mitGCM_kappa_bg[key]).savefig(\n",
    "        mitGCM_savepath+'FramTransect'+'_'+key+'_'+'kbg'+'.png')\n",
    "    mitGCM_framTransect.visualize_transect(mitGCM_kappa_t[key]).savefig(\n",
    "        mitGCM_savepath+'FramTransect'+'_'+key+'_'+'kt'+'.png')\n",
    "    mitGCM_framTransect.visualize_transect(mitGCM_kappa_s[key]).savefig(\n",
    "        mitGCM_savepath+'FramTransect'+'_'+key+'_'+'ks'+'.png')\n",
    "\n",
    "mitGCM_canbarTransect.visualize_line().savefig(mitGCM_savepath+'TransectMap_canbar.png')\n",
    "mitGCM_framTransect.visualize_line().savefig(mitGCM_savepath+'TransectMap_fram.png')"
   ]
  },
  {
   "cell_type": "code",
   "execution_count": null,
   "id": "608d96a7",
   "metadata": {},
   "outputs": [],
   "source": []
  }
 ],
 "metadata": {
  "kernelspec": {
   "display_name": "Python 3 (ipykernel)",
   "language": "python",
   "name": "python3"
  },
  "language_info": {
   "codemirror_mode": {
    "name": "ipython",
    "version": 3
   },
   "file_extension": ".py",
   "mimetype": "text/x-python",
   "name": "python",
   "nbconvert_exporter": "python",
   "pygments_lexer": "ipython3",
   "version": "3.9.12"
  }
 },
 "nbformat": 4,
 "nbformat_minor": 5
}
