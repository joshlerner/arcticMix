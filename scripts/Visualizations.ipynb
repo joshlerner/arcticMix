{
 "cells": [
  {
   "cell_type": "markdown",
   "id": "e9f73a19",
   "metadata": {},
   "source": [
    "## Load Data From .mat Files"
   ]
  },
  {
   "cell_type": "code",
   "execution_count": 1,
   "id": "565a9911",
   "metadata": {},
   "outputs": [],
   "source": [
    "%load_ext autoreload\n",
    "%autoreload 2"
   ]
  },
  {
   "cell_type": "code",
   "execution_count": 2,
   "id": "0b2a7004",
   "metadata": {},
   "outputs": [],
   "source": [
    "from arctic_objects import *\n",
    "from arctic_functions import *\n",
    "import scipy.io as sio\n",
    "import netCDF4 as nc\n",
    "import numpy as np\n",
    "import mat73"
   ]
  },
  {
   "cell_type": "code",
   "execution_count": 3,
   "id": "ef02ba25",
   "metadata": {},
   "outputs": [],
   "source": [
    "mitGCM_filepath = '../mitGCM/data/'\n",
    "NEMO_filepath = '../NEMO/data/'"
   ]
  },
  {
   "cell_type": "code",
   "execution_count": 4,
   "id": "b59855fb",
   "metadata": {},
   "outputs": [],
   "source": [
    "# Build the necessary grid data for mitGCM fields\n",
    "# mitGCM_grid = {'lat': None, 'lon': None, 'zcell': None, 'vol': None, 'ocnmsk': None}\n",
    "# for key in mitGCM_grid.keys():\n",
    "#     mitGCM_grid[key] = sio.loadmat(mitGCM_filepath + 'mgrid')['mgrid'][key][0,0]\n",
    "# mitGCM_grid['zcell'] = np.squeeze(mitGCM_grid['zcell'])[:-1]"
   ]
  },
  {
   "cell_type": "code",
   "execution_count": 5,
   "id": "33c16286",
   "metadata": {},
   "outputs": [],
   "source": [
    "# Build the necessary regional logicals for mitGCM fields\n",
    "# mitGCM_reg = {'ARC': None, 'CB': None, 'EB': None, 'NAt': None, 'shelf': None, 'slope': None}\n",
    "# for key in mitGCM_reg.keys():\n",
    "#     mitGCM_reg[key] = sio.loadmat(mitGCM_filepath + 'regional_logicals')['ii_' + key]"
   ]
  },
  {
   "cell_type": "code",
   "execution_count": 6,
   "id": "2a0a0de7",
   "metadata": {},
   "outputs": [],
   "source": [
    "# Make mitGCM kappa background fields\n",
    "# kappa_obs = sio.loadmat(mitGCM_filepath + 'kappa_OBS')['kappa']\n",
    "# mitGCM_kappa_bg = {'CTL': None, 'OBS': None, 'REG': None, 'LO': None, 'HI': None}\n",
    "# for key in mitGCM_kappa_bg.keys():\n",
    "#     mitGCM_kappa_bg[key] = KappaBG(key + ' - ' r'$\\kappa_{BG}$', \n",
    "#                                    mitGCM_grid, kappa_obs, mitGCM_reg, ver=key)"
   ]
  },
  {
   "cell_type": "code",
   "execution_count": 7,
   "id": "c500064b",
   "metadata": {},
   "outputs": [],
   "source": [
    "# Make mitGCM vertical diffusivity fields\n",
    "# mitGCM_kappa_t = {'CTL': None, 'OBS': None, 'REG': None, 'LO': None, 'HI': None}\n",
    "# mitGCM_kappa_s = {'CTL': None, 'OBS': None, 'REG': None, 'LO': None, 'HI': None}\n",
    "# for i, key in enumerate(mitGCM_kappa_t.keys()):\n",
    "#     kappa_t = mat73.loadmat(mitGCM_filepath + 'runs.mat')['runs']['kappaT'][i]\n",
    "#     kappa_s = mat73.loadmat(mitGCM_filepath + 'runs.mat')['runs']['kappaS'][i]\n",
    "#     mitGCM_kappa_t[key] = Field(key + r' $\\kappa_T$', mitGCM_grid, kappa_t, reg_logic=mitGCM_reg)\n",
    "#     mitGCM_kappa_s[key] = Field(key + r' $\\kappa_S$', mitGCM_grid, kappa_s, reg_logic=mitGCM_reg)"
   ]
  },
  {
   "cell_type": "code",
   "execution_count": 18,
   "id": "2382701d",
   "metadata": {},
   "outputs": [],
   "source": [
    "# Build the necessary grid data for NEMO fields\n",
    "NEMO_grid = {'lat': None, 'lon': None, 'zcell': None, 'vol': None, 'ocnmsk': None}\n",
    "mesh = nc.Dataset(NEMO_filepath + 'mesh_mask_anha4_201509.nc')\n",
    "NEMO_grid['lat'] = np.array(mesh.variables['nav_lat'])\n",
    "NEMO_grid['lon'] = np.array(mesh.variables['nav_lon'])\n",
    "NEMO_grid['zcell'] = -1*np.array(mesh.variables['nav_lev'])\n",
    "NEMO_grid['vol'] = np.moveaxis(mesh.variables['e1t'][0]*mesh.variables['e2t'][0]*mesh.variables['e3t'][0], 0, -1)\n",
    "NEMO_grid['ocnmsk'] = np.moveaxis(mesh.variables['tmask'][0], 0, -1)\n",
    "NEMO_reg = makeRegions(NEMO_grid)"
   ]
  },
  {
   "cell_type": "code",
   "execution_count": 14,
   "id": "dc199126",
   "metadata": {},
   "outputs": [],
   "source": [
    "# Make NEMO vertical eddy diffusivity fields\n",
    "NEMO_CTL_path = NEMO_filepath + 'ANHA4-EXH005_2012-2016avg_votkeavt.nc'\n",
    "NEMO_JSL_path = NEMO_filepath + 'ANHA4-VJT002_2012-2016avg_votkeavt.nc'\n",
    "NEMO_PZN_path = NEMO_filepath + 'ANHA4-VJT003_2012-2016avg_votkeavt.nc'\n",
    "NEMO_JSLt_path = NEMO_filepath + 'ANHA4-VJT002_2012-2016avg_votkeavtidal.nc'\n",
    "NEMO_PZNt_path = NEMO_filepath + 'ANHA4-VJT003_2012-2016avg_votkeavtidal.nc'\n",
    "\n",
    "NEMO_CTL_data = np.moveaxis(nc.Dataset(NEMO_CTL_path).variables['votkeavtfour'], 0, -1)\n",
    "NEMO_JSL_data = np.moveaxis(nc.Dataset(NEMO_JSL_path).variables['votkeavtfour'], 0, -1)\n",
    "NEMO_PZN_data = np.moveaxis(nc.Dataset(NEMO_PZN_path).variables['votkeavtfour'], 0, -1)\n",
    "NEMO_JSLt_data = np.moveaxis(nc.Dataset(NEMO_JSLt_path).variables['votkeavtidalfour'], 0, -1)\n",
    "NEMO_PZNt_data = np.moveaxis(nc.Dataset(NEMO_PZNt_path).variables['votkeavtidalfour'], 0, -1)\n",
    "\n",
    "NEMO_CTL_kappa = Field('Control ', r'$\\kappa_{full}$', NEMO_grid, NEMO_CTL_data, reg_logic=NEMO_reg)\n",
    "NEMO_JSL_kappa = Field('J & SL ', r'$\\kappa_{full}$', NEMO_grid, NEMO_JSL_data, reg_logic=NEMO_reg)\n",
    "NEMO_PZN_kappa = Field('Polzin ', r'$\\kappa_{full}$', NEMO_grid, NEMO_PZN_data, reg_logic=NEMO_reg)\n",
    "NEMO_JSLt_kappa = Field('J & SL ', r'$\\kappa_{tidal}$', NEMO_grid, NEMO_JSLt_data, reg_logic=NEMO_reg)\n",
    "NEMO_PZNt_kappa = Field('Polzin ', r'$\\kappa_{tidal}$', NEMO_grid, NEMO_PZNt_data, reg_logic=NEMO_reg)\n",
    "\n",
    "NEMO_JSL_dKappa = Field('J & SL - Control ', r'$\\kappa_{full}$', NEMO_grid, NEMO_JSL_data - NEMO_CTL_data, reg_logic=NEMO_reg)\n",
    "NEMO_PZN_dKappa = Field('Polzin - Control ', r'$\\kappa_{full}$', NEMO_grid, NEMO_PZN_data - NEMO_CTL_data, reg_logic=NEMO_reg)\n",
    "NEMO_JSLt_dKappa = Field('J & SL', r'$\\kappa_{full} - \\kappa_{tidal}$', NEMO_grid, NEMO_JSL_data - NEMO_JSLt_data, reg_logic=NEMO_reg)\n",
    "NEMO_PZNt_dKappa = Field('Polzin', r'$\\kappa_{full} - \\kappa_{tidal}$', NEMO_grid, NEMO_PZN_data - NEMO_PZNt_data, reg_logic=NEMO_reg)\n",
    "NEMO_framTransect.visualize_transect(NEMO_JSLt_dKappa).savefig(NEMO_savepath+'FramTransect'+'_JSL_dktidal.png')\n",
    "NEMO_framTransect.visualize_transect(NEMO_PZNt_dKappa).savefig(NEMO_savepath+'FramTransect'+'_PZN_dktidal.png')"
   ]
  },
  {
   "cell_type": "code",
   "execution_count": 15,
   "id": "cde574aa",
   "metadata": {},
   "outputs": [
    {
     "name": "stdout",
     "output_type": "stream",
     "text": [
      "Computing ARC Weighted Mean for Control $\\kappa_{full}$\n",
      "Computing CB Weighted Mean for Control $\\kappa_{full}$\n",
      "Computing EB Weighted Mean for Control $\\kappa_{full}$\n",
      "Computing Basin Weighted Mean for Control $\\kappa_{full}$\n",
      "Computing shelf Weighted Mean for Control $\\kappa_{full}$\n",
      "Computing slope Weighted Mean for Control $\\kappa_{full}$\n",
      "Computing ARC Weighted Mean for J & SL$\\kappa_{full} - \\kappa_{tidal}$\n",
      "Computing CB Weighted Mean for J & SL$\\kappa_{full} - \\kappa_{tidal}$\n",
      "Computing EB Weighted Mean for J & SL$\\kappa_{full} - \\kappa_{tidal}$\n",
      "Computing Basin Weighted Mean for J & SL$\\kappa_{full} - \\kappa_{tidal}$\n",
      "Computing shelf Weighted Mean for J & SL$\\kappa_{full} - \\kappa_{tidal}$\n",
      "Computing slope Weighted Mean for J & SL$\\kappa_{full} - \\kappa_{tidal}$\n",
      "Computing ARC Weighted Mean for Polzin$\\kappa_{full} - \\kappa_{tidal}$\n",
      "Computing CB Weighted Mean for Polzin$\\kappa_{full} - \\kappa_{tidal}$\n",
      "Computing EB Weighted Mean for Polzin$\\kappa_{full} - \\kappa_{tidal}$\n",
      "Computing Basin Weighted Mean for Polzin$\\kappa_{full} - \\kappa_{tidal}$\n",
      "Computing shelf Weighted Mean for Polzin$\\kappa_{full} - \\kappa_{tidal}$\n",
      "Computing slope Weighted Mean for Polzin$\\kappa_{full} - \\kappa_{tidal}$\n"
     ]
    }
   ],
   "source": [
    "NEMO_JSLt_dKappa = Field('J & SL', r'$\\kappa_{full} - \\kappa_{tidal}$', NEMO_grid, NEMO_JSL_data - NEMO_JSLt_data, reg_logic=NEMO_reg)\n",
    "NEMO_PZNt_dKappa = Field('Polzin', r'$\\kappa_{full} - \\kappa_{tidal}$', NEMO_grid, NEMO_PZN_data - NEMO_PZNt_data, reg_logic=NEMO_reg)\n",
    "\n",
    "visualize_average_profiles([NEMO_CTL_kappa, NEMO_JSLt_dKappa, NEMO_PZNt_dKappa]).savefig(NEMO_savepath+'DepthProf'+'_dktidal.png')\n",
    "\n",
    "NEMO_JSLt_dKappa.visualize_maps().savefig(NEMO_savepath+'DepthMap'+'_JSL_dktidal.png')\n",
    "NEMO_PZNt_dKappa.visualize_maps().savefig(NEMO_savepath+'DepthMap'+'_PZN_dktidal.png')\n",
    "NEMO_JSLt_dKappa.visualize_distributions().savefig(NEMO_savepath+'DepthDist'+'_JSL_dktidal.png')\n",
    "NEMO_PZNt_dKappa.visualize_distributions().savefig(NEMO_savepath+'DepthDist'+'_PZN_dktidal.png')\n",
    "NEMO_canbarTransect.visualize_transect(NEMO_JSLt_dKappa).savefig(NEMO_savepath+'CanbarTransect'+'_JSL_dktidal.png')\n",
    "NEMO_canbarTransect.visualize_transect(NEMO_PZNt_dKappa).savefig(NEMO_savepath+'CanbarTransect'+'_PZN_dktidal.png')"
   ]
  },
  {
   "cell_type": "code",
   "execution_count": 10,
   "id": "8cd19d5e",
   "metadata": {},
   "outputs": [],
   "source": [
    "# Make Transects\n",
    "canbar_start = np.array([-144.3258153, 70.29163412])\n",
    "canbar_end = np.array([25.05097782, 71.335544347])\n",
    "\n",
    "fram_start = np.array([-16.626389, 80.676944])\n",
    "fram_end = np.array([11.748611, 79.158611])\n",
    "\n",
    "#mitGCM_canbarTransect = Transect('CANBAR Transect', mitGCM_grid, canbar_start, canbar_end)\n",
    "#mitGCM_framTransect = Transect('FRAM Transect', mitGCM_grid, fram_start, fram_end)\n",
    "NEMO_canbarTransect = Transect('CANBAR Transect', NEMO_grid, canbar_start, canbar_end)\n",
    "NEMO_framTransect = Transect('FRAM Transect', NEMO_grid, fram_start, fram_end)"
   ]
  },
  {
   "cell_type": "markdown",
   "id": "6e48d66f",
   "metadata": {},
   "source": [
    "## Visualize Fields and Transects"
   ]
  },
  {
   "cell_type": "code",
   "execution_count": 11,
   "id": "6728701c",
   "metadata": {},
   "outputs": [
    {
     "name": "stdout",
     "output_type": "stream",
     "text": [
      "Computing ARC Weighted Mean for Control $\\kappa_{full}$\n",
      "Computing CB Weighted Mean for Control $\\kappa_{full}$\n",
      "Computing EB Weighted Mean for Control $\\kappa_{full}$\n",
      "Computing Basin Weighted Mean for Control $\\kappa_{full}$\n",
      "Computing Shelf Weighted Mean for Control $\\kappa_{full}$\n",
      "Computing Slope Weighted Mean for Control $\\kappa_{full}$\n",
      "Computing ARC Weighted Mean for J & SL $\\kappa_{full}$\n",
      "Computing CB Weighted Mean for J & SL $\\kappa_{full}$\n",
      "Computing EB Weighted Mean for J & SL $\\kappa_{full}$\n",
      "Computing Basin Weighted Mean for J & SL $\\kappa_{full}$\n",
      "Computing Shelf Weighted Mean for J & SL $\\kappa_{full}$\n",
      "Computing Slope Weighted Mean for J & SL $\\kappa_{full}$\n",
      "Computing ARC Weighted Mean for Polzin $\\kappa_{full}$\n",
      "Computing CB Weighted Mean for Polzin $\\kappa_{full}$\n",
      "Computing EB Weighted Mean for Polzin $\\kappa_{full}$\n",
      "Computing Basin Weighted Mean for Polzin $\\kappa_{full}$\n",
      "Computing Shelf Weighted Mean for Polzin $\\kappa_{full}$\n",
      "Computing Slope Weighted Mean for Polzin $\\kappa_{full}$\n",
      "Computing ARC Weighted Mean for J & SL $\\kappa_{tidal}$\n",
      "Computing CB Weighted Mean for J & SL $\\kappa_{tidal}$\n",
      "Computing EB Weighted Mean for J & SL $\\kappa_{tidal}$\n",
      "Computing Basin Weighted Mean for J & SL $\\kappa_{tidal}$\n",
      "Computing Shelf Weighted Mean for J & SL $\\kappa_{tidal}$\n",
      "Computing Slope Weighted Mean for J & SL $\\kappa_{tidal}$\n",
      "Computing ARC Weighted Mean for Polzin $\\kappa_{tidal}$\n",
      "Computing CB Weighted Mean for Polzin $\\kappa_{tidal}$\n",
      "Computing EB Weighted Mean for Polzin $\\kappa_{tidal}$\n",
      "Computing Basin Weighted Mean for Polzin $\\kappa_{tidal}$\n",
      "Computing Shelf Weighted Mean for Polzin $\\kappa_{tidal}$\n",
      "Computing Slope Weighted Mean for Polzin $\\kappa_{tidal}$\n",
      "Computing ARC Weighted Mean for J & SL - Tidal $\\kappa_{full} - \\kappa_{tidal}$\n",
      "Computing CB Weighted Mean for J & SL - Tidal $\\kappa_{full} - \\kappa_{tidal}$\n",
      "Computing EB Weighted Mean for J & SL - Tidal $\\kappa_{full} - \\kappa_{tidal}$\n",
      "Computing Basin Weighted Mean for J & SL - Tidal $\\kappa_{full} - \\kappa_{tidal}$\n",
      "Computing Shelf Weighted Mean for J & SL - Tidal $\\kappa_{full} - \\kappa_{tidal}$\n",
      "Computing Slope Weighted Mean for J & SL - Tidal $\\kappa_{full} - \\kappa_{tidal}$\n",
      "Computing ARC Weighted Mean for Polzin - Tidal $\\kappa_{full} - \\kappa_{tidal}$\n",
      "Computing CB Weighted Mean for Polzin - Tidal $\\kappa_{full} - \\kappa_{tidal}$\n",
      "Computing EB Weighted Mean for Polzin - Tidal $\\kappa_{full} - \\kappa_{tidal}$\n",
      "Computing Basin Weighted Mean for Polzin - Tidal $\\kappa_{full} - \\kappa_{tidal}$\n",
      "Computing Shelf Weighted Mean for Polzin - Tidal $\\kappa_{full} - \\kappa_{tidal}$\n",
      "Computing Slope Weighted Mean for Polzin - Tidal $\\kappa_{full} - \\kappa_{tidal}$\n"
     ]
    },
    {
     "name": "stderr",
     "output_type": "stream",
     "text": [
      "/Users/joshualerner/Desktop/arcticMix/scripts/arctic_objects.py:130: RuntimeWarning: All-NaN slice encountered\n",
      "  st.set_y(1)\n",
      "/Users/joshualerner/Desktop/arcticMix/scripts/arctic_objects.py:130: RuntimeWarning: All-NaN slice encountered\n",
      "  st.set_y(1)\n"
     ]
    }
   ],
   "source": [
    "NEMO_savepath = '../NEMO/plots/'\n",
    "\n",
    "NEMO_CTL_kappa.visualize_regional_profile().savefig(NEMO_savepath+'RegProf'+'_CTL_kfull.png')\n",
    "NEMO_JSL_kappa.visualize_regional_profile().savefig(NEMO_savepath+'RegProf'+'_JSL_kfull.png')\n",
    "NEMO_PZN_kappa.visualize_regional_profile().savefig(NEMO_savepath+'RegProf'+'_PZN_kfull.png')\n",
    "NEMO_JSLt_kappa.visualize_regional_profile().savefig(NEMO_savepath+'RegProf'+'_JSL_ktidal.png')\n",
    "NEMO_PZNt_kappa.visualize_regional_profile().savefig(NEMO_savepath+'RegProf'+'_PZN_ktidal.png')\n",
    "\n",
    "visualize_average_profiles([NEMO_CTL_kappa, NEMO_JSL_kappa, NEMO_PZN_kappa]).savefig(NEMO_savepath+'DepthProf'+'_kfull.png')\n",
    "visualize_average_profiles([NEMO_CTL_kappa, NEMO_JSLt_dKappa, NEMO_PZNt_dKappa]).savefig(NEMO_savepath+'DepthProf'+'_dktidal.png')\n",
    "\n",
    "NEMO_CTL_kappa.visualize_maps().savefig(NEMO_savepath+'DepthMap'+'_CTL_kfull.png')\n",
    "NEMO_JSL_kappa.visualize_maps().savefig(NEMO_savepath+'DepthMap'+'_JSL_kfull.png')\n",
    "NEMO_PZN_kappa.visualize_maps().savefig(NEMO_savepath+'DepthMap'+'_PZN_kfull.png')\n",
    "NEMO_JSLt_kappa.visualize_maps().savefig(NEMO_savepath+'DepthMap'+'_JSL_ktidal.png')\n",
    "NEMO_PZNt_kappa.visualize_maps().savefig(NEMO_savepath+'DepthMap'+'_PZN_ktidal.png')\n",
    "NEMO_JSL_dKappa.visualize_maps(log=False).savefig(NEMO_savepath+'DepthMap'+'_JSL_dkfull.png')\n",
    "NEMO_PZN_dKappa.visualize_maps(log=False).savefig(NEMO_savepath+'DepthMap'+'_PZN_dkfull.png')\n",
    "NEMO_JSLt_dKappa.visualize_maps().savefig(NEMO_savepath+'DepthMap'+'_JSL_dktidal.png')\n",
    "NEMO_PZNt_dKappa.visualize_maps().savefig(NEMO_savepath+'DepthMap'+'_PZN_dktidal.png')\n",
    "\n",
    "NEMO_CTL_kappa.visualize_distributions().savefig(NEMO_savepath+'DepthDist'+'_CTL_kfull.png')\n",
    "NEMO_JSL_kappa.visualize_distributions().savefig(NEMO_savepath+'DepthDist'+'_JSL_kfull.png')\n",
    "NEMO_PZN_kappa.visualize_distributions().savefig(NEMO_savepath+'DepthDist'+'_PZN_kfull.png')\n",
    "NEMO_JSLt_kappa.visualize_distributions().savefig(NEMO_savepath+'DepthDist'+'_JSL_ktidal.png')\n",
    "NEMO_PZNt_kappa.visualize_distributions().savefig(NEMO_savepath+'DepthDist'+'_PZN_ktidal.png')\n",
    "NEMO_JSL_dKappa.visualize_distributions(log=False).savefig(NEMO_savepath+'DepthDist'+'_JSL_dkfull.png')\n",
    "NEMO_PZN_dKappa.visualize_distributions(log=False).savefig(NEMO_savepath+'DepthDist'+'_PZN_dkfull.png')\n",
    "NEMO_JSLt_dKappa.visualize_distributions().savefig(NEMO_savepath+'DepthDist'+'_JSL_dktidal.png')\n",
    "NEMO_PZNt_dKappa.visualize_distributions().savefig(NEMO_savepath+'DepthDist'+'_PZN_dktidal.png')\n",
    "\n",
    "NEMO_canbarTransect.visualize_transect(NEMO_CTL_kappa).savefig(NEMO_savepath+'CanbarTransect'+'_CTL_kfull.png')\n",
    "NEMO_canbarTransect.visualize_transect(NEMO_JSL_kappa).savefig(NEMO_savepath+'CanbarTransect'+'_JSL_kfull.png')\n",
    "NEMO_canbarTransect.visualize_transect(NEMO_PZN_kappa).savefig(NEMO_savepath+'CanbarTransect'+'_PZN_kfull.png')\n",
    "NEMO_canbarTransect.visualize_transect(NEMO_JSL_dKappa, log=False).savefig(NEMO_savepath+'CanbarTransect'+'_JSL_dkfull.png')\n",
    "NEMO_canbarTransect.visualize_transect(NEMO_PZN_dKappa, log=False).savefig(NEMO_savepath+'CanbarTransect'+'_PZN_dkfull.png')\n",
    "NEMO_canbarTransect.visualize_transect(NEMO_JSLt_kappa).savefig(NEMO_savepath+'CanbarTransect'+'_JSL_ktidal.png')\n",
    "NEMO_canbarTransect.visualize_transect(NEMO_PZNt_kappa).savefig(NEMO_savepath+'CanbarTransect'+'_PZN_ktidal.png')\n",
    "NEMO_canbarTransect.visualize_transect(NEMO_JSLt_dKappa).savefig(NEMO_savepath+'CanbarTransect'+'_JSL_dktidal.png')\n",
    "NEMO_canbarTransect.visualize_transect(NEMO_PZNt_dKappa).savefig(NEMO_savepath+'CanbarTransect'+'_PZN_dktidal.png')\n",
    "\n",
    "NEMO_framTransect.visualize_transect(NEMO_CTL_kappa).savefig(NEMO_savepath+'FramTransect'+'_CTL_kfull.png')\n",
    "NEMO_framTransect.visualize_transect(NEMO_JSL_kappa).savefig(NEMO_savepath+'FramTransect'+'_JSL_kfull.png')\n",
    "NEMO_framTransect.visualize_transect(NEMO_PZN_kappa).savefig(NEMO_savepath+'FramTransect'+'_PZN_kfull.png')\n",
    "NEMO_framTransect.visualize_transect(NEMO_JSL_dKappa, log=False).savefig(NEMO_savepath+'FramTransect'+'_JSL_dkfull.png')\n",
    "NEMO_framTransect.visualize_transect(NEMO_PZN_dKappa, log=False).savefig(NEMO_savepath+'FramTransect'+'_PZN_dkfull.png')\n",
    "NEMO_framTransect.visualize_transect(NEMO_JSLt_kappa).savefig(NEMO_savepath+'FramTransect'+'_JSL_ktidal.png')\n",
    "NEMO_framTransect.visualize_transect(NEMO_PZNt_kappa).savefig(NEMO_savepath+'FramTransect'+'_PZN_ktidal.png')\n",
    "NEMO_framTransect.visualize_transect(NEMO_JSLt_dKappa).savefig(NEMO_savepath+'FramTransect'+'_JSL_dktidal.png')\n",
    "NEMO_framTransect.visualize_transect(NEMO_PZNt_dKappa).savefig(NEMO_savepath+'FramTransect'+'_PZN_dktidal.png')\n",
    "\n",
    "NEMO_canbarTransect.visualize_line().savefig(NEMO_savepath+'TransectMap_canbar.png')\n",
    "NEMO_framTransect.visualize_line().savefig(NEMO_savepath+'TransectMap_fram.png')"
   ]
  },
  {
   "cell_type": "code",
   "execution_count": 12,
   "id": "2e015e59",
   "metadata": {},
   "outputs": [],
   "source": [
    "mitGCM_savepath = '../mitGCM/plots/'\n",
    "\n",
    "#for key in mitGCM_kappa_bg.keys():\n",
    "#    mitGCM_kappa_bg[key].visualize_average_profiles().savefig(mitGCM_savepath+'AvgProf'+'_'+key+'_'+'kbg'+'.png')\n",
    "#    mitGCM_kappa_t[key].visualize_average_profiles().savefig(mitGCM_savepath+'AvgProf'+'_'+key+'_'+'kt'+'.png')\n",
    "#    mitGCM_kappa_s[key].visualize_average_profiles().savefig(mitGCM_savepath+'AvgProf'+'_'+key+'_'+'ks'+'.png')\n",
    "#    \n",
    "#    mitGCM_kappa_bg[key].visualize_distributions().savefig(mitGCM_savepath+'DepthDist'+'_'+key+'_'+'kbg'+'.png')\n",
    "#    mitGCM_kappa_t[key].visualize_distributions().savefig(mitGCM_savepath+'DepthDist'+'_'+key+'_'+'kt'+'.png')\n",
    "#    mitGCM_kappa_s[key].visualize_distributions().savefig(mitGCM_savepath+'DepthDist'+'_'+key+'_'+'ks'+'.png')\n",
    "#    \n",
    "#    mitGCM_kappa_bg[key].visualize_distributions().savefig(mitGCM_savepath+'DepthDist'+'_'+key+'_'+'kbg'+'.png')\n",
    "#    mitGCM_kappa_t[key].visualize_distributions().savefig(mitGCM_savepath+'DepthDist'+'_'+key+'_'+'kt'+'.png')\n",
    "#    mitGCM_kappa_s[key].visualize_distributions().savefig(mitGCM_savepath+'DepthDist'+'_'+key+'_'+'ks'+'.png')\n",
    "#    \n",
    "#    mitGCM_kappa_bg[key].visualize_maps().savefig(mitGCM_savepath+'DepthMap'+'_'+key+'_'+'kbg'+'.png')\n",
    "#    mitGCM_kappa_t[key].visualize_maps().savefig(mitGCM_savepath+'DepthMap'+'_'+key+'_'+'kt'+'.png')\n",
    "#    mitGCM_kappa_s[key].visualize_maps().savefig(mitGCM_savepath+'DepthMap'+'_'+key+'_'+'ks'+'.png')\n",
    "#    \n",
    "#    mitGCM_canbarTransect.visualize_transect(mitGCM_kappa_bg[key]).savefig(\n",
    "#        mitGCM_savepath+'CanbarTransect'+'_'+key+'_'+'kbg'+'.png')\n",
    "#    mitGCM_canbarTransect.visualize_transect(mitGCM_kappa_t[key]).savefig(\n",
    "#        mitGCM_savepath+'CanbarTransect'+'_'+key+'_'+'kt'+'.png')\n",
    "#    mitGCM_canbarTransect.visualize_transect(mitGCM_kappa_s[key]).savefig(\n",
    "#        mitGCM_savepath+'CanbarTransect'+'_'+key+'_'+'ks'+'.png')\n",
    "#    \n",
    "#    mitGCM_framTransect.visualize_transect(mitGCM_kappa_bg[key]).savefig(\n",
    "#        mitGCM_savepath+'FramTransect'+'_'+key+'_'+'kbg'+'.png')\n",
    "#    mitGCM_framTransect.visualize_transect(mitGCM_kappa_t[key]).savefig(\n",
    "#        mitGCM_savepath+'FramTransect'+'_'+key+'_'+'kt'+'.png')\n",
    "#    mitGCM_framTransect.visualize_transect(mitGCM_kappa_s[key]).savefig(\n",
    "#        mitGCM_savepath+'FramTransect'+'_'+key+'_'+'ks'+'.png')\n",
    "#\n",
    "#mitGCM_canbarTransect.visualize_line().savefig(mitGCM_savepath+'TransectMap_canbar.png')\n",
    "#mitGCM_framTransect.visualize_line().savefig(mitGCM_savepath+'TransectMap_fram.png')"
   ]
  },
  {
   "cell_type": "code",
   "execution_count": null,
   "id": "608d96a7",
   "metadata": {},
   "outputs": [],
   "source": []
  }
 ],
 "metadata": {
  "kernelspec": {
   "display_name": "Python 3 (ipykernel)",
   "language": "python",
   "name": "python3"
  },
  "language_info": {
   "codemirror_mode": {
    "name": "ipython",
    "version": 3
   },
   "file_extension": ".py",
   "mimetype": "text/x-python",
   "name": "python",
   "nbconvert_exporter": "python",
   "pygments_lexer": "ipython3",
   "version": "3.8.10"
  }
 },
 "nbformat": 4,
 "nbformat_minor": 5
}
