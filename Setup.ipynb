{
 "cells": [
  {
   "cell_type": "markdown",
   "id": "8fb0c3b7-0093-4f8a-b1bc-08454aedb27d",
   "metadata": {},
   "source": [
    "## Setup"
   ]
  },
  {
   "cell_type": "code",
   "execution_count": 1,
   "id": "6c693ba1-83d9-4437-a2ed-96c10ccac47d",
   "metadata": {},
   "outputs": [],
   "source": [
    "%load_ext autoreload\n",
    "%autoreload 2"
   ]
  },
  {
   "cell_type": "code",
   "execution_count": 2,
   "id": "068ee573-d894-4861-b789-76c24cee9fb8",
   "metadata": {},
   "outputs": [],
   "source": [
    "from arctic_objects import *\n",
    "from arctic_functions import *\n",
    "import scipy.io as sio\n",
    "import netCDF4 as nc\n",
    "import numpy as np"
   ]
  },
  {
   "cell_type": "code",
   "execution_count": 25,
   "id": "84ebc7d6-2b42-41d0-b4e3-4e964fb11777",
   "metadata": {},
   "outputs": [],
   "source": [
    "# Paths to Data and Figures\n",
    "MIT0_fp = '/ocean/jolerner/data/MITGCM/'\n",
    "MITC_fp = MIT0_fp + 'CTL/'\n",
    "MITO_fp = MIT0_fp + 'OBS/'\n",
    "MITR_fp = MIT0_fp + 'REG/'\n",
    "MITH_fp = MIT0_fp + 'HI/'\n",
    "MITL_fp = MIT0_fp + 'LO/'\n",
    "\n",
    "NEMO_fp = '/ocean/jolerner/data/NEMO/'\n",
    "\n",
    "ASTE_fp = '/ocean/jolerner/data/ASTE/'\n",
    "\n",
    "WODC_fp = '/ocean/jolerner/data/WOD/'\n",
    "\n",
    "SAVE_fp = '/ocean/jolerner/plots/'\n",
    "\n",
    "# Define Callback Functions\n",
    "contour={'func':potentialDensity, 'args':{'ref':0}}"
   ]
  },
  {
   "cell_type": "code",
   "execution_count": 31,
   "id": "0478c122-6946-48c4-a009-7de399b42a7e",
   "metadata": {},
   "outputs": [],
   "source": [
    "# Load Grids and Regions\n",
    "MIT0_grid = sio.loadmat(MIT0_fp + 'grid.mat', simplify_cells=True)['grid']\n",
    "NEMO_grid = sio.loadmat(NEMO_fp + 'grid.mat', simplify_cells=True)['grid']\n",
    "ASTE_grid = sio.loadmat(ASTE_fp + 'grid.mat', simplify_cells=True)['grid']\n",
    "\n",
    "MIT0_reg = sio.loadmat(MIT0_fp + 'regions.mat', simplify_cells=True)['regions']\n",
    "NEMO_reg = sio.loadmat(NEMO_fp + 'regions.mat', simplify_cells=True)['regions']\n",
    "ASTE_reg = sio.loadmat(ASTE_fp + 'regions.mat', simplify_cells=True)['regions']"
   ]
  },
  {
   "cell_type": "code",
   "execution_count": 8,
   "id": "c796a254-2cac-4982-aafa-3ce05cc087d6",
   "metadata": {},
   "outputs": [],
   "source": [
    "# Load Transects\n",
    "\n",
    "CBAR_coords = ([-144, 70], [25, 70])\n",
    "FRAM_coords = ([79, -20], [79, 12])\n",
    "\n",
    "MIT0_CBAR = Transect('CANBAR Transect', MIT0_grid, CBAR_coords[0], CBAR_coords[1])\n",
    "NEMO_CBAR = Transect('CANBAR Transect', NEMO_grid, CBAR_coords[0], CBAR_coords[1])\n",
    "\n",
    "MIT0_FRAM = Transect('FRAM Transect', MIT0_grid, FRAM_coords[0], FRAM_coords[1])\n",
    "NEMO_FRAM = Transect('FRAM Transect', NEMO_grid, FRAM_coords[0], FRAM_coords[1])\n"
   ]
  }
 ],
 "metadata": {
  "kernelspec": {
   "display_name": "Python 3 (ipykernel)",
   "language": "python",
   "name": "python3"
  },
  "language_info": {
   "codemirror_mode": {
    "name": "ipython",
    "version": 3
   },
   "file_extension": ".py",
   "mimetype": "text/x-python",
   "name": "python",
   "nbconvert_exporter": "python",
   "pygments_lexer": "ipython3",
   "version": "3.12.3"
  }
 },
 "nbformat": 4,
 "nbformat_minor": 5
}
