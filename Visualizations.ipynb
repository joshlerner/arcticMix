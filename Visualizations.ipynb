{
 "cells": [
  {
   "cell_type": "markdown",
   "id": "14f8024d-3da0-469e-9e55-b5296d1464c5",
   "metadata": {},
   "source": [
    "# Setup"
   ]
  },
  {
   "cell_type": "code",
   "execution_count": 1,
   "id": "565a9911",
   "metadata": {},
   "outputs": [],
   "source": [
    "# Include these at the top of your notebook to automatically\n",
    "# read saved changes to the imported modules below\n",
    "\n",
    "%load_ext autoreload\n",
    "%autoreload 2"
   ]
  },
  {
   "cell_type": "code",
   "execution_count": 2,
   "id": "0b2a7004",
   "metadata": {},
   "outputs": [],
   "source": [
    "# Import modules and local files here\n",
    "\n",
    "from arctic_objects import *\n",
    "from arctic_functions import *\n",
    "import scipy.io as sio\n",
    "import netCDF4 as nc\n",
    "import numpy as np"
   ]
  },
  {
   "cell_type": "code",
   "execution_count": 3,
   "id": "ef02ba25",
   "metadata": {},
   "outputs": [],
   "source": [
    "# Paths to Data and Figures\n",
    "MIT0_fp = '/ocean/jolerner/data/MITGCM/'\n",
    "\n",
    "runs = ['CTL', 'OBS', 'REG', 'HI', 'LO']\n",
    "\n",
    "NEMO_fp = '/ocean/jolerner/data/NEMO/'\n",
    "\n",
    "ASTE_fp = '/ocean/jolerner/data/ASTE/'\n",
    "\n",
    "WODC_fp = '/ocean/jolerner/data/WOD/'\n",
    "\n",
    "SAVE_fp = '/ocean/jolerner/plots/'\n",
    "\n",
    "# Define Callback Functions\n",
    "contour={'func':potentialDensity, 'args':{'ref':0}}"
   ]
  },
  {
   "cell_type": "code",
   "execution_count": 4,
   "id": "6e143cd2-a60d-48f5-85a9-aae62e7161ce",
   "metadata": {},
   "outputs": [],
   "source": [
    "# Load Grids and Regions\n",
    "MIT0_grid = sio.loadmat(MIT0_fp + 'grid.mat', simplify_cells=True)['grid']\n",
    "NEMO_grid = sio.loadmat(NEMO_fp + 'grid.mat', simplify_cells=True)['grid']\n",
    "ASTE_grid = sio.loadmat(ASTE_fp + 'grid.mat', simplify_cells=True)['grid']\n",
    "\n",
    "MIT0_reg = sio.loadmat(MIT0_fp + 'regions.mat', simplify_cells=True)['regions']\n",
    "NEMO_reg = sio.loadmat(NEMO_fp + 'regions.mat', simplify_cells=True)['regions']\n",
    "ASTE_reg = sio.loadmat(ASTE_fp + 'regions.mat', simplify_cells=True)['regions']\n",
    "MIT0_reg = makeRegions(ASTE_reg, ASTE_grid, MIT0_grid)"
   ]
  },
  {
   "cell_type": "code",
   "execution_count": 5,
   "id": "d1c9795c-fb32-4795-9259-cb8377ea13df",
   "metadata": {},
   "outputs": [],
   "source": [
    "# Load Transects\n",
    "\n",
    "CBAR_coords = ([-144, 70], [25, 70])\n",
    "FRAM_coords = ([-16.67, 80.67], [11.7, 79])\n",
    "BFGY_coords = ([-144, 70], [-144, 83])\n",
    "\n",
    "MIT0_CBAR = Transect('CANBAR Transect', MIT0_grid, CBAR_coords[0], CBAR_coords[1])\n",
    "ASTE_CBAR = Transect('CANBAR Transect', ASTE_grid, CBAR_coords[0], CBAR_coords[1])\n",
    "NEMO_CBAR = Transect('CANBAR Transect', NEMO_grid, CBAR_coords[0], CBAR_coords[1])\n",
    "\n",
    "MIT0_FRAM = Transect('FRAM Transect', MIT0_grid, FRAM_coords[0], FRAM_coords[1])\n",
    "ASTE_FRAM = Transect('FRAM Transect', ASTE_grid, FRAM_coords[0], FRAM_coords[1])\n",
    "NEMO_FRAM = Transect('FRAM Transect', NEMO_grid, FRAM_coords[0], FRAM_coords[1])\n",
    "\n",
    "MIT0_BFGY = Transect('Beaufort Gyre Transect', MIT0_grid, BFGY_coords[0], BFGY_coords[1])\n",
    "ASTE_BFGY = Transect('Beaufort Gyre Transect', ASTE_grid, BFGY_coords[0], BFGY_coords[1])\n",
    "NEMO_BFGY = Transect('Beaufort Gyre Transect', NEMO_grid, BFGY_coords[0], BFGY_coords[1])\n"
   ]
  },
  {
   "cell_type": "markdown",
   "id": "91eca32e-6597-42e0-bb00-13e9ff86442a",
   "metadata": {},
   "source": [
    "# Data"
   ]
  },
  {
   "cell_type": "markdown",
   "id": "fc79082f-b7e6-412d-8a9b-05aab69f18a3",
   "metadata": {},
   "source": [
    "To load in the data use: `data = sio.loadmat(PATH-TO-FILE, simplify_cells=True)[FIELD_NAME]`\n",
    "\n",
    "Some files have multiple fields in them. For example, `CTL_DIFFzTH_2008-2012avg.mat` contains the fields for \n",
    "* Explicit Vertical Diffusive Heat Flux (`FIELD_NAME = 'Explicit'`)\n",
    "* Implicit Vertical Diffusive Heat Flux (`FIELD_NAME = 'Implicit'`)\n",
    "* Total Vertical Diffusive Heat Flux (`FIELD_NAME = 'Total'`)\n",
    "\n",
    "To load the Total Vertical Diffusive Heat Flux from the MITGCM Control Run:"
   ]
  },
  {
   "cell_type": "code",
   "execution_count": 6,
   "id": "77e08592-2a06-4b8f-bd72-3de9a4b35a37",
   "metadata": {},
   "outputs": [],
   "source": [
    "data = sio.loadmat(MIT0_fp + 'CTL/CTL_DIFFzTH_2008-2012avg.mat', simplify_cells=True)['Total']"
   ]
  },
  {
   "cell_type": "markdown",
   "id": "fbfa34e4-7dba-416d-990a-7b259784aa50",
   "metadata": {},
   "source": [
    "This field uses the MITGCM grid (210 x 192 x 50) and regional logicals. To make a field object for the data:"
   ]
  },
  {
   "cell_type": "code",
   "execution_count": 7,
   "id": "a3a67418-f366-4063-8f82-54668e385319",
   "metadata": {},
   "outputs": [],
   "source": [
    "field1 = Field('MITGCM Control', data['long_name'], data['units'], data['data'], MIT0_grid, MIT0_reg)"
   ]
  },
  {
   "cell_type": "markdown",
   "id": "331da88e-3b18-486f-8953-fb92257a0a37",
   "metadata": {},
   "source": [
    "There are several ways to visualize the data:\n",
    "* Vertical Regional Profiles (`FIELD.visualize_regional_profile()`)\n",
    "* Regional Distributions (`FIELD.visualize_distributions()`)\n",
    "* Contour Maps (`FIELD.visualize_maps`)\n",
    "* Cross-sections of Transects (`TRANSECT.visualize_transect(FIELD)`)\n",
    "\n",
    "Let's look at a vertical regional profile of the Vertical Diffusive Heat Flux from the MITGCM Control Run:"
   ]
  },
  {
   "cell_type": "code",
   "execution_count": 8,
   "id": "1d93a108-5934-43bf-985e-ec9782d2bc86",
   "metadata": {},
   "outputs": [
    {
     "name": "stdout",
     "output_type": "stream",
     "text": [
      "Computing weighted means for MITGCM Control Total Vertical Diffusive Heat Flux\n"
     ]
    }
   ],
   "source": [
    "fig = field1.visualize_regional_profile(scale='symlog', show=False)"
   ]
  },
  {
   "cell_type": "markdown",
   "id": "943fc640-bfc1-4f43-aa20-56b08ee0f8da",
   "metadata": {},
   "source": [
    "Next, let's look at the Vertical Diffusive Heat Flux from the MITGCM Control Run along the CANBAR transect:"
   ]
  },
  {
   "cell_type": "code",
   "execution_count": 9,
   "id": "91664356-5c5a-44cb-8a04-11f966a959fb",
   "metadata": {},
   "outputs": [],
   "source": [
    "fig = MIT0_CBAR.visualize_transect(field1, scale='symlog', show=False)"
   ]
  },
  {
   "cell_type": "markdown",
   "id": "591256e2-1415-4570-ab00-415002ea02db",
   "metadata": {},
   "source": [
    "If instead, we want to look at the same field from the ASTE Control Run"
   ]
  },
  {
   "cell_type": "code",
   "execution_count": 10,
   "id": "eb7b8980-eaef-4859-bd17-e57e3e73f8dd",
   "metadata": {},
   "outputs": [],
   "source": [
    "data = sio.loadmat(ASTE_fp + 'CTL_DIFFzTH_2008-2012avg.mat', simplify_cells=True)['Total']\n",
    "field2 = Field('ASTE Control', data['long_name'], data['units'], data['data'], ASTE_grid, ASTE_reg)\n",
    "fig = ASTE_CBAR.visualize_transect(field2, scale='symlog', show=False)"
   ]
  },
  {
   "cell_type": "markdown",
   "id": "bae213de-cf89-4638-8581-824a2b74e5a1",
   "metadata": {},
   "source": [
    "Now, let's look at an anomaly plot of two fields, \n",
    "comparing the Potential Temperature of the MITGCM Control Run and the ASTE Control Run:"
   ]
  },
  {
   "cell_type": "code",
   "execution_count": 11,
   "id": "4c1056a8-5acb-4a29-98e3-fae6c96da68d",
   "metadata": {},
   "outputs": [
    {
     "ename": "ValueError",
     "evalue": "operands could not be broadcast together with shapes (210,192,50) (450,270,50) ",
     "output_type": "error",
     "traceback": [
      "\u001b[0;31m---------------------------------------------------------------------------\u001b[0m",
      "\u001b[0;31mValueError\u001b[0m                                Traceback (most recent call last)",
      "Cell \u001b[0;32mIn[11], line 3\u001b[0m\n\u001b[1;32m      1\u001b[0m data1 \u001b[38;5;241m=\u001b[39m sio\u001b[38;5;241m.\u001b[39mloadmat(MIT0_fp \u001b[38;5;241m+\u001b[39m \u001b[38;5;124m'\u001b[39m\u001b[38;5;124mCTL/CTL_theta_2008-2012avg.mat\u001b[39m\u001b[38;5;124m'\u001b[39m, simplify_cells\u001b[38;5;241m=\u001b[39m\u001b[38;5;28;01mTrue\u001b[39;00m)[\u001b[38;5;124m'\u001b[39m\u001b[38;5;124mtheta\u001b[39m\u001b[38;5;124m'\u001b[39m]\n\u001b[1;32m      2\u001b[0m data2 \u001b[38;5;241m=\u001b[39m sio\u001b[38;5;241m.\u001b[39mloadmat(ASTE_fp \u001b[38;5;241m+\u001b[39m \u001b[38;5;124m'\u001b[39m\u001b[38;5;124mCTL_theta_2008-2012avg.mat\u001b[39m\u001b[38;5;124m'\u001b[39m, simplify_cells\u001b[38;5;241m=\u001b[39m\u001b[38;5;28;01mTrue\u001b[39;00m)[\u001b[38;5;124m'\u001b[39m\u001b[38;5;124mtheta\u001b[39m\u001b[38;5;124m'\u001b[39m]\n\u001b[0;32m----> 3\u001b[0m field3 \u001b[38;5;241m=\u001b[39m Field(\u001b[38;5;124m'\u001b[39m\u001b[38;5;124mASTE - MITGCM Control\u001b[39m\u001b[38;5;124m'\u001b[39m, data1[\u001b[38;5;124m'\u001b[39m\u001b[38;5;124mlong_name\u001b[39m\u001b[38;5;124m'\u001b[39m], data1[\u001b[38;5;124m'\u001b[39m\u001b[38;5;124munits\u001b[39m\u001b[38;5;124m'\u001b[39m], data1[\u001b[38;5;124m'\u001b[39m\u001b[38;5;124mdata\u001b[39m\u001b[38;5;124m'\u001b[39m]\u001b[38;5;241m-\u001b[39mdata2[\u001b[38;5;124m'\u001b[39m\u001b[38;5;124mdata\u001b[39m\u001b[38;5;124m'\u001b[39m], MIT0_grid, MIT0_reg)\n",
      "\u001b[0;31mValueError\u001b[0m: operands could not be broadcast together with shapes (210,192,50) (450,270,50) "
     ]
    }
   ],
   "source": [
    "data1 = sio.loadmat(MIT0_fp + 'CTL/CTL_theta_2008-2012avg.mat', simplify_cells=True)['theta']\n",
    "data2 = sio.loadmat(ASTE_fp + 'CTL_theta_2008-2012avg.mat', simplify_cells=True)['theta']\n",
    "field3 = Field('ASTE - MITGCM Control', data1['long_name'], data1['units'], data1['data']-data2['data'], MIT0_grid, MIT0_reg)"
   ]
  },
  {
   "cell_type": "markdown",
   "id": "90911690-d8e3-4f52-a7c1-4ae9b889d5fe",
   "metadata": {},
   "source": [
    "The data is not the same shape, so we will need to resample the data to fit on the same grid using\n",
    "\n",
    "`resample(old_data, old_grid, new_grid)`"
   ]
  },
  {
   "cell_type": "code",
   "execution_count": 12,
   "id": "633e6d12-f8e3-4ac3-9fc5-363d861aac74",
   "metadata": {},
   "outputs": [
    {
     "name": "stderr",
     "output_type": "stream",
     "text": [
      "/home/jolerner/arcticMix/arctic_functions.py:299: RuntimeWarning: Mean of empty slice\n",
      "  new_data = np.nanmean(flat_data[idx], axis=1)\n"
     ]
    }
   ],
   "source": [
    "field3 = Field('MITGCM - ASTE Control', data1['name'], data1['units'], \n",
    "               data1['data']-resample(data2['data'], ASTE_grid, MIT0_grid), MIT0_grid, MIT0_reg)\n",
    "fig = MIT0_CBAR.visualize_transect(field3, show=False)"
   ]
  },
  {
   "cell_type": "markdown",
   "id": "27a14876-96c2-4809-831d-f4a094534d0b",
   "metadata": {},
   "source": [
    "There is another type of plot called a volume census that utilizes salinity and temperature"
   ]
  },
  {
   "cell_type": "code",
   "execution_count": 13,
   "id": "1a980009-2487-4e74-b6b3-3b55416d7c93",
   "metadata": {},
   "outputs": [],
   "source": [
    "SALT = Field('MITGCM Control', 'Practical Salinity', 'PSU', \n",
    "             sio.loadmat(MIT0_fp + 'CTL/CTL_salinity_2008-2012avg.mat', simplify_cells=True)['salinity']['data'], MIT0_grid, MIT0_reg)\n",
    "HEAT = Field('MITGCM Control', 'Potential Temperature', '˚C', \n",
    "             sio.loadmat(MIT0_fp + 'CTL/CTL_theta_2008-2012avg.mat', simplify_cells=True)['theta']['data'], MIT0_grid, MIT0_reg)\n",
    "fig = volumeCensus(SALT, HEAT, contour=contour, range=((26,36),(-2.5,7.5)), show=False)"
   ]
  }
 ],
 "metadata": {
  "kernelspec": {
   "display_name": "Python 3 (ipykernel)",
   "language": "python",
   "name": "python3"
  },
  "language_info": {
   "codemirror_mode": {
    "name": "ipython",
    "version": 3
   },
   "file_extension": ".py",
   "mimetype": "text/x-python",
   "name": "python",
   "nbconvert_exporter": "python",
   "pygments_lexer": "ipython3",
   "version": "3.12.3"
  }
 },
 "nbformat": 4,
 "nbformat_minor": 5
}
