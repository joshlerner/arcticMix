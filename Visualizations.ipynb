{
 "cells": [
  {
   "cell_type": "markdown",
   "id": "14f8024d-3da0-469e-9e55-b5296d1464c5",
   "metadata": {},
   "source": [
    "# Setup"
   ]
  },
  {
   "cell_type": "code",
   "execution_count": 1,
   "id": "565a9911",
   "metadata": {},
   "outputs": [],
   "source": [
    "%load_ext autoreload\n",
    "%autoreload 2"
   ]
  },
  {
   "cell_type": "code",
   "execution_count": 2,
   "id": "0b2a7004",
   "metadata": {},
   "outputs": [],
   "source": [
    "from arctic_objects import *\n",
    "from arctic_functions import *\n",
    "import scipy.io as sio\n",
    "import netCDF4 as nc\n",
    "import numpy as np"
   ]
  },
  {
   "cell_type": "code",
   "execution_count": 3,
   "id": "ef02ba25",
   "metadata": {},
   "outputs": [],
   "source": [
    "# Paths to Data and Figures\n",
    "MIT0_fp = '/ocean/jolerner/data/MITGCM/'\n",
    "\n",
    "runs = ['CTL', 'OBS', 'REG', 'HI', 'LO']\n",
    "\n",
    "NEMO_fp = '/ocean/jolerner/data/NEMO/'\n",
    "\n",
    "ASTE_fp = '/ocean/jolerner/data/ASTE/'\n",
    "\n",
    "WODC_fp = '/ocean/jolerner/data/WOD/'\n",
    "\n",
    "SAVE_fp = '/ocean/jolerner/plots/'\n",
    "\n",
    "# Define Callback Functions\n",
    "contour={'func':potentialDensity, 'args':{'ref':0}}"
   ]
  },
  {
   "cell_type": "code",
   "execution_count": 4,
   "id": "6e143cd2-a60d-48f5-85a9-aae62e7161ce",
   "metadata": {},
   "outputs": [],
   "source": [
    "# Load Grids and Regions\n",
    "MIT0_grid = sio.loadmat(MIT0_fp + 'grid.mat', simplify_cells=True)['grid']\n",
    "NEMO_grid = sio.loadmat(NEMO_fp + 'grid.mat', simplify_cells=True)['grid']\n",
    "ASTE_grid = sio.loadmat(ASTE_fp + 'grid.mat', simplify_cells=True)['grid']\n",
    "\n",
    "MIT0_reg = sio.loadmat(MIT0_fp + 'regions.mat', simplify_cells=True)['regions']\n",
    "NEMO_reg = sio.loadmat(NEMO_fp + 'regions.mat', simplify_cells=True)['regions']\n",
    "ASTE_reg = sio.loadmat(ASTE_fp + 'regions.mat', simplify_cells=True)['regions']"
   ]
  },
  {
   "cell_type": "code",
   "execution_count": 5,
   "id": "d1c9795c-fb32-4795-9259-cb8377ea13df",
   "metadata": {},
   "outputs": [],
   "source": [
    "# Load Transects\n",
    "\n",
    "CBAR_coords = ([-144, 70], [25, 70])\n",
    "FRAM_coords = ([-20, 79], [12, 79])\n",
    "BFGY_coords = ([-144, 70], [-144, 83])\n",
    "\n",
    "MIT0_CBAR = Transect('CANBAR Transect', MIT0_grid, CBAR_coords[0], CBAR_coords[1])\n",
    "NEMO_CBAR = Transect('CANBAR Transect', NEMO_grid, CBAR_coords[0], CBAR_coords[1])\n",
    "\n",
    "MIT0_FRAM = Transect('FRAM Transect', MIT0_grid, FRAM_coords[0], FRAM_coords[1])\n",
    "NEMO_FRAM = Transect('FRAM Transect', NEMO_grid, FRAM_coords[0], FRAM_coords[1])\n",
    "\n",
    "MIT0_BFGY = Transect('Beaufort Gyre Transect', MIT0_grid, BFGY_coords[0], BFGY_coords[1])\n",
    "NEMO_BFGY = Transect('Beaufort Gyre Transect', NEMO_grid, BFGY_coords[0], BFGY_coords[1])\n"
   ]
  },
  {
   "cell_type": "markdown",
   "id": "91eca32e-6597-42e0-bb00-13e9ff86442a",
   "metadata": {},
   "source": [
    "# Data"
   ]
  },
  {
   "cell_type": "code",
   "execution_count": 6,
   "id": "7fcb9a38-2c62-4949-acec-a2fcf04b57da",
   "metadata": {},
   "outputs": [],
   "source": [
    "fields = {}\n",
    "anom_fields = {}"
   ]
  },
  {
   "cell_type": "markdown",
   "id": "8943be38-5f0b-4b85-bc83-80268c588e0a",
   "metadata": {},
   "source": [
    "## Temperature"
   ]
  },
  {
   "cell_type": "code",
   "execution_count": 7,
   "id": "6041b8df-fb63-4f9e-9d7c-54c1963b232c",
   "metadata": {},
   "outputs": [],
   "source": [
    "file_name = 'theta'\n",
    "field_name = 'theta'"
   ]
  },
  {
   "cell_type": "code",
   "execution_count": 8,
   "id": "33f3d0ee-3641-4cd5-ba95-966d9d1548d9",
   "metadata": {},
   "outputs": [
    {
     "name": "stderr",
     "output_type": "stream",
     "text": [
      "/home/jolerner/arcticMix/arctic_functions.py:230: RuntimeWarning: Mean of empty slice\n",
      "  new_data = np.nanmean(flat_data[idx], axis=1)\n"
     ]
    }
   ],
   "source": [
    "fields[field_name] = {}\n",
    "anom_fields[field_name] = {}\n",
    "\n",
    "data = sio.loadmat(WODC_fp + file_name + '_2005-2014avg.mat', simplify_cells=True)[field_name]\n",
    "fields[field_name]['WOD'] = Field('WOD', data['long_name'], data['units'], resample(data['data'], NEMO_grid, MIT0_grid), MIT0_grid, MIT0_reg)\n",
    "for run in runs:\n",
    "    data = sio.loadmat(MIT0_fp + run + '/' + run + '_'+ file_name +'_2008-2012avg.mat', simplify_cells=True)[field_name]\n",
    "    fields[field_name][run] = Field(run, data['long_name'], data['units'], data['data'], MIT0_grid, MIT0_reg)\n",
    "    anom_fields[field_name][run + '-WOD'] = Field(run + ' - WOD', data['long_name'], data['units'], \n",
    "                                                    fields[field_name][run].data - fields[field_name]['WOD'].data, MIT0_grid, MIT0_reg)\n",
    "    if run != 'CTL':\n",
    "        anom_fields[field_name][run + '-CTL'] = Field(run + ' - CTL', data['long_name'], data['units'], \n",
    "                                                        fields[field_name][run].data - fields[field_name]['CTL'].data, MIT0_grid, MIT0_reg)\n"
   ]
  },
  {
   "cell_type": "markdown",
   "id": "06608d8c-bb98-4c8f-8802-d3fa3bb4de10",
   "metadata": {},
   "source": [
    "### Vertical Gradient of Temperature"
   ]
  },
  {
   "cell_type": "code",
   "execution_count": 9,
   "id": "b48e8d18-bf7d-47d6-a911-f90a6208fccd",
   "metadata": {},
   "outputs": [],
   "source": [
    "fields['g_' + field_name] = {}\n",
    "anom_fields['g_' + field_name] = {}\n",
    "\n",
    "data = sio.loadmat(WODC_fp + file_name + '_2005-2014avg.mat', simplify_cells=True)[field_name]\n",
    "fields['g_' + field_name]['WOD'] = Field('WOD', 'Vertical Gradient of ' + data['long_name'], data['units'] + '/m', \n",
    "                      zGradient(resample(data['data'], NEMO_grid, MIT0_grid), np.abs(MIT0_grid['Depth'])), MIT0_grid, MIT0_reg)\n",
    "for run in runs:\n",
    "    data = sio.loadmat(MIT0_fp + run + '/' + run + '_'+ file_name +'_2008-2012avg.mat', simplify_cells=True)[field_name]\n",
    "    fields['g_' + field_name][run] = Field(run, 'Vertical Gradient of ' + data['long_name'], data['units'] + '/m', \n",
    "                        zGradient(data['data'], np.abs(MIT0_grid['Depth'])), MIT0_grid, MIT0_reg)\n",
    "    anom_fields['g_' + field_name][run + '-WOD'] = Field(run + ' - WOD', 'Vertical Gradient of ' + data['long_name'], data['units'] + '/m', \n",
    "                                        fields['g_' + field_name][run].data - fields['g_' + field_name]['WOD'].data, MIT0_grid, MIT0_reg)\n",
    "    if run != 'CTL':\n",
    "        anom_fields['g_' + field_name][run + '-CTL'] = Field(run + ' - CTL', 'Vertical Gradient of ' + data['long_name'], data['units'] + '/m', \n",
    "                                            fields['g_' + field_name][run].data - fields['g_' + field_name]['CTL'].data, MIT0_grid, MIT0_reg)\n"
   ]
  },
  {
   "cell_type": "markdown",
   "id": "d34e42fc-b2f4-4664-a4cb-0d1645294093",
   "metadata": {},
   "source": [
    "## Salinity"
   ]
  },
  {
   "cell_type": "code",
   "execution_count": 10,
   "id": "07dca273-efa2-47c7-9955-56afb8d030bd",
   "metadata": {},
   "outputs": [],
   "source": [
    "file_name = 'salinity'\n",
    "field_name = 'salinity'"
   ]
  },
  {
   "cell_type": "code",
   "execution_count": 11,
   "id": "27d5c6ea-1621-460e-88de-30972e9fd17d",
   "metadata": {},
   "outputs": [],
   "source": [
    "fields[field_name] = {}\n",
    "anom_fields[field_name] = {}\n",
    "\n",
    "data = sio.loadmat(WODC_fp + file_name + '_2005-2014avg.mat', simplify_cells=True)[field_name]\n",
    "fields[field_name]['WOD'] = Field('WOD', data['long_name'], data['units'], resample(data['data'], NEMO_grid, MIT0_grid), MIT0_grid, MIT0_reg)\n",
    "for run in runs:\n",
    "    data = sio.loadmat(MIT0_fp + run + '/' + run + '_'+ file_name +'_2008-2012avg.mat', simplify_cells=True)[field_name]\n",
    "    fields[field_name][run] = Field(run, data['long_name'], data['units'], data['data'], MIT0_grid, MIT0_reg)\n",
    "    anom_fields[field_name][run + '-WOD'] = Field(run + ' - WOD', data['long_name'], data['units'], \n",
    "                                                    fields[field_name][run].data - fields[field_name]['WOD'].data, MIT0_grid, MIT0_reg)\n",
    "    if run != 'CTL':\n",
    "        anom_fields[field_name][run + '-CTL'] = Field(run + ' - CTL', data['long_name'], data['units'], \n",
    "                                                        fields[field_name][run].data - fields[field_name]['CTL'].data, MIT0_grid, MIT0_reg)\n"
   ]
  },
  {
   "cell_type": "markdown",
   "id": "0c55c5cf-66dc-43f7-b8a9-fb3302855dc2",
   "metadata": {},
   "source": [
    "### Vertical Gradient of Salinity"
   ]
  },
  {
   "cell_type": "code",
   "execution_count": 12,
   "id": "983ffc30-f204-43e2-9834-f5bb197c133d",
   "metadata": {},
   "outputs": [],
   "source": [
    "fields['g_' + field_name] = {}\n",
    "anom_fields['g_' + field_name] = {}\n",
    "\n",
    "data = sio.loadmat(WODC_fp + file_name + '_2005-2014avg.mat', simplify_cells=True)[field_name]\n",
    "fields['g_' + field_name]['WOD'] = Field('WOD', 'Vertical Gradient of ' + data['long_name'], data['units'] + '/m', \n",
    "                      zGradient(resample(data['data'], NEMO_grid, MIT0_grid), np.abs(MIT0_grid['Depth'])), MIT0_grid, MIT0_reg)\n",
    "for run in runs:\n",
    "    data = sio.loadmat(MIT0_fp + run + '/' + run + '_'+ file_name +'_2008-2012avg.mat', simplify_cells=True)[field_name]\n",
    "    fields['g_' + field_name][run] = Field(run, 'Vertical Gradient of ' + data['long_name'], data['units'] + '/m', \n",
    "                        zGradient(data['data'], np.abs(MIT0_grid['Depth'])), MIT0_grid, MIT0_reg)\n",
    "    anom_fields['g_' + field_name][run + '-WOD'] = Field(run + ' - WOD', 'Vertical Gradient of ' + data['long_name'], data['units'] + '/m', \n",
    "                                        fields['g_' + field_name][run].data - fields['g_' + field_name]['WOD'].data, MIT0_grid, MIT0_reg)\n",
    "    if run != 'CTL':\n",
    "        anom_fields['g_' + field_name][run + '-CTL'] = Field(run + ' - CTL', 'Vertical Gradient of ' + data['long_name'], data['units'] + '/m', \n",
    "                                            fields['g_' + field_name][run].data - fields['g_' + field_name]['CTL'].data, MIT0_grid, MIT0_reg)\n"
   ]
  },
  {
   "cell_type": "markdown",
   "id": "439154ee-a1f8-4b95-b77d-dfaad19b0f82",
   "metadata": {},
   "source": [
    "## Stratification"
   ]
  },
  {
   "cell_type": "code",
   "execution_count": 13,
   "id": "c73eeadd-837e-4143-90f1-16fc7c6c2078",
   "metadata": {},
   "outputs": [],
   "source": [
    "field_name = 'strat'\n",
    "\n",
    "fields[field_name] = {}\n",
    "anom_fields[field_name] = {}\n",
    "\n",
    "pT = resample(sio.loadmat(WODC_fp + 'theta' + '_2005-2014avg.mat', simplify_cells=True)['theta']['data'], NEMO_grid, MIT0_grid)\n",
    "sP = resample(sio.loadmat(WODC_fp + 'salinity' + '_2005-2014avg.mat', simplify_cells=True)['salinity']['data'], NEMO_grid, MIT0_grid)\n",
    "fields[field_name]['WOD'] = Field('WOD', 'Stratification', r's$^{-2}$', \n",
    "                                  nsquared(sP, pT, MIT0_grid['lat'], MIT0_grid['lon'] + 180, NEMO_grid['Depth']), MIT0_grid, MIT0_reg)\n",
    "for run in runs:\n",
    "    pT = sio.loadmat(MIT0_fp + run + '/' + run + '_'+ 'theta' +'_2008-2012avg.mat', simplify_cells=True)['theta']['data']\n",
    "    sP = sio.loadmat(MIT0_fp + run + '/' + run + '_'+ 'salinity' +'_2008-2012avg.mat', simplify_cells=True)['salinity']['data']\n",
    "    fields[field_name][run] = Field(run, 'Stratification', r's$^{-2}$', \n",
    "                                    nsquared(sP, pT, MIT0_grid['lat'], MIT0_grid['lon'] + 180, MIT0_grid['Depth']), MIT0_grid, MIT0_reg)\n",
    "    anom_fields[field_name][run + '-WOD'] = Field(run + ' - WOD', data['long_name'], data['units'], \n",
    "                                                    fields[field_name][run].data - fields[field_name]['WOD'].data, MIT0_grid, MIT0_reg)\n",
    "    if run != 'CTL':\n",
    "        anom_fields[field_name][run + '-CTL'] = Field(run + ' - CTL', data['long_name'], data['units'], \n",
    "                                                        fields[field_name][run].data - fields[field_name]['CTL'].data, MIT0_grid, MIT0_reg)"
   ]
  },
  {
   "cell_type": "markdown",
   "id": "b7bd413e-4c79-4697-8134-470b71d6a007",
   "metadata": {},
   "source": [
    "## Vertical Diffusive Fluxes"
   ]
  },
  {
   "cell_type": "code",
   "execution_count": 14,
   "id": "aa97f8cd-5e9b-4b6f-b173-1bf07704942e",
   "metadata": {},
   "outputs": [],
   "source": [
    "file_name = 'DIFFzTH'\n",
    "field_name = 'Total'"
   ]
  },
  {
   "cell_type": "code",
   "execution_count": 15,
   "id": "1502eb2c-5512-462e-87d5-67c915d4daa8",
   "metadata": {},
   "outputs": [],
   "source": [
    "fields[file_name] = {}\n",
    "anom_fields[file_name] = {}\n",
    "\n",
    "data = sio.loadmat(ASTE_fp + 'CTL_' + file_name + '_2008-2012avg.mat', simplify_cells=True)[field_name]\n",
    "fields[file_name]['ASTE'] = Field('ASTE', data['long_name'], data['units'], MIT0_grid['vol']*resample(data['data']/ASTE_grid['vol'], ASTE_grid, MIT0_grid), MIT0_grid, MIT0_reg)\n",
    "for run in runs:\n",
    "    data = sio.loadmat(MIT0_fp + run + '/' + run + '_'+ file_name +'_2008-2012avg.mat', simplify_cells=True)[field_name]\n",
    "    fields[file_name][run] = Field(run, data['long_name'], data['units'], data['data'], MIT0_grid, MIT0_reg)\n",
    "    anom_fields[file_name][run + '-ASTE'] = Field(run + ' - ASTE', data['long_name'], data['units'], \n",
    "                                                    fields[file_name][run].data - fields[file_name]['ASTE'].data, MIT0_grid, MIT0_reg)\n",
    "    if run != 'CTL':\n",
    "        anom_fields[file_name][run + '-CTL'] = Field(run + ' - CTL', data['long_name'], data['units'], \n",
    "                                                        fields[file_name][run].data - fields[file_name]['CTL'].data, MIT0_grid, MIT0_reg)\n"
   ]
  },
  {
   "cell_type": "code",
   "execution_count": 16,
   "id": "3b701997-4116-4d38-b2e9-7284c4f1a61f",
   "metadata": {},
   "outputs": [],
   "source": [
    "file_name = 'DIFFzSLT'\n",
    "field_name = 'Total'"
   ]
  },
  {
   "cell_type": "code",
   "execution_count": 17,
   "id": "eab2fa1c-1485-45ad-aa1d-9db429f0679d",
   "metadata": {},
   "outputs": [],
   "source": [
    "fields[file_name] = {}\n",
    "anom_fields[file_name] = {}\n",
    "\n",
    "data = sio.loadmat(ASTE_fp + 'CTL_' + file_name + '_2008-2012avg.mat', simplify_cells=True)[field_name]\n",
    "fields[file_name]['ASTE'] = Field('ASTE', data['long_name'], data['units'], MIT0_grid['vol']*resample(data['data']/ASTE_grid['vol'], ASTE_grid, MIT0_grid), MIT0_grid, MIT0_reg)\n",
    "for run in runs:\n",
    "    data = sio.loadmat(MIT0_fp + run + '/' + run + '_'+ file_name +'_2008-2012avg.mat', simplify_cells=True)[field_name]\n",
    "    fields[file_name][run] = Field(run, data['long_name'], data['units'], data['data'], MIT0_grid, MIT0_reg)\n",
    "    anom_fields[file_name][run + '-ASTE'] = Field(run + ' - ASTE', data['long_name'], data['units'], \n",
    "                                                    fields[file_name][run].data - fields[file_name]['ASTE'].data, MIT0_grid, MIT0_reg)\n",
    "    if run != 'CTL':\n",
    "        anom_fields[file_name][run + '-CTL'] = Field(run + ' - CTL', data['long_name'], data['units'], \n",
    "                                                        fields[file_name][run].data - fields[file_name]['CTL'].data, MIT0_grid, MIT0_reg)\n"
   ]
  },
  {
   "cell_type": "markdown",
   "id": "c4ff0ce0-80fd-4bdc-a7a5-e12488da2023",
   "metadata": {},
   "source": [
    "## Vertical Eddy Diffusivity"
   ]
  },
  {
   "cell_type": "code",
   "execution_count": 40,
   "id": "7d04b9bf-ae04-461a-9618-4cdaabeb40e9",
   "metadata": {},
   "outputs": [],
   "source": [
    "file_name = 'kappa'\n",
    "field_name = 'kappa'"
   ]
  },
  {
   "cell_type": "code",
   "execution_count": 45,
   "id": "3ddf986d-4248-4228-9ed4-cf9236f91bea",
   "metadata": {},
   "outputs": [
    {
     "name": "stderr",
     "output_type": "stream",
     "text": [
      "/home/jolerner/arcticMix/arctic_functions.py:230: RuntimeWarning: Mean of empty slice\n",
      "  new_data = np.nanmean(flat_data[idx], axis=1)\n"
     ]
    }
   ],
   "source": [
    "fields[file_name] = {}\n",
    "anom_fields[file_name] = {}\n",
    "\n",
    "data = sio.loadmat(ASTE_fp + 'CTL_' + file_name + '_2008-2012avg.mat', simplify_cells=True)[field_name]\n",
    "fields[file_name]['ASTE'] = Field('ASTE', data['long_name'], data['units'], resample(data['data'], ASTE_grid, MIT0_grid), MIT0_grid, MIT0_reg)\n",
    "for run in runs:\n",
    "    data = sio.loadmat(MIT0_fp + run + '/' + run + '_'+ file_name +'_2008-2012avg.mat', simplify_cells=True)[field_name+'T']\n",
    "    fields[file_name][run] = Field(run, data['long_name'], data['units'], data['data'], MIT0_grid, MIT0_reg)\n",
    "    anom_fields[file_name][run + '-ASTE'] = Field(run + ' - ASTE', data['long_name'], 'c'+data['units'], \n",
    "                                                    10000*(fields[file_name][run].data - fields[file_name]['ASTE'].data), MIT0_grid, MIT0_reg)\n",
    "    if run != 'CTL':\n",
    "        anom_fields[file_name][run + '-CTL'] = Field(run + ' - CTL', data['long_name'], 'c'+data['units'], \n",
    "                                                        10000*(fields[file_name][run].data - fields[file_name]['CTL'].data), MIT0_grid, MIT0_reg)\n"
   ]
  },
  {
   "cell_type": "markdown",
   "id": "ec14ebc8-904c-4b53-8b17-8bdd92b89393",
   "metadata": {},
   "source": [
    "# Visualizations"
   ]
  },
  {
   "cell_type": "code",
   "execution_count": 60,
   "id": "cc50e69d-c54b-4b93-8ad5-4d10d4597236",
   "metadata": {},
   "outputs": [],
   "source": [
    "kwargs = {}\n",
    "anom_kwargs = {}\n",
    "\n",
    "kwargs['salinity'] = {'vmin':26, 'vmax':36, 'show':False}\n",
    "kwargs['theta'] = {'vmin':-6, 'vmax':6, 'show':False}\n",
    "kwargs['g_salinity'] = {'vmin':0, 'vmax':0.06, 'show':False}\n",
    "kwargs['g_theta'] = {'vmin':-0.04, 'vmax':0.04, 'show':False}\n",
    "kwargs['strat'] = {'vmin':0, 'vmax':0.006, 'show':False}\n",
    "kwargs['DIFFzTH'] = {'scale':'symlog', 'vmin':-4, 'vmax':4, 'show':False}\n",
    "kwargs['DIFFzSLT'] = {'scale':'symlog', 'vmin':-4, 'vmax':4, 'show':False}\n",
    "kwargs['kappa'] = {'scale':'log', 'vmin':-7, 'vmax':-1, 'show':False}\n",
    "\n",
    "anom_kwargs['salinity'] = {'vmin':-3, 'vmax':3, 'show':False}\n",
    "anom_kwargs['theta'] = {'vmin':-3, 'vmax':3, 'show':False}\n",
    "anom_kwargs['g_salinity'] = {'vmin':-0.03, 'vmax':0.03, 'show':False}\n",
    "anom_kwargs['g_theta'] = {'vmin':-0.02, 'vmax':0.02, 'show':False}\n",
    "anom_kwargs['strat'] = {'vmin':-0.003, 'vmax':0.003, 'show':False}\n",
    "anom_kwargs['DIFFzTH'] = {'scale':'symlog', 'vmin':-3, 'vmax':3, 'show':False}\n",
    "anom_kwargs['DIFFzSLT'] = {'scale':'symlog', 'vmin':-3, 'vmax':3, 'show':False}\n",
    "anom_kwargs['kappa'] = {'scale':'symlog', 'vmin':-3, 'vmax':3, 'show':False}"
   ]
  },
  {
   "cell_type": "code",
   "execution_count": null,
   "id": "4f5e0f0a-b2ab-4d68-b1c0-c356f92e2dfa",
   "metadata": {},
   "outputs": [],
   "source": [
    "field_names['salinity', 'theta', 'g_salinity', 'g_theta', 'strat', 'DIFFzTH', 'DIFFzSLT', 'kappa']fields = \n",
    "for field_name in field_names:\n",
    "    visualize_average_profiles([*fields[field_name].values()], show=False).savefig('vertProfile/' + field_name + '_avgProfiles.png')\n",
    "    for run in fields[field_name]:\n",
    "        MIT0_CBAR.visualize_transect(fields[field_name][run], **kwargs[field_name]).savefig(field_name + '/' + run + '_' + field_name + '_CanbarTransect.png')\n",
    "        MIT0_FRAM.visualize_transect(fields[field_name][run], **kwargs[field_name]).savefig(field_name + '/' + run + '_' + field_name + '_FramTransect.png')\n",
    "        MIT0_BFGY.visualize_transect(fields[field_name][run], **kwargs[field_name]).savefig(field_name + '/' + run + '_' + field_name + '_BeaufortTransect.png')\n",
    "    for run in anom_fields[field_name]:\n",
    "        MIT0_CBAR.visualize_transect(anom_fields[field_name][run], **anom_kwargs[field_name]).savefig(field_name + '/' + run + '_' + field_name + '_CanbarTransect.png')\n",
    "        MIT0_FRAM.visualize_transect(anom_fields[field_name][run], **anom_kwargs[field_name]).savefig(field_name + '/' + run + '_' + field_name + '_FramTransect.png')\n",
    "        MIT0_BFGY.visualize_transect(anom_fields[field_name][run], **anom_kwargs[field_name]).savefig(field_name + '/' + run + '_' + field_name + '_BeaufortTransect.png')\n"
   ]
  },
  {
   "cell_type": "markdown",
   "id": "1f691c12-69cc-4e7a-8b00-45caf2720a5e",
   "metadata": {},
   "source": [
    "## T-S Volume Census"
   ]
  },
  {
   "cell_type": "code",
   "execution_count": null,
   "id": "fec2c0d2-c185-4172-975d-94fb53621561",
   "metadata": {},
   "outputs": [],
   "source": [
    "kwargs = {'contour':contour, 'range':((26, 36), (-2.5, 7.5)), 'show':False}\n",
    "for run in fields['theta']:\n",
    "    volumeCensus(fields['salinity'][run], fields['theta'][run], **kwargs).savefig('volumeCensus/' + run + '_VolumeCensus.png')\n",
    "    if run != 'CTL' and run != 'WOD':\n",
    "        anomalyVolumeCensus([fields['salinity'][run], fields['salinity']['CTL']], [fields['theta'][run], fields['theta']['CTL']], vmin=-0.1, vmax=0.1, **kwargs).savefig('volumeCensus/' + run + '_CTLanomalyVolumeCensus.png')\n",
    "        anomalyVolumeCensus([fields['salinity'][run], fields['salinity']['WOD']], [fields['theta'][run], fields['theta']['WOD']], vmin=-0.1, vmax=0.1, **kwargs).savefig('volumeCensus/' + run + '_WODanomalyVolumeCensus.png')\n",
    "        "
   ]
  },
  {
   "cell_type": "code",
   "execution_count": null,
   "id": "7a1b4e30-3824-40ee-8ea9-833c5ae2e30d",
   "metadata": {},
   "outputs": [],
   "source": []
  }
 ],
 "metadata": {
  "kernelspec": {
   "display_name": "Python 3 (ipykernel)",
   "language": "python",
   "name": "python3"
  },
  "language_info": {
   "codemirror_mode": {
    "name": "ipython",
    "version": 3
   },
   "file_extension": ".py",
   "mimetype": "text/x-python",
   "name": "python",
   "nbconvert_exporter": "python",
   "pygments_lexer": "ipython3",
   "version": "3.12.3"
  }
 },
 "nbformat": 4,
 "nbformat_minor": 5
}
