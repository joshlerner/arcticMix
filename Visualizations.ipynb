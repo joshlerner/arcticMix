{
 "cells": [
  {
   "cell_type": "markdown",
   "id": "14f8024d-3da0-469e-9e55-b5296d1464c5",
   "metadata": {
    "jp-MarkdownHeadingCollapsed": true
   },
   "source": [
    "## Setup"
   ]
  },
  {
   "cell_type": "code",
   "execution_count": null,
   "id": "565a9911",
   "metadata": {},
   "outputs": [],
   "source": [
    "%load_ext autoreload\n",
    "%autoreload 2"
   ]
  },
  {
   "cell_type": "code",
   "execution_count": null,
   "id": "0b2a7004",
   "metadata": {},
   "outputs": [],
   "source": [
    "from arctic_objects import *\n",
    "from arctic_functions import *\n",
    "import scipy.io as sio\n",
    "import netCDF4 as nc\n",
    "import numpy as np"
   ]
  },
  {
   "cell_type": "code",
   "execution_count": null,
   "id": "ef02ba25",
   "metadata": {},
   "outputs": [],
   "source": [
    "# Get paths to mitGCM data files\n",
    "mitGCM_filepath = '/ocean/jolerner/data/mitGCM/'\n",
    "mitGCM_ncfiles = ['Arctic_CTLnew.nc', \n",
    "                'Arctic_LOnew.nc', \n",
    "                'Arctic_REGnew.nc', \n",
    "                'Arctic_HInew.nc', \n",
    "                'Arctic_OBSnew.nc']\n",
    "NEMO_filepath = '/ocean/jolerner/data/NEMO/'\n",
    "NEMO_ncfiles = ['ANHA4-EXH005_2012-2016avg_votkeavt.nc', \n",
    "                'ANHA4-EXH005_2012-2016avg_vosaline.nc',\n",
    "                'ANHA4-EXH005_2012-2016avg_votemper.nc']\n",
    "\n",
    "mitGCM_savepath = '/ocean/jolerner/plots/mitGCM/'\n",
    "NEMO_savepath = '/ocean/jolerner/plots/NEMO/'\n",
    "comp_savepath = '/ocean/jolerner/plots/Comparison/'\n",
    "\n",
    "# Load mitGCM vertical diffusivity and diffusive flux fields\n",
    "mitGCM_CTLvars = nc.Dataset(mitGCM_filepath + 'nc_files/' + mitGCM_ncfiles[0]).variables\n",
    "mitGCM_OBSvars = nc.Dataset(mitGCM_filepath + 'nc_files/' + mitGCM_ncfiles[-1]).variables\n",
    "\n",
    "contour={'func':potentialDensity, 'args':{'ref':0}}"
   ]
  },
  {
   "cell_type": "markdown",
   "id": "415b04a2-39ed-4dcd-8ce4-ee8475d6fd95",
   "metadata": {},
   "source": [
    "# Data"
   ]
  },
  {
   "cell_type": "markdown",
   "id": "bb12083e-909d-4d3c-9cfe-59c1d9f053fc",
   "metadata": {
    "jp-MarkdownHeadingCollapsed": true
   },
   "source": [
    "## mitGCM Grid and Regions"
   ]
  },
  {
   "cell_type": "code",
   "execution_count": null,
   "id": "b59855fb",
   "metadata": {},
   "outputs": [],
   "source": [
    "# Build the necessary grid data for mitGCM fields\n",
    "mitGCM_grid = {'lat': None, 'lon': None, 'Depth': None, 'vol': None, 'ocnmsk': None}\n",
    "for key in mitGCM_grid.keys():\n",
    "    mitGCM_grid[key] = sio.loadmat(mitGCM_filepath + 'mgrid')['mgrid'][key][0,0]\n",
    "mitGCM_grid['Depth'] = np.squeeze(mitGCM_grid['Depth'])"
   ]
  },
  {
   "cell_type": "code",
   "execution_count": null,
   "id": "33c16286",
   "metadata": {},
   "outputs": [],
   "source": [
    "#Build the necessary regional logicals for mitGCM fields\n",
    "mitGCM_reg = {'ARC': None, 'CB': None, 'EB': None, 'NAt': None, 'shelf': None, 'slope': None}\n",
    "for key in mitGCM_reg.keys():\n",
    "    mitGCM_reg[key] = sio.loadmat(mitGCM_filepath + 'regional_logicals')['ii_' + key]"
   ]
  },
  {
   "cell_type": "markdown",
   "id": "0aa83d2c-990c-40c1-9fc2-d10ae5b0513b",
   "metadata": {
    "jp-MarkdownHeadingCollapsed": true
   },
   "source": [
    "## NEMO Grid and Regions"
   ]
  },
  {
   "cell_type": "code",
   "execution_count": null,
   "id": "bdc6ae3b-300d-4879-96aa-12eadfff6587",
   "metadata": {},
   "outputs": [],
   "source": [
    "# Build the necessary grid data for NEMO fields\n",
    "NEMO_grid = {'lat': None, 'lon': None, 'Depth': None, 'vol': None, 'ocnmsk': None}\n",
    "mesh = nc.Dataset(NEMO_filepath + 'mesh_mask_anha4_201509.nc')\n",
    "NEMO_grid['lat'] = np.array(mesh.variables['nav_lat'])\n",
    "NEMO_grid['lon'] = np.array(mesh.variables['nav_lon'])\n",
    "NEMO_grid['Depth'] = -1*np.array(mesh.variables['nav_lev'])\n",
    "NEMO_grid['vol'] = np.moveaxis(mesh.variables['e1t'][0]*mesh.variables['e2t'][0]*mesh.variables['e3t'][0], 0, -1)\n",
    "NEMO_grid['ocnmsk'] = np.moveaxis(mesh.variables['tmask'][0], 0, -1)"
   ]
  },
  {
   "cell_type": "code",
   "execution_count": null,
   "id": "44f7317e-a2a2-4623-bae0-11864209bb1a",
   "metadata": {},
   "outputs": [],
   "source": [
    "import time\n",
    "s = time.time()\n",
    "NEMO_reg = makeRegions(mitGCM_reg, mitGCM_grid, NEMO_grid)\n",
    "print(time.time()-s)"
   ]
  },
  {
   "cell_type": "code",
   "execution_count": null,
   "id": "b61fad7c-6bcb-446a-af96-1498acc72136",
   "metadata": {},
   "outputs": [],
   "source": [
    "NEMO_regions = Field('NEMO', 'Regions', '', NEMO_grid,\n",
    "                       NEMO_reg['EB']+2.0*NEMO_reg['CB']+3.0*NEMO_reg['slope']+4.0*NEMO_reg['shelf'],\n",
    "                       reg_logic = NEMO_reg)\n",
    "fig = NEMO_regions.visualize_maps()"
   ]
  },
  {
   "cell_type": "code",
   "execution_count": null,
   "id": "67ac9e05-e7b4-4604-a31f-4e6904b57064",
   "metadata": {},
   "outputs": [],
   "source": [
    "mitGCM_regions = Field('mitGCM', 'Regions', '', mitGCM_grid,\n",
    "                       mitGCM_reg['EB']+2.0*mitGCM_reg['CB']+3.0*mitGCM_reg['slope']+4.0*mitGCM_reg['shelf'],\n",
    "                       reg_logic = mitGCM_reg)\n",
    "fig = mitGCM_regions.visualize_maps()"
   ]
  },
  {
   "cell_type": "markdown",
   "id": "059f7325-1afd-45ea-8cd3-adf0090f72c0",
   "metadata": {
    "jp-MarkdownHeadingCollapsed": true
   },
   "source": [
    "## Transects"
   ]
  },
  {
   "cell_type": "code",
   "execution_count": null,
   "id": "8cd19d5e",
   "metadata": {},
   "outputs": [],
   "source": [
    "# Make Transects\n",
    "canbar_start = np.array([-144.3258153, 70.29163412])\n",
    "canbar_end = np.array([25.05097782, 71.335544347])\n",
    "\n",
    "fram_start = np.array([-16.626389, 80.676944])\n",
    "fram_end = np.array([11.748611, 79.158611])\n",
    "\n",
    "mitGCM_canbarTransect = Transect('CANBAR Transect', mitGCM_grid, canbar_start, canbar_end)\n",
    "mitGCM_framTransect = Transect('FRAM Transect', mitGCM_grid, fram_start, fram_end)\n",
    "NEMO_canbarTransect = Transect('CANBAR Transect', NEMO_grid, canbar_start, canbar_end)\n",
    "NEMO_framTransect = Transect('FRAM Transect', NEMO_grid, fram_start, fram_end)"
   ]
  },
  {
   "cell_type": "markdown",
   "id": "de588400-d984-4067-9760-1e45396f8553",
   "metadata": {
    "jp-MarkdownHeadingCollapsed": true
   },
   "source": [
    "## Background Diffusivity"
   ]
  },
  {
   "cell_type": "code",
   "execution_count": null,
   "id": "2a0a0de7",
   "metadata": {},
   "outputs": [],
   "source": [
    "# Make mitGCM kappa background fields\n",
    "kappa_obs = sio.loadmat(mitGCM_filepath + 'kappa_OBS')['kappa']\n",
    "mitGCM_OBS_kappaBG = KappaBG('mitGCM Observational', mitGCM_grid, kappa_obs, reg_logic=mitGCM_reg)"
   ]
  },
  {
   "cell_type": "markdown",
   "id": "0579bb0c-9d59-4195-b86e-42c32dfce6bf",
   "metadata": {
    "jp-MarkdownHeadingCollapsed": true
   },
   "source": [
    "## Vertical Eddy Diffusivity"
   ]
  },
  {
   "cell_type": "code",
   "execution_count": null,
   "id": "afc941ab-57c8-4f19-85b7-063c93a4d764",
   "metadata": {},
   "outputs": [],
   "source": [
    "mitGCM_CTL_kappaT = Field('mitGCM Control', 'Vertical Eddy Diffusivity', r'$m^2/s$', mitGCM_grid, \n",
    "                          yearAvg(mitGCM_CTLvars, 'kappaT', (2008, 2013)), reg_logic=mitGCM_reg)"
   ]
  },
  {
   "cell_type": "code",
   "execution_count": null,
   "id": "c4bd4e4a-cf27-489e-94d3-45a1f1fc2c17",
   "metadata": {},
   "outputs": [],
   "source": [
    "mitGCM_OBS_kappaT = Field('mitGCM Observational', 'Vertical Eddy Diffusivity', r'$m^2/s$', mitGCM_grid, \n",
    "                          yearAvg(mitGCM_OBSvars, 'kappaT', (2008, 2013)), reg_logic=mitGCM_reg)"
   ]
  },
  {
   "cell_type": "code",
   "execution_count": null,
   "id": "9391a6fc-23b5-4e83-8ed3-a69bc04acb6e",
   "metadata": {},
   "outputs": [],
   "source": [
    "mitGCM_CMP_kappaT = Field('mitGCM Observational/Control', 'Vertical Eddy Diffusivity Fraction', '1', mitGCM_grid, \n",
    "                          mitGCM_OBS_kappaT.data/zero2Nan(mitGCM_CTL_kappaT.data), reg_logic=mitGCM_reg)"
   ]
  },
  {
   "cell_type": "code",
   "execution_count": null,
   "id": "c8662046-b967-4708-8e60-db88f71048f5",
   "metadata": {},
   "outputs": [],
   "source": [
    "NEMO_CTL_votkeavt = np.moveaxis(nc.Dataset(NEMO_filepath + NEMO_ncfiles[0]).variables['votkeavtfour'], 0, -1)\n",
    "NEMO_CTL_kappaFull = Field('NEMO Control', 'Vertical Eddy Diffusivity', r'$m^2/s$',  NEMO_grid, NEMO_CTL_votkeavt, reg_logic=NEMO_reg)"
   ]
  },
  {
   "cell_type": "code",
   "execution_count": null,
   "id": "6a950731-fc9b-43e3-b2bb-328c022c03e4",
   "metadata": {},
   "outputs": [],
   "source": [
    "mitGCM_RSP_kappaT = Field('mitGCM Resampled', 'Vertical Eddy Diffusivity', r'$m^2/s$', NEMO_grid, \n",
    "                          resample(yearAvg(mitGCM_CTLvars, 'kappaT', (2008, 2013)),\n",
    "                                   mitGCM_grid,\n",
    "                                   NEMO_grid), reg_logic=NEMO_reg)"
   ]
  },
  {
   "cell_type": "code",
   "execution_count": null,
   "id": "07ec4e5b-1102-405f-be61-1933f68b066c",
   "metadata": {},
   "outputs": [],
   "source": [
    "fig = visualize_average_profiles([mitGCM_RSP_kappaT, mitGCM_CTL_kappaT], scale='log')"
   ]
  },
  {
   "cell_type": "markdown",
   "id": "039deeaa-cc38-437b-8292-bc6bb7d7e615",
   "metadata": {
    "jp-MarkdownHeadingCollapsed": true
   },
   "source": [
    "## Vertical Diffusive Heat Flux"
   ]
  },
  {
   "cell_type": "code",
   "execution_count": null,
   "id": "4e95ed84-e11c-4025-824b-8a39e08dd961",
   "metadata": {},
   "outputs": [],
   "source": [
    "mitGCM_CTL_IdiffT = Field('mitGCM Control (Implicit)', 'Vertical Diffusive Heat Flux', r'$°C~m^3/s$', mitGCM_grid, \n",
    "                          yearAvg(mitGCM_CTLvars, 'DIFFz_TH_I', (2008, 2013)), reg_logic=mitGCM_reg)"
   ]
  },
  {
   "cell_type": "code",
   "execution_count": null,
   "id": "b1051b50-d701-439a-b6f4-7ef833af90d3",
   "metadata": {},
   "outputs": [],
   "source": [
    "mitGCM_CTL_EdiffT = Field('mitGCM Control (Explicit)', 'Vertical Diffusive Heat Flux', r'$°C~m^3/s$', mitGCM_grid, \n",
    "                          yearAvg(mitGCM_CTLvars, 'DIFFz_TH_E', (2008, 2013)), reg_logic=mitGCM_reg)"
   ]
  },
  {
   "cell_type": "code",
   "execution_count": null,
   "id": "fb4da5cc-7252-4bc3-8088-93fc46947c5f",
   "metadata": {},
   "outputs": [],
   "source": [
    "mitGCM_OBS_IdiffT = Field('mitGCM Observational (Implicit)', 'Vertical Diffusive Heat Flux', r'$°C~m^3/s$', mitGCM_grid, \n",
    "                          yearAvg(mitGCM_OBSvars, 'DIFFz_TH_I', (2008, 2013)), reg_logic=mitGCM_reg)"
   ]
  },
  {
   "cell_type": "code",
   "execution_count": null,
   "id": "f0078980-b6c5-4859-b33d-0e68d33b108a",
   "metadata": {},
   "outputs": [],
   "source": [
    "mitGCM_OBS_EdiffT = Field('mitGCM Observational (Explicit)', 'Vertical Diffusive Heat Flux', r'$°C~m^3/s$', mitGCM_grid, \n",
    "                          yearAvg(mitGCM_OBSvars, 'DIFFz_TH_E', (2008, 2013)), reg_logic=mitGCM_reg)"
   ]
  },
  {
   "cell_type": "code",
   "execution_count": null,
   "id": "63b20d6e-e4d1-4d70-a7fb-ff4c27b6569d",
   "metadata": {},
   "outputs": [],
   "source": [
    "mitGCM_CMP_IdiffT = Field('mitGCM Observational - Control (Implicit)', 'Vertical Diffusive Heat Flux', r'$°C~m^3/s$', mitGCM_grid, \n",
    "                          mitGCM_OBS_IdiffT.data - mitGCM_CTL_IdiffT.data, reg_logic=mitGCM_reg)"
   ]
  },
  {
   "cell_type": "code",
   "execution_count": null,
   "id": "252e40b0-6ae4-4645-83c1-1f778a4e1137",
   "metadata": {},
   "outputs": [],
   "source": [
    "mitGCM_CMP_EdiffT = Field('mitGCM Observational - Control (Explicit)', 'Vertical Diffusive Heat Flux', r'$°C~m^3/s$', mitGCM_grid, \n",
    "                          mitGCM_OBS_EdiffT.data - mitGCM_CTL_EdiffT.data, reg_logic=mitGCM_reg)"
   ]
  },
  {
   "cell_type": "markdown",
   "id": "23e001dc-40fb-42f2-8579-578bba3775dd",
   "metadata": {
    "jp-MarkdownHeadingCollapsed": true
   },
   "source": [
    "## Vertical Diffusive Salt Flux"
   ]
  },
  {
   "cell_type": "code",
   "execution_count": null,
   "id": "caf7d38b-4298-49a6-a91c-1c1c57a66713",
   "metadata": {},
   "outputs": [],
   "source": [
    "mitGCM_CTL_IdiffS = Field('mitGCM Control (Implicit)', 'Vertical Diffusive Salt Flux', r'$PSU~m^3/s$', mitGCM_grid, \n",
    "                          yearAvg(mitGCM_CTLvars, 'DIFFz_SLT_I', (2008, 2013)), reg_logic=mitGCM_reg)"
   ]
  },
  {
   "cell_type": "code",
   "execution_count": null,
   "id": "5797ab24-7895-44cf-ab16-c49cabaad07d",
   "metadata": {},
   "outputs": [],
   "source": [
    "mitGCM_CTL_EdiffS = Field('mitGCM Control (Explicit)', 'Vertical Diffusive Salt Flux', r'$PSU~m^3/s$', mitGCM_grid, \n",
    "                          yearAvg(mitGCM_CTLvars, 'DIFFz_SLT_E', (2008, 2013)), reg_logic=mitGCM_reg)"
   ]
  },
  {
   "cell_type": "code",
   "execution_count": null,
   "id": "07349958-67b1-4219-b260-78f0924d7fd6",
   "metadata": {},
   "outputs": [],
   "source": [
    "mitGCM_OBS_IdiffS = Field('mitGCM Observational (Implicit)', 'Vertical Diffusive Salt Flux', r'$PSU~m^3/s$', mitGCM_grid, \n",
    "                          yearAvg(mitGCM_OBSvars, 'DIFFz_SLT_I', (2008, 2013)), reg_logic=mitGCM_reg)"
   ]
  },
  {
   "cell_type": "code",
   "execution_count": null,
   "id": "89e97fe6-e7e0-4c15-8e6b-325803eaee62",
   "metadata": {},
   "outputs": [],
   "source": [
    "mitGCM_OBS_EdiffS = Field('mitGCM Observational (Explicit)', 'Vertical Diffusive Salt Flux', r'$PSU~m^3/s$', mitGCM_grid, \n",
    "                          yearAvg(mitGCM_OBSvars, 'DIFFz_SLT_E', (2008, 2013)), reg_logic=mitGCM_reg)"
   ]
  },
  {
   "cell_type": "code",
   "execution_count": null,
   "id": "63a5e132-95bf-4597-b2fc-2e58f1f9e971",
   "metadata": {},
   "outputs": [],
   "source": [
    "mitGCM_CMP_IdiffS = Field('mitGCM Observational - Control (Implicit)', 'Vertical Diffusive Salt Flux', r'$PSU~m^3/s$', mitGCM_grid, \n",
    "                          mitGCM_OBS_IdiffS.data - mitGCM_CTL_IdiffS.data, reg_logic=mitGCM_reg)"
   ]
  },
  {
   "cell_type": "code",
   "execution_count": null,
   "id": "722e28ca-1403-4202-b9c6-f6acb9f03c9f",
   "metadata": {},
   "outputs": [],
   "source": [
    "mitGCM_CMP_EdiffS = Field('mitGCM Observational - Control (Explicit)', 'Vertical Diffusive Salt Flux', r'$PSU~m^3/s$', mitGCM_grid, \n",
    "                          mitGCM_OBS_EdiffS.data - mitGCM_CTL_EdiffS.data, reg_logic=mitGCM_reg)"
   ]
  },
  {
   "cell_type": "markdown",
   "id": "fa816a7b-0086-458c-a976-47b138a1ac9f",
   "metadata": {
    "jp-MarkdownHeadingCollapsed": true
   },
   "source": [
    "## Temperature and Salinity"
   ]
  },
  {
   "cell_type": "code",
   "execution_count": null,
   "id": "ce0f154a-ed78-42e6-8951-f075b917ede7",
   "metadata": {},
   "outputs": [],
   "source": [
    "mitGCM_CTL_temp = Field('mitGCM Control', 'Temperature', '°C', mitGCM_grid, \n",
    "                          yearAvg(mitGCM_CTLvars, 'theta', (2008, 2013)), reg_logic=mitGCM_reg)"
   ]
  },
  {
   "cell_type": "code",
   "execution_count": null,
   "id": "d4dcb7b8-f3f9-489a-acc7-5989a339d3b1",
   "metadata": {},
   "outputs": [],
   "source": [
    "mitGCM_CTL_salt = Field('mitGCM Control', 'Salinity', 'PSU', mitGCM_grid, \n",
    "                          yearAvg(mitGCM_CTLvars, 'salinity', (2008, 2013)), reg_logic=mitGCM_reg)"
   ]
  },
  {
   "cell_type": "code",
   "execution_count": null,
   "id": "41cec6ac-8c87-4035-ba1c-00a9af787c6e",
   "metadata": {},
   "outputs": [],
   "source": [
    "mitGCM_OBS_temp = Field('mitGCM Observational', 'Temperature', '°C', mitGCM_grid, \n",
    "                          yearAvg(mitGCM_OBSvars, 'theta', (2008, 2013)), reg_logic=mitGCM_reg)"
   ]
  },
  {
   "cell_type": "code",
   "execution_count": null,
   "id": "201665e5-21dc-42dd-ab72-c915098e2ecb",
   "metadata": {},
   "outputs": [],
   "source": [
    "mitGCM_OBS_salt = Field('mitGCM Observational', 'Salinity', 'PSU', mitGCM_grid, \n",
    "                          yearAvg(mitGCM_OBSvars, 'salinity', (2008, 2013)), reg_logic=mitGCM_reg)"
   ]
  },
  {
   "cell_type": "code",
   "execution_count": null,
   "id": "080ab068-fdea-47d5-add2-ee055aa8a387",
   "metadata": {},
   "outputs": [],
   "source": [
    "mitGCM_CMP_temp = Field('mitGCM Observational - Control', 'Temperature', '°C', mitGCM_grid, \n",
    "                          mitGCM_OBS_temp.data - mitGCM_CTL_temp.data, reg_logic=mitGCM_reg)"
   ]
  },
  {
   "cell_type": "code",
   "execution_count": null,
   "id": "c3d7ed4c-48f7-4b47-a5e7-c67817a4b80e",
   "metadata": {},
   "outputs": [],
   "source": [
    "mitGCM_CMP_salt = Field('mitGCM Observational - Control', 'Salinity', 'PSU', mitGCM_grid, \n",
    "                          mitGCM_OBS_salt.data - mitGCM_CTL_salt.data, reg_logic=mitGCM_reg)"
   ]
  },
  {
   "cell_type": "code",
   "execution_count": null,
   "id": "f9f4e92a-c92d-4987-9bdc-e504f4ccb993",
   "metadata": {},
   "outputs": [],
   "source": [
    "NEMO_CTL_votemper = np.moveaxis(nc.Dataset(NEMO_filepath + NEMO_ncfiles[2]).variables['votemperfour'], 0, -1)\n",
    "NEMO_CTL_temp = Field('NEMO Control', 'Temperature', '°C',  NEMO_grid, NEMO_CTL_votemper, reg_logic=NEMO_reg)"
   ]
  },
  {
   "cell_type": "code",
   "execution_count": null,
   "id": "00c2c746-84ef-4111-8181-e6aafdbf33cd",
   "metadata": {},
   "outputs": [],
   "source": [
    "NEMO_CTL_vosaline = np.moveaxis(nc.Dataset(NEMO_filepath + NEMO_ncfiles[1]).variables['vosalinefour'], 0, -1)\n",
    "NEMO_CTL_salt = Field('NEMO Control', 'Salinity', 'PSU',  NEMO_grid, NEMO_CTL_vosaline, reg_logic=NEMO_reg)"
   ]
  },
  {
   "cell_type": "markdown",
   "id": "0f543b05-ddd4-42cf-a413-45419f6c290e",
   "metadata": {
    "jp-MarkdownHeadingCollapsed": true
   },
   "source": [
    "## Buoyancy Frequency"
   ]
  },
  {
   "cell_type": "code",
   "execution_count": null,
   "id": "dd25025a-c302-4536-9c81-9ee4193f8250",
   "metadata": {},
   "outputs": [],
   "source": [
    "mitGCM_CTL_nsquare = Field('mitGCM Control', r'N$^2$', r's$^{-2}$', mitGCM_grid, \n",
    "                           nsquared(mitGCM_CTL_salt.data, mitGCM_CTL_temp.data, mitGCM_grid['lat'], mitGCM_grid['Depth']), reg_logic=mitGCM_reg)"
   ]
  },
  {
   "cell_type": "code",
   "execution_count": null,
   "id": "6a23f06b-20c2-4293-abba-ec5b30ffe9f6",
   "metadata": {},
   "outputs": [],
   "source": [
    "mitGCM_OBS_nsquare = Field('mitGCM Observational', r'N$^2$', r's$^{-2}$', mitGCM_grid, \n",
    "                           nsquared(mitGCM_OBS_salt.data, mitGCM_OBS_temp.data, mitGCM_grid['lat'], mitGCM_grid['Depth']), reg_logic=mitGCM_reg)"
   ]
  },
  {
   "cell_type": "code",
   "execution_count": null,
   "id": "672a6cd0-9725-4219-a319-5d61c304ede1",
   "metadata": {},
   "outputs": [],
   "source": [
    "mitGCM_CMP_nsquare = Field('mitGCM Observational - Control', r'N$^2$', r's$^{-2}$', mitGCM_grid, \n",
    "                           mitGCM_OBS_nsquare.data - mitGCM_CTL_nsquare.data, reg_logic=mitGCM_reg)"
   ]
  },
  {
   "cell_type": "code",
   "execution_count": null,
   "id": "6433ebf4-aa44-49a7-aebb-751103909f00",
   "metadata": {},
   "outputs": [],
   "source": [
    "NEMO_CTL_nsquare = Field('NEMO Control', r'N$^2$', r's$^{-2}$', NEMO_grid,\n",
    "                        nsquared(NEMO_CTL_salt.data, NEMO_CTL_temp.data, NEMO_grid['lat'], NEMO_grid['Depth']), reg_logic=NEMO_reg)"
   ]
  },
  {
   "cell_type": "markdown",
   "id": "357f5f8c-4ee2-43b7-934f-44cf7a8274cd",
   "metadata": {
    "jp-MarkdownHeadingCollapsed": true
   },
   "source": [
    "# Visualizations"
   ]
  },
  {
   "cell_type": "markdown",
   "id": "e4b59bb2-74e8-425c-a9b7-321e5b0d44b0",
   "metadata": {},
   "source": [
    "## Vertical Eddy Diffusivity\n",
    "*Description*"
   ]
  },
  {
   "cell_type": "markdown",
   "id": "09903f09-f2d5-4888-bc2d-b01435e6a60f",
   "metadata": {},
   "source": [
    "**Distributions**"
   ]
  },
  {
   "cell_type": "code",
   "execution_count": null,
   "id": "ebdb7398-aec8-4e7c-b937-91566dfb6e7a",
   "metadata": {},
   "outputs": [],
   "source": [
    "mitGCM_CTL_kappaT.visualize_distributions(scale='log').savefig(mitGCM_savepath+'Control/CTL_kappaT_Distributions.png')"
   ]
  },
  {
   "cell_type": "code",
   "execution_count": null,
   "id": "f7a2160d-45ce-4bcf-8c2e-1e29450350cf",
   "metadata": {},
   "outputs": [],
   "source": [
    "mitGCM_OBS_kappaT.visualize_distributions(scale='log').savefig(mitGCM_savepath+'Observational/OBS_kappaT_Distributions.png')"
   ]
  },
  {
   "cell_type": "code",
   "execution_count": null,
   "id": "09c3c3f6-48ca-4f86-ac44-aab2f5b3378a",
   "metadata": {},
   "outputs": [],
   "source": [
    "NEMO_CTL_kappaFull.visualize_distributions(scale='log').savefig(NEMO_savepath+'Control/CTL_kappaFull_Distributions.png')"
   ]
  },
  {
   "cell_type": "markdown",
   "id": "0a7eff40-612c-4c46-a797-ad9263b9678a",
   "metadata": {
    "jp-MarkdownHeadingCollapsed": true
   },
   "source": [
    "**Maps**"
   ]
  },
  {
   "cell_type": "code",
   "execution_count": null,
   "id": "f3771dc1-8967-4507-b452-e9ec3a17cb13",
   "metadata": {},
   "outputs": [],
   "source": [
    "mitGCM_CTL_kappaT.visualize_maps(scale='log').savefig(mitGCM_savepath+'Control/CTL_kappaT_Maps.png')"
   ]
  },
  {
   "cell_type": "code",
   "execution_count": null,
   "id": "35f987de-1cec-4898-8d75-d9940bb99ef0",
   "metadata": {},
   "outputs": [],
   "source": [
    "mitGCM_OBS_kappaT.visualize_maps(scale='log').savefig(mitGCM_savepath+'Observational/OBS_kappaT_Maps.png')"
   ]
  },
  {
   "cell_type": "code",
   "execution_count": null,
   "id": "961d9198-9288-4abe-a918-e0017bf3f442",
   "metadata": {},
   "outputs": [],
   "source": [
    "NEMO_CTL_kappaFull.visualize_maps(scale='log').savefig(NEMO_savepath+'Control/CTL_kappaFull_Maps.png')"
   ]
  },
  {
   "cell_type": "markdown",
   "id": "5cb61660-9814-4e6b-8835-d43fc6c895eb",
   "metadata": {},
   "source": [
    "**Transects**"
   ]
  },
  {
   "cell_type": "code",
   "execution_count": null,
   "id": "eaf6e917-b4f5-430a-88d3-852894089b4f",
   "metadata": {},
   "outputs": [],
   "source": [
    "mitGCM_canbarTransect.visualize_transect(mitGCM_CTL_kappaT, scale='log').savefig(mitGCM_savepath+'Control/CTL_kappaT_CanbarTransect.png')"
   ]
  },
  {
   "cell_type": "code",
   "execution_count": null,
   "id": "cd2543b5-907a-4fa3-84e2-d9cab1f884a1",
   "metadata": {},
   "outputs": [],
   "source": [
    "mitGCM_framTransect.visualize_transect(mitGCM_CTL_kappaT, scale='log').savefig(mitGCM_savepath+'Control/CTL_kappaT_FramTransect.png')"
   ]
  },
  {
   "cell_type": "code",
   "execution_count": null,
   "id": "51732b03-d545-432d-96eb-d893c60b7164",
   "metadata": {},
   "outputs": [],
   "source": [
    "mitGCM_canbarTransect.visualize_transect(mitGCM_OBS_kappaT, scale='log').savefig(mitGCM_savepath+'Observational/OBS_kappaT_CanbarTransect.png')"
   ]
  },
  {
   "cell_type": "code",
   "execution_count": null,
   "id": "608a0305-269c-4016-b6cc-179f929112a9",
   "metadata": {},
   "outputs": [],
   "source": [
    "mitGCM_framTransect.visualize_transect(mitGCM_OBS_kappaT, scale='log').savefig(mitGCM_savepath+'Observational/OBS_kappaT_FramTransect.png')"
   ]
  },
  {
   "cell_type": "code",
   "execution_count": null,
   "id": "639a67f8-e721-4f9e-a110-bfde3aa6016f",
   "metadata": {},
   "outputs": [],
   "source": [
    "mitGCM_canbarTransect.visualize_transect(mitGCM_CMP_kappaT).savefig(mitGCM_savepath+'Comparison/CMP_kappaT_CanbarTransect.png')"
   ]
  },
  {
   "cell_type": "code",
   "execution_count": null,
   "id": "6d702230-cafe-425a-ab02-0b9e8d8787ac",
   "metadata": {},
   "outputs": [],
   "source": [
    "mitGCM_framTransect.visualize_transect(mitGCM_CMP_kappaT).savefig(mitGCM_savepath+'Comparison/CMP_kappaT_FramTransect.png')"
   ]
  },
  {
   "cell_type": "code",
   "execution_count": null,
   "id": "055f61df-7f1d-463d-8012-be2cacf45b6b",
   "metadata": {},
   "outputs": [],
   "source": [
    "NEMO_canbarTransect.visualize_transect(NEMO_CTL_kappaFull, scale='log').savefig(NEMO_savepath+'Control/CTL_kappaFull_CanbarTransect.png')"
   ]
  },
  {
   "cell_type": "code",
   "execution_count": null,
   "id": "2fb17fc2-3713-4b94-b161-d9ff4d7f2f60",
   "metadata": {},
   "outputs": [],
   "source": [
    "NEMO_framTransect.visualize_transect(NEMO_CTL_kappaFull, scale='log').savefig(NEMO_savepath+'Control/CTL_kappaFull_FramTransect.png')"
   ]
  },
  {
   "cell_type": "markdown",
   "id": "2014dc2e-5adb-4724-8ac2-d6d1c77ca949",
   "metadata": {},
   "source": [
    "**Vertical Profiles**"
   ]
  },
  {
   "cell_type": "code",
   "execution_count": null,
   "id": "ff298c35-2c76-4e3f-a0c4-f48bad4449f2",
   "metadata": {},
   "outputs": [],
   "source": [
    "mitGCM_CTL_kappaT.visualize_regional_profile(scale='log').savefig(mitGCM_savepath+'Control/CTL_kappaT_AverageProfile.png')"
   ]
  },
  {
   "cell_type": "code",
   "execution_count": null,
   "id": "28b63a11-7636-47c2-a19f-d73bf9ff0437",
   "metadata": {},
   "outputs": [],
   "source": [
    "mitGCM_OBS_kappaT.visualize_regional_profile(scale='log').savefig(mitGCM_savepath+'Observational/OBS_kappaT_AverageProfile.png')"
   ]
  },
  {
   "cell_type": "code",
   "execution_count": null,
   "id": "92eba530-ff2f-449f-86b5-684b587df168",
   "metadata": {},
   "outputs": [],
   "source": [
    "visualize_average_profiles([mitGCM_CTL_kappaT, mitGCM_OBS_kappaT], scale='log').savefig(mitGCM_savepath+'Comparison/kappaT_CompareProfile.png')"
   ]
  },
  {
   "cell_type": "code",
   "execution_count": null,
   "id": "69039ab6-5461-4a2a-ac1b-e8c44aac22c0",
   "metadata": {},
   "outputs": [],
   "source": [
    "NEMO_CTL_kappaFull.visualize_regional_profile(scale='log').savefig(NEMO_savepath+'Control/CTL_kappaFull_AverageProfile.png')"
   ]
  },
  {
   "cell_type": "code",
   "execution_count": null,
   "id": "7e85df59-c81a-44cc-b841-0ce711a235c8",
   "metadata": {},
   "outputs": [],
   "source": [
    "visualize_average_profiles([mitGCM_CTL_kappaT, NEMO_CTL_kappaFull], scale='log').savefig(comp_savepath+'kappaT_CompareProfile.png')"
   ]
  },
  {
   "cell_type": "markdown",
   "id": "36f60dbb-975d-4bba-9204-c0d1622f0c92",
   "metadata": {
    "jp-MarkdownHeadingCollapsed": true
   },
   "source": [
    "## Vertical Diffusive Heat Flux\n",
    "*Description*"
   ]
  },
  {
   "cell_type": "markdown",
   "id": "0214a16d-1d51-4488-b433-e91b9771b94f",
   "metadata": {},
   "source": [
    "**Distributions**"
   ]
  },
  {
   "cell_type": "code",
   "execution_count": null,
   "id": "a93fe088-d968-4efa-a7fb-2401a168372b",
   "metadata": {},
   "outputs": [],
   "source": [
    "mitGCM_CTL_IdiffT.visualize_distributions(scale='symlog').savefig(mitGCM_savepath+'Control/CTL_diffzT_Implicit_Distributions.png')"
   ]
  },
  {
   "cell_type": "code",
   "execution_count": null,
   "id": "e903d85a-d8f5-4836-a46e-395f0911bba0",
   "metadata": {},
   "outputs": [],
   "source": [
    "mitGCM_CTL_EdiffT.visualize_distributions(scale='symlog').savefig(mitGCM_savepath+'Control/CTL_diffzT_Explicit_Distributions.png')"
   ]
  },
  {
   "cell_type": "code",
   "execution_count": null,
   "id": "2d103d64-b0fe-47ec-a53d-db8d3441bb92",
   "metadata": {},
   "outputs": [],
   "source": [
    "mitGCM_OBS_IdiffT.visualize_distributions(scale='symlog').savefig(mitGCM_savepath+'Observational/OBS_diffzT_Implicit_Distributions.png')"
   ]
  },
  {
   "cell_type": "code",
   "execution_count": null,
   "id": "680d0d0d-3ac3-4af2-a1ea-f3bcd31483d5",
   "metadata": {},
   "outputs": [],
   "source": [
    "mitGCM_OBS_EdiffT.visualize_distributions(scale='symlog').savefig(mitGCM_savepath+'Observational/OBS_diffzT_Explicit_Distributions.png')"
   ]
  },
  {
   "cell_type": "markdown",
   "id": "1fcb9bce-900b-4f69-acdf-37f24e9d1230",
   "metadata": {},
   "source": [
    "**Maps**"
   ]
  },
  {
   "cell_type": "code",
   "execution_count": null,
   "id": "b604deb1-8fb0-4407-9d7a-8c29b773fe41",
   "metadata": {},
   "outputs": [],
   "source": [
    "mitGCM_CTL_IdiffT.visualize_maps(scale='symlog').savefig(mitGCM_savepath+'Control/CTL_diffzT_Implicit_Maps.png')"
   ]
  },
  {
   "cell_type": "code",
   "execution_count": null,
   "id": "627cd05e-083c-499a-971d-01401e6437ba",
   "metadata": {},
   "outputs": [],
   "source": [
    "mitGCM_CTL_EdiffT.visualize_maps(scale='symlog').savefig(mitGCM_savepath+'Control/CTL_diffzT_Explicit_Maps.png')"
   ]
  },
  {
   "cell_type": "code",
   "execution_count": null,
   "id": "926b9ca6-0be3-45ce-bebf-4ce72c49fd28",
   "metadata": {},
   "outputs": [],
   "source": [
    "mitGCM_OBS_IdiffT.visualize_maps(scale='symlog').savefig(mitGCM_savepath+'Observational/OBS_diffzT_Implicit_Maps.png')"
   ]
  },
  {
   "cell_type": "code",
   "execution_count": null,
   "id": "43a5a20a-36af-4bab-99be-e7a7ac3e500e",
   "metadata": {},
   "outputs": [],
   "source": [
    "mitGCM_OBS_EdiffT.visualize_maps(scale='symlog').savefig(mitGCM_savepath+'Observational/OBS_diffzT_Explicit_Maps.png')"
   ]
  },
  {
   "cell_type": "markdown",
   "id": "82effc45-8506-45de-ada2-8c4679435c3b",
   "metadata": {},
   "source": [
    "**Transects**"
   ]
  },
  {
   "cell_type": "code",
   "execution_count": null,
   "id": "97d6647e-0fbe-423e-ac3b-6e840e098a46",
   "metadata": {},
   "outputs": [],
   "source": [
    "mitGCM_canbarTransect.visualize_transect(mitGCM_CTL_IdiffT, scale='symlog').savefig(mitGCM_savepath+'Control/CTL_diffzT_Implicit_CanbarTransect.png')"
   ]
  },
  {
   "cell_type": "code",
   "execution_count": null,
   "id": "44c0bd87-aeac-4a08-a0ea-eea30131cb4d",
   "metadata": {},
   "outputs": [],
   "source": [
    "mitGCM_framTransect.visualize_transect(mitGCM_CTL_IdiffT, scale='symlog').savefig(mitGCM_savepath+'Control/CTL_diffzT_Implicit_FramTransect.png')"
   ]
  },
  {
   "cell_type": "code",
   "execution_count": null,
   "id": "8babd2d0-e3d5-4a50-9eb5-b3b6bf70cc84",
   "metadata": {},
   "outputs": [],
   "source": [
    "mitGCM_canbarTransect.visualize_transect(mitGCM_CTL_EdiffT, scale='symlog').savefig(mitGCM_savepath+'Control/CTL_diffzT_Explicit_CanbarTransect.png')"
   ]
  },
  {
   "cell_type": "code",
   "execution_count": null,
   "id": "5ae89c3e-967f-4f45-b1fb-9e4b16a9374d",
   "metadata": {},
   "outputs": [],
   "source": [
    "mitGCM_framTransect.visualize_transect(mitGCM_CTL_EdiffT, scale='symlog').savefig(mitGCM_savepath+'Control/CTL_diffzT_Explicit_FramTransect.png')"
   ]
  },
  {
   "cell_type": "code",
   "execution_count": null,
   "id": "12994a42-8628-488d-af1c-db31e3f8cb00",
   "metadata": {},
   "outputs": [],
   "source": [
    "mitGCM_canbarTransect.visualize_transect(mitGCM_OBS_IdiffT, scale='symlog').savefig(mitGCM_savepath+'Observational/OBS_diffzT_Implicit_CanbarTransect.png')"
   ]
  },
  {
   "cell_type": "code",
   "execution_count": null,
   "id": "4ac81830-352d-454b-a68c-5dbefe89f2aa",
   "metadata": {},
   "outputs": [],
   "source": [
    "mitGCM_framTransect.visualize_transect(mitGCM_OBS_IdiffT, scale='symlog').savefig(mitGCM_savepath+'Observational/OBS_diffzT_Implicit_FramTransect.png')"
   ]
  },
  {
   "cell_type": "code",
   "execution_count": null,
   "id": "fa38b563-443a-4021-ac39-a4e678fb3aac",
   "metadata": {},
   "outputs": [],
   "source": [
    "mitGCM_canbarTransect.visualize_transect(mitGCM_OBS_EdiffT, scale='symlog').savefig(mitGCM_savepath+'Observational/OBS_diffzT_Explicit_CanbarTransect.png')"
   ]
  },
  {
   "cell_type": "code",
   "execution_count": null,
   "id": "be87f88a-9af3-45a0-a69a-308d0e07d49a",
   "metadata": {},
   "outputs": [],
   "source": [
    "mitGCM_framTransect.visualize_transect(mitGCM_OBS_EdiffT, scale='symlog').savefig(mitGCM_savepath+'Observational/OBS_diffzT_Explicit_FramTransect.png')"
   ]
  },
  {
   "cell_type": "code",
   "execution_count": null,
   "id": "db6f8cfe-5ee4-4550-a691-39490fbc5ee1",
   "metadata": {},
   "outputs": [],
   "source": [
    "mitGCM_canbarTransect.visualize_transect(mitGCM_CMP_IdiffT).savefig(mitGCM_savepath+'Comparison/CMP_diffzT_Implicit_CanbarTransect.png')"
   ]
  },
  {
   "cell_type": "code",
   "execution_count": null,
   "id": "100b38e9-f396-448c-aa72-2758685c1eae",
   "metadata": {},
   "outputs": [],
   "source": [
    "mitGCM_framTransect.visualize_transect(mitGCM_CMP_IdiffT).savefig(mitGCM_savepath+'Comparison/CMP_diffzT_Implicit_FramTransect.png')"
   ]
  },
  {
   "cell_type": "code",
   "execution_count": null,
   "id": "859142e8-8b2f-456b-a60d-f5929c4beece",
   "metadata": {},
   "outputs": [],
   "source": [
    "mitGCM_canbarTransect.visualize_transect(mitGCM_CMP_EdiffT).savefig(mitGCM_savepath+'Comparison/CMP_diffzT_Explicit_CanbarTransect.png')"
   ]
  },
  {
   "cell_type": "code",
   "execution_count": null,
   "id": "5a30863b-dfda-491a-8dcc-4aa25a6439f1",
   "metadata": {},
   "outputs": [],
   "source": [
    "mitGCM_framTransect.visualize_transect(mitGCM_CMP_EdiffT).savefig(mitGCM_savepath+'Comparison/CMP_diffzT_Explicit_FramTransect.png')"
   ]
  },
  {
   "cell_type": "markdown",
   "id": "f2a53c87-7397-426e-93a4-71f94f786369",
   "metadata": {},
   "source": [
    "**Vertical Profiles**"
   ]
  },
  {
   "cell_type": "code",
   "execution_count": null,
   "id": "5f33d1a6-ddf9-4a56-a116-d0b0100c8ee0",
   "metadata": {},
   "outputs": [],
   "source": [
    "mitGCM_CTL_IdiffT.visualize_regional_profile(scale='symlog').savefig(mitGCM_savepath+'Control/CTL_diffzT_Implicit_AverageProfile.png')"
   ]
  },
  {
   "cell_type": "code",
   "execution_count": null,
   "id": "b2a033d3-a686-402c-a98b-c60f694c7e1f",
   "metadata": {},
   "outputs": [],
   "source": [
    "mitGCM_CTL_EdiffT.visualize_regional_profile(scale='symlog').savefig(mitGCM_savepath+'Control/CTL_diffzT_Explicit_AverageProfile.png')"
   ]
  },
  {
   "cell_type": "code",
   "execution_count": null,
   "id": "2ef21ee1-64d6-45bb-b4c1-a88c7a28cc00",
   "metadata": {},
   "outputs": [],
   "source": [
    "mitGCM_OBS_IdiffT.visualize_regional_profile(scale='symlog').savefig(mitGCM_savepath+'Observational/OBS_diffzT_Implicit_AverageProfile.png')"
   ]
  },
  {
   "cell_type": "code",
   "execution_count": null,
   "id": "9e913644-50d8-4ec6-83e0-20062c749e23",
   "metadata": {},
   "outputs": [],
   "source": [
    "mitGCM_OBS_EdiffT.visualize_regional_profile(scale='symlog').savefig(mitGCM_savepath+'Observational/OBS_diffzT_Explicit_AverageProfile.png')"
   ]
  },
  {
   "cell_type": "code",
   "execution_count": null,
   "id": "fd34619f-9cd1-48f1-ab85-db8de869c833",
   "metadata": {},
   "outputs": [],
   "source": [
    "visualize_average_profiles([mitGCM_CTL_IdiffT, mitGCM_OBS_IdiffT], scale='log').savefig(mitGCM_savepath+'Comparison/diffzT_Implicit_CompareProfile.png')"
   ]
  },
  {
   "cell_type": "code",
   "execution_count": null,
   "id": "d0dd1793-83b1-4fac-aa06-611404eede84",
   "metadata": {},
   "outputs": [],
   "source": [
    "visualize_average_profiles([mitGCM_CTL_EdiffT, mitGCM_OBS_EdiffT], scale='log').savefig(mitGCM_savepath+'Comparison/diffzT_Explicit_CompareProfile.png')"
   ]
  },
  {
   "cell_type": "markdown",
   "id": "17e70e1e-ea31-480e-b56f-48557b1f587a",
   "metadata": {
    "jp-MarkdownHeadingCollapsed": true
   },
   "source": [
    "## Vertical Diffusive Salt Flux\n",
    "*Description*"
   ]
  },
  {
   "cell_type": "markdown",
   "id": "1081e882-3a28-45da-b5d2-6f2454fbb6ab",
   "metadata": {},
   "source": [
    "**Distributions**"
   ]
  },
  {
   "cell_type": "code",
   "execution_count": null,
   "id": "a5d7ee88-0f8c-4d6c-bb91-4eb77a79afa5",
   "metadata": {},
   "outputs": [],
   "source": [
    "mitGCM_CTL_IdiffS.visualize_distributions(scale='symlog').savefig(mitGCM_savepath+'Control/CTL_diffzS_Implicit_Distributions.png')"
   ]
  },
  {
   "cell_type": "code",
   "execution_count": null,
   "id": "2884291b-3c00-427a-a729-a07da98b7fb7",
   "metadata": {},
   "outputs": [],
   "source": [
    "mitGCM_CTL_EdiffS.visualize_distributions(scale='symlog').savefig(mitGCM_savepath+'Control/CTL_diffzS_Explicit_Distributions.png')"
   ]
  },
  {
   "cell_type": "code",
   "execution_count": null,
   "id": "6feeb697-9e5c-4fc5-bb8d-ceab0895bfee",
   "metadata": {},
   "outputs": [],
   "source": [
    "mitGCM_OBS_IdiffS.visualize_distributions(scale='symlog').savefig(mitGCM_savepath+'Observational/OBS_diffzS_Implicit_Distributions.png')"
   ]
  },
  {
   "cell_type": "code",
   "execution_count": null,
   "id": "42a46239-f14f-4823-9bd5-945b9669eef3",
   "metadata": {},
   "outputs": [],
   "source": [
    "mitGCM_OBS_EdiffS.visualize_distributions(scale='symlog').savefig(mitGCM_savepath+'Observational/OBS_diffzS_Explicit_Distributions.png')"
   ]
  },
  {
   "cell_type": "markdown",
   "id": "4e2f58d0-3628-4d5e-9ae2-cf4539da43b8",
   "metadata": {},
   "source": [
    "**Maps**"
   ]
  },
  {
   "cell_type": "code",
   "execution_count": null,
   "id": "91eb17d6-3841-4fdb-9172-9ef5b0c7833f",
   "metadata": {},
   "outputs": [],
   "source": [
    "mitGCM_CTL_IdiffS.visualize_maps(scale='symlog').savefig(mitGCM_savepath+'Control/CTL_diffzS_Implicit_Maps.png')"
   ]
  },
  {
   "cell_type": "code",
   "execution_count": null,
   "id": "90d89bd1-9d2f-42ba-924c-18a4adfbe0ca",
   "metadata": {},
   "outputs": [],
   "source": [
    "mitGCM_CTL_EdiffS.visualize_maps(scale='symlog').savefig(mitGCM_savepath+'Control/CTL_diffzS_Explicit_Maps.png')"
   ]
  },
  {
   "cell_type": "code",
   "execution_count": null,
   "id": "b00b9dd5-b36b-4a6c-815e-8b533e4fe3e1",
   "metadata": {},
   "outputs": [],
   "source": [
    "mitGCM_OBS_IdiffS.visualize_maps(scale='symlog').savefig(mitGCM_savepath+'Observational/OBS_diffzS_Implicit_Maps.png')"
   ]
  },
  {
   "cell_type": "code",
   "execution_count": null,
   "id": "61737036-8122-4aad-b890-1a51db6fd971",
   "metadata": {},
   "outputs": [],
   "source": [
    "mitGCM_OBS_EdiffS.visualize_maps(scale='symlog').savefig(mitGCM_savepath+'Observational/OBS_diffzS_Explicit_Maps.png')"
   ]
  },
  {
   "cell_type": "markdown",
   "id": "3940e81a-6df7-4d4b-8914-2ad0c65a717b",
   "metadata": {},
   "source": [
    "**Transects**"
   ]
  },
  {
   "cell_type": "code",
   "execution_count": null,
   "id": "0fabe416-d139-4b37-9f40-04c8120498ec",
   "metadata": {},
   "outputs": [],
   "source": [
    "mitGCM_canbarTransect.visualize_transect(mitGCM_CTL_IdiffS, scale='symlog').savefig(mitGCM_savepath+'Control/CTL_diffzS_Implicit_CanbarTransect.png')"
   ]
  },
  {
   "cell_type": "code",
   "execution_count": null,
   "id": "38bfcb69-0ca2-44fd-aefa-b987bf639c36",
   "metadata": {},
   "outputs": [],
   "source": [
    "mitGCM_framTransect.visualize_transect(mitGCM_CTL_IdiffS, scale='symlog').savefig(mitGCM_savepath+'Control/CTL_diffzS_Implicit_FramTransect.png')"
   ]
  },
  {
   "cell_type": "code",
   "execution_count": null,
   "id": "abb8799f-9644-4f26-9407-dce96a1f7d68",
   "metadata": {},
   "outputs": [],
   "source": [
    "mitGCM_canbarTransect.visualize_transect(mitGCM_CTL_EdiffS, scale='symlog').savefig(mitGCM_savepath+'Control/CTL_diffzS_Explicit_CanbarTransect.png')"
   ]
  },
  {
   "cell_type": "code",
   "execution_count": null,
   "id": "112f2a36-7ca2-40e2-b641-89f691666744",
   "metadata": {},
   "outputs": [],
   "source": [
    "mitGCM_framTransect.visualize_transect(mitGCM_CTL_EdiffS, scale='symlog').savefig(mitGCM_savepath+'Control/CTL_diffzS_Explicit_FramTransect.png')"
   ]
  },
  {
   "cell_type": "code",
   "execution_count": null,
   "id": "cf9a09a1-61e7-4d6b-a907-e24cd0c1acbf",
   "metadata": {},
   "outputs": [],
   "source": [
    "mitGCM_canbarTransect.visualize_transect(mitGCM_OBS_IdiffS, scale='symlog').savefig(mitGCM_savepath+'Observational/OBS_diffzS_Implicit_CanbarTransect.png')"
   ]
  },
  {
   "cell_type": "code",
   "execution_count": null,
   "id": "823f324d-a952-4904-bf44-4d085b35f76e",
   "metadata": {},
   "outputs": [],
   "source": [
    "mitGCM_framTransect.visualize_transect(mitGCM_OBS_IdiffS, scale='symlog').savefig(mitGCM_savepath+'Observational/OBS_diffzS_Implicit_FramTransect.png')"
   ]
  },
  {
   "cell_type": "code",
   "execution_count": null,
   "id": "31e6fa0b-1e09-4df2-a62c-1fc47ff01304",
   "metadata": {},
   "outputs": [],
   "source": [
    "mitGCM_canbarTransect.visualize_transect(mitGCM_OBS_EdiffS, scale='symlog').savefig(mitGCM_savepath+'Observational/OBS_diffzS_Explicit_CanbarTransect.png')"
   ]
  },
  {
   "cell_type": "code",
   "execution_count": null,
   "id": "78afcba8-fa1c-4b32-a7bb-ae2b1e2fcbb0",
   "metadata": {},
   "outputs": [],
   "source": [
    "mitGCM_framTransect.visualize_transect(mitGCM_OBS_EdiffS, scale='symlog').savefig(mitGCM_savepath+'Observational/OBS_diffzS_Explicit_FramTransect.png')"
   ]
  },
  {
   "cell_type": "code",
   "execution_count": null,
   "id": "ddbf29b5-474d-4066-a4c4-296c7164cc43",
   "metadata": {},
   "outputs": [],
   "source": [
    "mitGCM_canbarTransect.visualize_transect(mitGCM_CMP_IdiffS).savefig(mitGCM_savepath+'Comparison/CMP_diffzS_Implicit_CanbarTransect.png')"
   ]
  },
  {
   "cell_type": "code",
   "execution_count": null,
   "id": "3f775747-85e6-4425-81b4-156789bf373d",
   "metadata": {},
   "outputs": [],
   "source": [
    "mitGCM_framTransect.visualize_transect(mitGCM_CMP_IdiffS).savefig(mitGCM_savepath+'Comparison/CMP_diffzS_Implicit_FramTransect.png')"
   ]
  },
  {
   "cell_type": "code",
   "execution_count": null,
   "id": "5ce8432c-dd7d-4d1c-86e4-5963071ca9e6",
   "metadata": {},
   "outputs": [],
   "source": [
    "mitGCM_canbarTransect.visualize_transect(mitGCM_CMP_EdiffS).savefig(mitGCM_savepath+'Comparison/CMP_diffzS_Explicit_CanbarTransect.png')"
   ]
  },
  {
   "cell_type": "code",
   "execution_count": null,
   "id": "c572218f-1d94-4cc5-ba46-a0f997185d44",
   "metadata": {},
   "outputs": [],
   "source": [
    "mitGCM_framTransect.visualize_transect(mitGCM_CMP_EdiffS).savefig(mitGCM_savepath+'Comparison/CMP_diffzS_Explicit_FramTransect.png')"
   ]
  },
  {
   "cell_type": "markdown",
   "id": "481bd3c6-ab53-4e60-ad72-8976febe982e",
   "metadata": {},
   "source": [
    "**Vertical Profiles**"
   ]
  },
  {
   "cell_type": "code",
   "execution_count": null,
   "id": "2c6dc1f0-1117-4a50-a3ef-3447afe7c7ec",
   "metadata": {},
   "outputs": [],
   "source": [
    "mitGCM_CTL_IdiffS.visualize_regional_profile(scale='symlog').savefig(mitGCM_savepath+'Control/CTL_diffzS_Implicit_AverageProfile.png')"
   ]
  },
  {
   "cell_type": "code",
   "execution_count": null,
   "id": "4bf6ffe8-64a0-4b8e-a012-ccb15eb156b8",
   "metadata": {},
   "outputs": [],
   "source": [
    "mitGCM_CTL_EdiffS.visualize_regional_profile(scale='symlog').savefig(mitGCM_savepath+'Control/CTL_diffzS_Explicit_AverageProfile.png')"
   ]
  },
  {
   "cell_type": "code",
   "execution_count": null,
   "id": "24632805-b9cc-45dc-9fd7-bd54bc5e71df",
   "metadata": {},
   "outputs": [],
   "source": [
    "mitGCM_OBS_IdiffS.visualize_regional_profile(scale='symlog').savefig(mitGCM_savepath+'Observational/OBS_diffzS_Implicit_AverageProfile.png')"
   ]
  },
  {
   "cell_type": "code",
   "execution_count": null,
   "id": "a632c3e0-2751-48e2-9d54-7ee9be066765",
   "metadata": {},
   "outputs": [],
   "source": [
    "mitGCM_OBS_EdiffS.visualize_regional_profile(scale='symlog').savefig(mitGCM_savepath+'Observational/OBS_diffzS_Explicit_AverageProfile.png')"
   ]
  },
  {
   "cell_type": "code",
   "execution_count": null,
   "id": "0ebc8df9-44ef-4fa7-aed1-8e905a59065f",
   "metadata": {},
   "outputs": [],
   "source": [
    "visualize_average_profiles([mitGCM_CTL_IdiffS, mitGCM_OBS_IdiffS], scale='log').savefig(mitGCM_savepath+'Comparison/diffzS_Implicit_CompareProfile.png')"
   ]
  },
  {
   "cell_type": "code",
   "execution_count": null,
   "id": "e145441c-b1ea-4df3-a9d9-4638c10849b8",
   "metadata": {},
   "outputs": [],
   "source": [
    "visualize_average_profiles([mitGCM_CTL_EdiffS, mitGCM_OBS_EdiffS], scale='log').savefig(mitGCM_savepath+'Comparison/diffzS_Explicit_CompareProfile.png')"
   ]
  },
  {
   "cell_type": "markdown",
   "id": "0538adee-0a15-4540-8b1e-b7e79e96c774",
   "metadata": {
    "jp-MarkdownHeadingCollapsed": true
   },
   "source": [
    "## Temperature and Salinity"
   ]
  },
  {
   "cell_type": "markdown",
   "id": "73c84422-a859-4436-9364-8a142724332f",
   "metadata": {},
   "source": [
    "**Distributions**"
   ]
  },
  {
   "cell_type": "code",
   "execution_count": null,
   "id": "61ee3428-c976-40c0-af3b-573cc5b33b22",
   "metadata": {},
   "outputs": [],
   "source": [
    "mitGCM_CTL_temp.visualize_distributions().savefig(mitGCM_savepath+'Control/CTL_temp_Distributions.png')"
   ]
  },
  {
   "cell_type": "code",
   "execution_count": null,
   "id": "618d4aaa-03e4-495b-9450-1cdf0b256bce",
   "metadata": {},
   "outputs": [],
   "source": [
    "mitGCM_CTL_salt.visualize_distributions().savefig(mitGCM_savepath+'Control/CTL_temp_Distributions.png')"
   ]
  },
  {
   "cell_type": "code",
   "execution_count": null,
   "id": "a9547e18-b411-4034-8112-3a894275dc0f",
   "metadata": {},
   "outputs": [],
   "source": [
    "mitGCM_OBS_temp.visualize_distributions().savefig(mitGCM_savepath+'Observational/OBS_temp_Distributions.png')"
   ]
  },
  {
   "cell_type": "code",
   "execution_count": null,
   "id": "7580ac82-3e7f-450c-8198-65ad919970d9",
   "metadata": {},
   "outputs": [],
   "source": [
    "mitGCM_OBS_salt.visualize_distributions().savefig(mitGCM_savepath+'Observational/OBS_temp_Distributions.png')"
   ]
  },
  {
   "cell_type": "code",
   "execution_count": null,
   "id": "5c150a3c-8010-4e14-bbb5-7f7decd61728",
   "metadata": {},
   "outputs": [],
   "source": [
    "NEMO_CTL_temp.visualize_distributions().savefig(NEMO_savepath+'Control/CTL_temp_Distributions.png')"
   ]
  },
  {
   "cell_type": "code",
   "execution_count": null,
   "id": "7fba283b-2c65-46fd-9ca3-8ca44586efb1",
   "metadata": {},
   "outputs": [],
   "source": [
    "NEMO_CTL_salt.visualize_distributions().savefig(NEMO_savepath+'Control/CTL_salt_Distributions.png')"
   ]
  },
  {
   "cell_type": "code",
   "execution_count": null,
   "id": "dd8cbdaa-8214-475c-a724-dfe49c96be94",
   "metadata": {},
   "outputs": [],
   "source": [
    "volumeCensus(mitGCM_CTL_salt, mitGCM_CTL_temp, contour=contour).savefig(mitGCM_savepath+'Control/CTL_temp_salt_VolumeCensus.png')"
   ]
  },
  {
   "cell_type": "code",
   "execution_count": null,
   "id": "6885cdf2-dd3e-4462-a39d-b6d268d6cd0f",
   "metadata": {},
   "outputs": [],
   "source": [
    "volumeCensus(mitGCM_CTL_salt, mitGCM_CTL_temp, reg='EB', contour=contour).savefig(mitGCM_savepath+'Control/CTL_temp_salt_EBVolumeCensus.png')"
   ]
  },
  {
   "cell_type": "code",
   "execution_count": null,
   "id": "6b392e97-0d4e-496b-9d21-7fdf63c23ea6",
   "metadata": {},
   "outputs": [],
   "source": [
    "volumeCensus(mitGCM_CTL_salt, mitGCM_CTL_temp, reg='CB', contour=contour).savefig(mitGCM_savepath+'Control/CTL_temp_salt_CBVolumeCensus.png')"
   ]
  },
  {
   "cell_type": "code",
   "execution_count": null,
   "id": "5c1e2b0b-0fab-41d4-83af-3a5c7458f4c3",
   "metadata": {},
   "outputs": [],
   "source": [
    "volumeCensus(mitGCM_CTL_salt, mitGCM_CTL_temp, reg='shelf', contour=contour).savefig(mitGCM_savepath+'Control/CTL_temp_salt_ShelfVolumeCensus.png')"
   ]
  },
  {
   "cell_type": "code",
   "execution_count": null,
   "id": "95c2a7d6-ae50-4454-bc3e-a8473d0311f4",
   "metadata": {},
   "outputs": [],
   "source": [
    "volumeCensus(mitGCM_CTL_salt, mitGCM_CTL_temp, reg='slope', contour=contour).savefig(mitGCM_savepath+'Control/CTL_temp_salt_SlopeVolumeCensus.png')"
   ]
  },
  {
   "cell_type": "code",
   "execution_count": null,
   "id": "53786bef-40b0-40e6-a13d-f4940825a40c",
   "metadata": {},
   "outputs": [],
   "source": [
    "volumeCensus(mitGCM_OBS_salt, mitGCM_OBS_temp, contour=contour).savefig(mitGCM_savepath+'Observational/OBS_temp_salt_VolumeCensus.png')"
   ]
  },
  {
   "cell_type": "code",
   "execution_count": null,
   "id": "5550021b-f4f0-47c5-947c-3c09ff32f892",
   "metadata": {},
   "outputs": [],
   "source": [
    "volumeCensus(mitGCM_OBS_salt, mitGCM_OBS_temp, reg='EB', contour=contour).savefig(mitGCM_savepath+'Observational/OBS_temp_salt_EBVolumeCensus.png')"
   ]
  },
  {
   "cell_type": "code",
   "execution_count": null,
   "id": "3a2b48b3-94f7-46bc-8605-f248d6660191",
   "metadata": {},
   "outputs": [],
   "source": [
    "volumeCensus(mitGCM_OBS_salt, mitGCM_OBS_temp, reg='CB', contour=contour).savefig(mitGCM_savepath+'Observational/OBS_temp_salt_CBVolumeCensus.png')"
   ]
  },
  {
   "cell_type": "code",
   "execution_count": null,
   "id": "d697c7ac-2d24-4404-930c-7944f745c45f",
   "metadata": {},
   "outputs": [],
   "source": [
    "volumeCensus(mitGCM_OBS_salt, mitGCM_OBS_temp, reg='shelf', contour=contour).savefig(mitGCM_savepath+'Observational/OBS_temp_salt_ShelfVolumeCensus.png')"
   ]
  },
  {
   "cell_type": "code",
   "execution_count": null,
   "id": "d1fb63f2-04cb-4e4c-b26a-50b1d8be61e3",
   "metadata": {},
   "outputs": [],
   "source": [
    "volumeCensus(mitGCM_OBS_salt, mitGCM_OBS_temp, reg='slope', contour=contour).savefig(mitGCM_savepath+'Observational/OBS_temp_salt_SlopeVolumeCensus.png')"
   ]
  },
  {
   "cell_type": "code",
   "execution_count": null,
   "id": "b904e2ec-324e-43ec-b479-756f970c7299",
   "metadata": {},
   "outputs": [],
   "source": [
    "volumeCensus(NEMO_CTL_salt, NEMO_CTL_temp, contour=contour).savefig(NEMO_savepath+'Control/CTL_temp_salt_VolumeCensus.png')"
   ]
  },
  {
   "cell_type": "code",
   "execution_count": null,
   "id": "471438fb-97a6-4cb1-b38e-bf09ff326f77",
   "metadata": {},
   "outputs": [],
   "source": [
    "volumeCensus(NEMO_CTL_salt, NEMO_CTL_temp, reg='EB', contour=contour).savefig(NEMO_savepath+'Control/CTL_temp_salt_EBVolumeCensus.png')"
   ]
  },
  {
   "cell_type": "code",
   "execution_count": null,
   "id": "d51769f2-20d4-4fa3-a1f2-0f238783e22c",
   "metadata": {},
   "outputs": [],
   "source": [
    "volumeCensus(NEMO_CTL_salt, NEMO_CTL_temp, reg='CB', contour=contour).savefig(NEMO_savepath+'Control/CTL_temp_salt_CBVolumeCensus.png')"
   ]
  },
  {
   "cell_type": "code",
   "execution_count": null,
   "id": "56fa64de-4af5-47a7-a12f-b5dae6008091",
   "metadata": {},
   "outputs": [],
   "source": [
    "volumeCensus(NEMO_CTL_salt, NEMO_CTL_temp, reg='shelf', contour=contour).savefig(NEMO_savepath+'Control/CTL_temp_salt_ShelfVolumeCensus.png')"
   ]
  },
  {
   "cell_type": "code",
   "execution_count": null,
   "id": "caca719e-b86d-4b99-82b6-be661817c5f9",
   "metadata": {},
   "outputs": [],
   "source": [
    "volumeCensus(NEMO_CTL_salt, NEMO_CTL_temp, reg='slope', contour=contour).savefig(NEMO_savepath+'Control/CTL_temp_salt_SlopeVolumeCensus.png')"
   ]
  },
  {
   "cell_type": "code",
   "execution_count": null,
   "id": "4604dc2f-db68-4a5a-a618-4b578ac03e3f",
   "metadata": {},
   "outputs": [],
   "source": [
    "anomalyVolumeCensus([mitGCM_OBS_salt, mitGCM_CTL_salt], [mitGCM_OBS_temp, mitGCM_CTL_temp], contour=contour, range=((20, 40), (-4, 34))).savefig(mitGCM_savepath+'Comparison/CMP_temp_salt_VolumeCensus.png')"
   ]
  },
  {
   "cell_type": "code",
   "execution_count": null,
   "id": "d53cc19d-5ca4-4229-9a36-ef9f6c043ec5",
   "metadata": {},
   "outputs": [],
   "source": [
    "anomalyVolumeCensus([mitGCM_OBS_salt, mitGCM_CTL_salt], [mitGCM_OBS_temp, mitGCM_CTL_temp], reg='EB', contour=contour, range=((20, 40), (-4, 34))).savefig(mitGCM_savepath+'Comparison/CMP_temp_salt_EBVolumeCensus.png')"
   ]
  },
  {
   "cell_type": "code",
   "execution_count": null,
   "id": "c34639aa-6344-410f-aa4a-5846aa9659aa",
   "metadata": {},
   "outputs": [],
   "source": [
    "anomalyVolumeCensus([mitGCM_OBS_salt, mitGCM_CTL_salt], [mitGCM_OBS_temp, mitGCM_CTL_temp], reg='CB', contour=contour, range=((20, 40), (-4, 34))).savefig(mitGCM_savepath+'Comparison/CMP_temp_salt_CBVolumeCensus.png')"
   ]
  },
  {
   "cell_type": "code",
   "execution_count": null,
   "id": "5fb7c9fb-d836-4b22-b927-ef3c8868307a",
   "metadata": {},
   "outputs": [],
   "source": [
    "anomalyVolumeCensus([mitGCM_OBS_salt, mitGCM_CTL_salt], [mitGCM_OBS_temp, mitGCM_CTL_temp], reg='shelf', contour=contour, range=((20, 40), (-4, 34))).savefig(mitGCM_savepath+'Comparison/CMP_temp_salt_ShelfVolumeCensus.png')"
   ]
  },
  {
   "cell_type": "code",
   "execution_count": null,
   "id": "faadb83f-346d-4cc2-9ef9-f61279095d90",
   "metadata": {},
   "outputs": [],
   "source": [
    "anomalyVolumeCensus([mitGCM_OBS_salt, mitGCM_CTL_salt], [mitGCM_OBS_temp, mitGCM_CTL_temp], reg='slope', contour=contour, range=((20, 40), (-4, 34))).savefig(mitGCM_savepath+'Comparison/CMP_temp_salt_SlopeVolumeCensus.png')"
   ]
  },
  {
   "cell_type": "code",
   "execution_count": null,
   "id": "eafd22e3-e607-4716-a1f5-b1721c689e67",
   "metadata": {},
   "outputs": [],
   "source": [
    "anomalyVolumeCensus([NEMO_CTL_salt, mitGCM_CTL_salt], [NEMO_CTL_temp, mitGCM_CTL_temp], contour=contour, range=((20, 40), (-4, 34))).savefig(comp_savepath+'temp_salt_anomalyVolumeCensus.png')"
   ]
  },
  {
   "cell_type": "code",
   "execution_count": null,
   "id": "1bc26af1-ec9a-4843-b8fb-a1c21a2e2de2",
   "metadata": {},
   "outputs": [],
   "source": [
    "anomalyVolumeCensus([NEMO_CTL_salt, mitGCM_CTL_salt], [NEMO_CTL_temp, mitGCM_CTL_temp], reg='EB', contour=contour, range=((20, 40), (-4, 34))).savefig(comp_savepath+'temp_salt_anomalyCBVolumeCensus.png')"
   ]
  },
  {
   "cell_type": "code",
   "execution_count": null,
   "id": "eac7109b-14dc-41d1-b35c-74509aca95b0",
   "metadata": {},
   "outputs": [],
   "source": [
    "anomalyVolumeCensus([NEMO_CTL_salt, mitGCM_CTL_salt], [NEMO_CTL_temp, mitGCM_CTL_temp], reg='CB', contour=contour, range=((20, 40), (-4, 34))).savefig(comp_savepath+'temp_salt_anomalyCBVolumeCensus.png')"
   ]
  },
  {
   "cell_type": "code",
   "execution_count": null,
   "id": "2787439f-0db7-4cdd-be79-32a934be6aa4",
   "metadata": {},
   "outputs": [],
   "source": [
    "anomalyVolumeCensus([NEMO_CTL_salt, mitGCM_CTL_salt], [NEMO_CTL_temp, mitGCM_CTL_temp], reg='shelf', contour=contour, range=((20, 40), (-4, 34))).savefig(comp_savepath+'temp_salt_anomalyShelfVolumeCensus.png')"
   ]
  },
  {
   "cell_type": "code",
   "execution_count": null,
   "id": "ed5377aa-957a-4730-8a46-3999cf69045d",
   "metadata": {},
   "outputs": [],
   "source": [
    "anomalyVolumeCensus([NEMO_CTL_salt, mitGCM_CTL_salt], [NEMO_CTL_temp, mitGCM_CTL_temp], reg='slope', contour=contour, range=((20, 40), (-4, 34))).savefig(comp_savepath+'temp_salt_anomalySlopeVolumeCensus.png')"
   ]
  },
  {
   "cell_type": "markdown",
   "id": "2d163561-e860-490e-b8dc-08968f5ac2ea",
   "metadata": {},
   "source": [
    "**Maps**"
   ]
  },
  {
   "cell_type": "code",
   "execution_count": null,
   "id": "269b4f10-060e-4abe-a504-61991660108b",
   "metadata": {},
   "outputs": [],
   "source": [
    "mitGCM_CTL_temp.visualize_maps().savefig(mitGCM_savepath+'Control/CTL_temp_Maps.png')"
   ]
  },
  {
   "cell_type": "code",
   "execution_count": null,
   "id": "249c1496-94de-4106-b7d5-32e170523181",
   "metadata": {},
   "outputs": [],
   "source": [
    "mitGCM_CTL_salt.visualize_maps().savefig(mitGCM_savepath+'Control/CTL_temp_Maps.png')"
   ]
  },
  {
   "cell_type": "code",
   "execution_count": null,
   "id": "a91b67dc-654e-46b1-8136-26c7bc8d1cf3",
   "metadata": {},
   "outputs": [],
   "source": [
    "mitGCM_OBS_temp.visualize_maps().savefig(mitGCM_savepath+'Observational/OBS_temp_Maps.png')"
   ]
  },
  {
   "cell_type": "code",
   "execution_count": null,
   "id": "5b56e11b-106a-4faf-90a6-f6496dbcbed3",
   "metadata": {},
   "outputs": [],
   "source": [
    "mitGCM_OBS_salt.visualize_maps().savefig(mitGCM_savepath+'Observational/OBS_temp_Maps.png')"
   ]
  },
  {
   "cell_type": "code",
   "execution_count": null,
   "id": "e6065275-79be-4146-9d23-11c771ac78a2",
   "metadata": {},
   "outputs": [],
   "source": [
    "NEMO_CTL_temp.visualize_maps(vmin=-5, vmax=30).savefig(NEMO_savepath+'Control/CTL_temp_Maps.png')"
   ]
  },
  {
   "cell_type": "code",
   "execution_count": null,
   "id": "91da3f31-b267-4c51-a391-22d24bafbc35",
   "metadata": {},
   "outputs": [],
   "source": [
    "NEMO_CTL_salt.visualize_maps().savefig(NEMO_savepath+'Control/CTL_salt_Maps.png')"
   ]
  },
  {
   "cell_type": "markdown",
   "id": "7dac5fb4-c6fb-4e58-b319-e069cacf416d",
   "metadata": {},
   "source": [
    "**Transects**"
   ]
  },
  {
   "cell_type": "code",
   "execution_count": null,
   "id": "ab052b29-5c14-4d55-9a9f-65a25700b894",
   "metadata": {},
   "outputs": [],
   "source": [
    "mitGCM_canbarTransect.visualize_transect(mitGCM_CTL_temp).savefig(mitGCM_savepath+'Control/CTL_temp_CanbarTransect.png')"
   ]
  },
  {
   "cell_type": "code",
   "execution_count": null,
   "id": "f5ce4e42-025d-48d7-b697-18ab5020c3b1",
   "metadata": {},
   "outputs": [],
   "source": [
    "mitGCM_framTransect.visualize_transect(mitGCM_CTL_temp).savefig(mitGCM_savepath+'Control/CTL_temp_FramTransect.png')"
   ]
  },
  {
   "cell_type": "code",
   "execution_count": null,
   "id": "79635430-0e40-4302-9c9f-123d852d43a0",
   "metadata": {},
   "outputs": [],
   "source": [
    "mitGCM_canbarTransect.visualize_transect(mitGCM_CTL_salt).savefig(mitGCM_savepath+'Control/CTL_salt_CanbarTransect.png')"
   ]
  },
  {
   "cell_type": "code",
   "execution_count": null,
   "id": "df5185d5-bb56-4288-8e72-ea9c05e2d9a0",
   "metadata": {},
   "outputs": [],
   "source": [
    "mitGCM_framTransect.visualize_transect(mitGCM_CTL_salt).savefig(mitGCM_savepath+'Control/CTL_salt_FramTransect.png')"
   ]
  },
  {
   "cell_type": "code",
   "execution_count": null,
   "id": "9eecfb7b-7285-4fef-a9cc-0833dabc28c9",
   "metadata": {},
   "outputs": [],
   "source": [
    "mitGCM_canbarTransect.visualize_transect(mitGCM_OBS_temp).savefig(mitGCM_savepath+'Observational/OBS_temp_CanbarTransect.png')"
   ]
  },
  {
   "cell_type": "code",
   "execution_count": null,
   "id": "ce610bc6-c0da-4cbe-82e0-584db1d6d0b0",
   "metadata": {},
   "outputs": [],
   "source": [
    "mitGCM_framTransect.visualize_transect(mitGCM_OBS_temp).savefig(mitGCM_savepath+'Observational/OBS_temp_FramTransect.png')"
   ]
  },
  {
   "cell_type": "code",
   "execution_count": null,
   "id": "2f3963a5-2cdc-4857-8929-4b163de4b580",
   "metadata": {},
   "outputs": [],
   "source": [
    "mitGCM_canbarTransect.visualize_transect(mitGCM_CMP_temp).savefig(mitGCM_savepath+'Comparison/CMP_temp_CanbarTransect.png')"
   ]
  },
  {
   "cell_type": "code",
   "execution_count": null,
   "id": "bcc943ec-015b-4cfa-86c6-bcc619c37fda",
   "metadata": {},
   "outputs": [],
   "source": [
    "mitGCM_framTransect.visualize_transect(mitGCM_CMP_temp).savefig(mitGCM_savepath+'Comparison/CMP_temp_FramTransect.png')"
   ]
  },
  {
   "cell_type": "code",
   "execution_count": null,
   "id": "33384352-5214-4858-b1b1-d9a677f968f3",
   "metadata": {},
   "outputs": [],
   "source": [
    "mitGCM_canbarTransect.visualize_transect(mitGCM_CMP_salt).savefig(mitGCM_savepath+'Comparison/CMP_salt_CanbarTransect.png')"
   ]
  },
  {
   "cell_type": "code",
   "execution_count": null,
   "id": "4487c07a-0348-4daf-ba01-915e1f709743",
   "metadata": {},
   "outputs": [],
   "source": [
    "mitGCM_framTransect.visualize_transect(mitGCM_CMP_salt).savefig(mitGCM_savepath+'Comparison/CMP_salt_FramTransect.png')"
   ]
  },
  {
   "cell_type": "code",
   "execution_count": null,
   "id": "4ac96d9c-33ae-42cc-b9b5-a19524d14800",
   "metadata": {},
   "outputs": [],
   "source": [
    "mitGCM_canbarTransect.visualize_transect(mitGCM_OBS_salt).savefig(mitGCM_savepath+'Observational/OBS_salt_CanbarTransect.png')"
   ]
  },
  {
   "cell_type": "code",
   "execution_count": null,
   "id": "3f3d9785-9ea5-48c0-8d2f-86a9a1c0e456",
   "metadata": {},
   "outputs": [],
   "source": [
    "mitGCM_framTransect.visualize_transect(mitGCM_OBS_salt).savefig(mitGCM_savepath+'Observational/OBS_salt_FramTransect.png')"
   ]
  },
  {
   "cell_type": "code",
   "execution_count": null,
   "id": "4448221e-e53d-4190-a45a-e70c50aeb67f",
   "metadata": {},
   "outputs": [],
   "source": [
    "NEMO_canbarTransect.visualize_transect(NEMO_CTL_temp).savefig(NEMO_savepath+'Control/CTL_temp_CanbarTransect.png')"
   ]
  },
  {
   "cell_type": "code",
   "execution_count": null,
   "id": "ea4343c6-79b3-41bc-98e5-897ccc3cb674",
   "metadata": {},
   "outputs": [],
   "source": [
    "NEMO_framTransect.visualize_transect(NEMO_CTL_temp).savefig(NEMO_savepath+'Control/CTL_temp_FramTransect.png')"
   ]
  },
  {
   "cell_type": "code",
   "execution_count": null,
   "id": "07d82bce-b5da-4f05-bed3-bdffb3204041",
   "metadata": {},
   "outputs": [],
   "source": [
    "NEMO_canbarTransect.visualize_transect(NEMO_CTL_salt).savefig(NEMO_savepath+'Control/CTL_salt_CanbarTransect.png')"
   ]
  },
  {
   "cell_type": "code",
   "execution_count": null,
   "id": "c0d04f76-dd51-453b-926a-6f8300b503f6",
   "metadata": {},
   "outputs": [],
   "source": [
    "NEMO_framTransect.visualize_transect(NEMO_CTL_salt).savefig(NEMO_savepath+'Control/CTL_salt_FramTransect.png')"
   ]
  },
  {
   "cell_type": "markdown",
   "id": "2ca55c33-73cf-4b2a-bb34-cedbdeacb76d",
   "metadata": {},
   "source": [
    "**Vertical Profiles**"
   ]
  },
  {
   "cell_type": "code",
   "execution_count": null,
   "id": "0046b8e8-fa06-418c-afde-6c764df26143",
   "metadata": {},
   "outputs": [],
   "source": [
    "mitGCM_CTL_temp.visualize_regional_profile().savefig(mitGCM_savepath+'Control/CTL_temp_AverageProfile.png')"
   ]
  },
  {
   "cell_type": "code",
   "execution_count": null,
   "id": "85d5b784-f0d0-49be-b8d3-338f23b39ede",
   "metadata": {},
   "outputs": [],
   "source": [
    "mitGCM_CTL_salt.visualize_regional_profile().savefig(mitGCM_savepath+'Control/CTL_temp_AverageProfile.png')"
   ]
  },
  {
   "cell_type": "code",
   "execution_count": null,
   "id": "7298f1a9-d775-44b8-8734-e2871c7f47c0",
   "metadata": {},
   "outputs": [],
   "source": [
    "mitGCM_OBS_temp.visualize_regional_profile().savefig(mitGCM_savepath+'Observational/OBS_temp_AverageProfile.png')"
   ]
  },
  {
   "cell_type": "code",
   "execution_count": null,
   "id": "4492cb4e-c741-4deb-90f3-55b1597b9d49",
   "metadata": {},
   "outputs": [],
   "source": [
    "mitGCM_OBS_salt.visualize_regional_profile().savefig(mitGCM_savepath+'Observational/OBS_temp_AverageProfile.png')"
   ]
  },
  {
   "cell_type": "code",
   "execution_count": null,
   "id": "19282ec4-5374-422b-9a77-e225fa6f24db",
   "metadata": {},
   "outputs": [],
   "source": [
    "visualize_average_profiles([mitGCM_CTL_temp, mitGCM_OBS_temp]).savefig(mitGCM_savepath+'Comparison/temp_CompareProfile.png')"
   ]
  },
  {
   "cell_type": "code",
   "execution_count": null,
   "id": "ce877aea-9f97-4679-8167-068a7a0b9314",
   "metadata": {},
   "outputs": [],
   "source": [
    "visualize_average_profiles([mitGCM_CTL_salt, mitGCM_OBS_salt]).savefig(mitGCM_savepath+'Comparison/salt_CompareProfile.png')"
   ]
  },
  {
   "cell_type": "code",
   "execution_count": null,
   "id": "c0a66c22-9b1d-4638-936e-57487f0ca101",
   "metadata": {},
   "outputs": [],
   "source": [
    "NEMO_CTL_temp.visualize_regional_profile().savefig(NEMO_savepath+'Control/CTL_temp_AverageProfile.png')"
   ]
  },
  {
   "cell_type": "code",
   "execution_count": null,
   "id": "05e424de-9039-4930-b944-33df552508d3",
   "metadata": {},
   "outputs": [],
   "source": [
    "NEMO_CTL_salt.visualize_regional_profile().savefig(NEMO_savepath+'Control/CTL_salt_AverageProfile.png')"
   ]
  },
  {
   "cell_type": "code",
   "execution_count": null,
   "id": "2f7577a4-6712-4dad-9862-fe3e0d272e66",
   "metadata": {},
   "outputs": [],
   "source": [
    "visualize_average_profiles([mitGCM_CTL_temp, NEMO_CTL_temp], scale='log').savefig(comp_savepath+'temp_CompareProfile.png')"
   ]
  },
  {
   "cell_type": "code",
   "execution_count": null,
   "id": "be7390f0-05a7-48a0-a5b9-443c873b54cb",
   "metadata": {},
   "outputs": [],
   "source": [
    "visualize_average_profiles([mitGCM_CTL_salt, NEMO_CTL_salt], scale='log').savefig(comp_savepath+'salt_CompareProfile.png')"
   ]
  },
  {
   "cell_type": "markdown",
   "id": "b68409fc-c5ff-41bf-8b9d-56dd6322c5bd",
   "metadata": {
    "jp-MarkdownHeadingCollapsed": true
   },
   "source": [
    "## Buoyancy Frequency\n",
    "*Description*"
   ]
  },
  {
   "cell_type": "markdown",
   "id": "0c05a65b-8310-4cbd-bcac-a33949d73461",
   "metadata": {},
   "source": [
    "**Distributions**"
   ]
  },
  {
   "cell_type": "code",
   "execution_count": null,
   "id": "98c11cad-e376-4acb-97a2-556e95393a18",
   "metadata": {},
   "outputs": [],
   "source": [
    "mitGCM_CTL_nsquare.visualize_distributions().savefig(mitGCM_savepath+'Control/CTL_nsquare_Distributions.png')"
   ]
  },
  {
   "cell_type": "code",
   "execution_count": null,
   "id": "ca373996-3163-46ef-a3cb-00624e3390cf",
   "metadata": {},
   "outputs": [],
   "source": [
    "mitGCM_OBS_nsquare.visualize_distributions().savefig(mitGCM_savepath+'Observational/OBS_nsquare_Distributions.png')"
   ]
  },
  {
   "cell_type": "code",
   "execution_count": null,
   "id": "1aed53a6-1f78-43f7-a8ea-148854d73b32",
   "metadata": {},
   "outputs": [],
   "source": [
    "NEMO_CTL_nsquare.visualize_distributions().savefig(NEMO_savepath+'Control/CTL_nsquare_Distributions.png')"
   ]
  },
  {
   "cell_type": "markdown",
   "id": "f0078126-f60c-47ed-b0fe-8490792417a1",
   "metadata": {},
   "source": [
    "**Maps**"
   ]
  },
  {
   "cell_type": "code",
   "execution_count": null,
   "id": "d62f19bc-640c-41c2-a8d0-fd38d39bba30",
   "metadata": {},
   "outputs": [],
   "source": [
    "mitGCM_CTL_nsquare.visualize_maps().savefig(mitGCM_savepath+'Control/CTL_nsquare_Maps.png')"
   ]
  },
  {
   "cell_type": "code",
   "execution_count": null,
   "id": "0094eef4-9bfe-4504-a7ce-ba6392d08701",
   "metadata": {},
   "outputs": [],
   "source": [
    "mitGCM_OBS_nsquare.visualize_maps().savefig(mitGCM_savepath+'Observational/OBS_nsquare_Maps.png')"
   ]
  },
  {
   "cell_type": "code",
   "execution_count": null,
   "id": "7cad7690-f276-484f-8cb2-686c57842439",
   "metadata": {},
   "outputs": [],
   "source": [
    "NEMO_CTL_nsquare.visualize_maps().savefig(NEMO_savepath+'Control/CTL_nsquare_Maps.png')"
   ]
  },
  {
   "cell_type": "markdown",
   "id": "bacd0704-91c4-4bf5-b1bc-572c2547d569",
   "metadata": {},
   "source": [
    "**Transects**"
   ]
  },
  {
   "cell_type": "code",
   "execution_count": null,
   "id": "eb3dd1f8-c973-4d09-9002-8b49603d621e",
   "metadata": {},
   "outputs": [],
   "source": [
    "mitGCM_canbarTransect.visualize_transect(mitGCM_CTL_nsquare).savefig(mitGCM_savepath+'Control/CTL_nsquare_CanbarTransect.png')"
   ]
  },
  {
   "cell_type": "code",
   "execution_count": null,
   "id": "7ee3629a-7fcf-4431-8a4e-8650e413c2a8",
   "metadata": {},
   "outputs": [],
   "source": [
    "mitGCM_framTransect.visualize_transect(mitGCM_CTL_nsquare).savefig(mitGCM_savepath+'Control/CTL_nsquare_FramTransect.png')"
   ]
  },
  {
   "cell_type": "code",
   "execution_count": null,
   "id": "8bb363d7-43fe-4f3e-9719-f313371866d4",
   "metadata": {},
   "outputs": [],
   "source": [
    "mitGCM_canbarTransect.visualize_transect(mitGCM_OBS_nsquare).savefig(mitGCM_savepath+'Observational/OBS_nsquare_CanbarTransect.png')"
   ]
  },
  {
   "cell_type": "code",
   "execution_count": null,
   "id": "f4df7389-3012-4286-8b32-736b21587c02",
   "metadata": {},
   "outputs": [],
   "source": [
    "mitGCM_framTransect.visualize_transect(mitGCM_OBS_nsquare).savefig(mitGCM_savepath+'Observational/OBS_nsquare_FramTransect.png')"
   ]
  },
  {
   "cell_type": "code",
   "execution_count": null,
   "id": "6de889de-0c5b-4ff0-8cc3-5184b0eec3f4",
   "metadata": {},
   "outputs": [],
   "source": [
    "mitGCM_canbarTransect.visualize_transect(mitGCM_CMP_nsquare).savefig(mitGCM_savepath+'Comparison/CMP_nsquare_CanbarTransect.png')"
   ]
  },
  {
   "cell_type": "code",
   "execution_count": null,
   "id": "fb172421-2cfe-4a73-9405-5bd9d61431ad",
   "metadata": {},
   "outputs": [],
   "source": [
    "mitGCM_framTransect.visualize_transect(mitGCM_CMP_nsquare).savefig(mitGCM_savepath+'Comparison/CMP_nsquare_FramTransect.png')"
   ]
  },
  {
   "cell_type": "code",
   "execution_count": null,
   "id": "a390924e-e75a-48a8-95b4-bb310af4891e",
   "metadata": {},
   "outputs": [],
   "source": [
    "NEMO_canbarTransect.visualize_transect(NEMO_CTL_nsquare).savefig(NEMO_savepath+'Control/CTL_nsquare_CanbarTransect.png')"
   ]
  },
  {
   "cell_type": "code",
   "execution_count": null,
   "id": "b5f10e3a-688e-4d31-a031-5ffa2fa1fc65",
   "metadata": {},
   "outputs": [],
   "source": [
    "NEMO_framTransect.visualize_transect(NEMO_CTL_nsquare).savefig(NEMO_savepath+'Control/CTL_nsquare_FramTransect.png')"
   ]
  },
  {
   "cell_type": "markdown",
   "id": "408c2d30-261d-4aaf-9d73-bca66a6cc377",
   "metadata": {},
   "source": [
    "**Vertical Profiles**"
   ]
  },
  {
   "cell_type": "code",
   "execution_count": null,
   "id": "e939f50f-ebd0-4d7a-884e-2b49bf9f35e9",
   "metadata": {},
   "outputs": [],
   "source": [
    "mitGCM_CTL_nsquare.visualize_regional_profile().savefig(mitGCM_savepath+'Control/CTL_nsquare_AverageProfile.png')"
   ]
  },
  {
   "cell_type": "code",
   "execution_count": null,
   "id": "500d6c26-b55f-4df4-a49f-ff55f4bfdaaa",
   "metadata": {},
   "outputs": [],
   "source": [
    "mitGCM_OBS_nsquare.visualize_regional_profile().savefig(mitGCM_savepath+'Observational/OBS_nsquare_AverageProfile.png')"
   ]
  },
  {
   "cell_type": "code",
   "execution_count": null,
   "id": "2f758723-a545-4f9b-9536-6a8e3c7f6d8a",
   "metadata": {},
   "outputs": [],
   "source": [
    "visualize_average_profiles([mitGCM_CTL_nsquare, mitGCM_OBS_nsquare]).savefig(mitGCM_savepath+'Comparison/nsquare_CompareProfile.png')"
   ]
  },
  {
   "cell_type": "code",
   "execution_count": null,
   "id": "2d922ab5-2dbb-4f66-9445-138d776b66d2",
   "metadata": {},
   "outputs": [],
   "source": [
    "NEMO_CTL_nsquare.visualize_regional_profile().savefig(NEMO_savepath+'Control/CTL_nsquare_AverageProfile.png')"
   ]
  },
  {
   "cell_type": "code",
   "execution_count": null,
   "id": "7d722a9e-b381-4ecc-986b-6150536cdb5b",
   "metadata": {},
   "outputs": [],
   "source": [
    "visualize_average_profiles([mitGCM_CTL_nsquare, NEMO_CTL_nsquare]).savefig(comp_savepath+'nsquare_CompareProfile.png')"
   ]
  },
  {
   "cell_type": "code",
   "execution_count": null,
   "id": "9d13df57-441e-4a7b-97da-24b8e31d7d6d",
   "metadata": {},
   "outputs": [],
   "source": []
  }
 ],
 "metadata": {
  "kernelspec": {
   "display_name": "Python 3 (ipykernel)",
   "language": "python",
   "name": "python3"
  },
  "language_info": {
   "codemirror_mode": {
    "name": "ipython",
    "version": 3
   },
   "file_extension": ".py",
   "mimetype": "text/x-python",
   "name": "python",
   "nbconvert_exporter": "python",
   "pygments_lexer": "ipython3",
   "version": "3.12.3"
  }
 },
 "nbformat": 4,
 "nbformat_minor": 5
}
